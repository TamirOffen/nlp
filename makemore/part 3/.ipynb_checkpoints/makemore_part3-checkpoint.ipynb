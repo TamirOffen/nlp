{
 "cells": [
  {
   "cell_type": "markdown",
   "id": "eeac5f12",
   "metadata": {},
   "source": [
    "# makemore part 3\n",
    "mlp cont. - Activations, Gradients, BatchNorm, and Pytorch"
   ]
  },
  {
   "cell_type": "code",
   "execution_count": 1,
   "id": "a54aad58",
   "metadata": {},
   "outputs": [],
   "source": [
    "import torch\n",
    "import torch.nn.functional as F\n",
    "import random\n",
    "import matplotlib.pyplot as plt\n",
    "%matplotlib inline"
   ]
  },
  {
   "cell_type": "code",
   "execution_count": 2,
   "id": "7caf905c",
   "metadata": {},
   "outputs": [
    {
     "data": {
      "text/plain": [
       "['emma', 'olivia', 'ava', 'isabella', 'sophia']"
      ]
     },
     "execution_count": 2,
     "metadata": {},
     "output_type": "execute_result"
    }
   ],
   "source": [
    "words = open('names.txt', 'r').read().splitlines()\n",
    "words[:5]"
   ]
  },
  {
   "cell_type": "code",
   "execution_count": 3,
   "id": "f4ba6fe8",
   "metadata": {},
   "outputs": [
    {
     "data": {
      "text/plain": [
       "32033"
      ]
     },
     "execution_count": 3,
     "metadata": {},
     "output_type": "execute_result"
    }
   ],
   "source": [
    "len(words)"
   ]
  },
  {
   "cell_type": "code",
   "execution_count": 4,
   "id": "f58e65cd",
   "metadata": {},
   "outputs": [
    {
     "name": "stdout",
     "output_type": "stream",
     "text": [
      "num of chars (and the special char .): 27\n"
     ]
    }
   ],
   "source": [
    "# build the vocab and mappings\n",
    "chars = sorted(list(set(''.join(words))))\n",
    "stoi = {s:(i+1) for i,s in enumerate(chars)}; stoi['.'] = 0\n",
    "itos = {i:s for s,i in stoi.items()}\n",
    "print(f'num of chars (and the special char .): {len(stoi)}')"
   ]
  },
  {
   "cell_type": "code",
   "execution_count": 5,
   "id": "bb211046",
   "metadata": {},
   "outputs": [
    {
     "name": "stdout",
     "output_type": "stream",
     "text": [
      "torch.Size([182625, 3]) torch.Size([182625])\n",
      "torch.Size([22655, 3]) torch.Size([22655])\n",
      "torch.Size([22866, 3]) torch.Size([22866])\n"
     ]
    }
   ],
   "source": [
    "def build_dataset(words, block_size):\n",
    "#     block_size = 3 # context length, which is the num of chars we take to predict the next char\n",
    "    X, Y = [], []\n",
    "    for w in words:\n",
    "        context = [0] * block_size\n",
    "        for ch in w + '.':\n",
    "            ix = stoi[ch]\n",
    "            X.append(context)\n",
    "            Y.append(ix)\n",
    "            context = context[1:] + [ix] # crop and append\n",
    "\n",
    "    X = torch.tensor(X)\n",
    "    Y = torch.tensor(Y)\n",
    "    print(X.shape, Y.shape)\n",
    "    return X, Y\n",
    "\n",
    "# data split: 80, 10, 10\n",
    "block_size = 3\n",
    "random.seed(42)\n",
    "random.shuffle(words)\n",
    "n1 = int(0.8 * len(words))\n",
    "n2 = int(0.9 * len(words))\n",
    "\n",
    "Xtr, Ytr = build_dataset(words[:n1], block_size)\n",
    "Xdev, Ydev = build_dataset(words[n1:n2], block_size)\n",
    "Xte, Yte = build_dataset(words[n2:], block_size)"
   ]
  },
  {
   "cell_type": "code",
   "execution_count": 6,
   "id": "b270e960",
   "metadata": {},
   "outputs": [],
   "source": [
    "# mlp def:\n",
    "g = torch.Generator().manual_seed(2147483647)\n",
    "n_embd = 10\n",
    "n_hidden = 200\n",
    "\n",
    "# model params:\n",
    "C = torch.randn((27,n_embd), generator=g) \n",
    "W1 = torch.randn((block_size*n_embd, n_hidden), generator=g)\n",
    "b1 = torch.randn(n_hidden, generator=g)\n",
    "W2 = torch.randn((n_hidden, 27), generator=g)\n",
    "b2 = torch.randn(27, generator=g)\n",
    "\n",
    "parameters = [C, W1, b1, W2, b2]\n",
    "for p in parameters:\n",
    "    p.requires_grad = True"
   ]
  },
  {
   "cell_type": "code",
   "execution_count": 7,
   "id": "542ce793",
   "metadata": {},
   "outputs": [
    {
     "name": "stdout",
     "output_type": "stream",
     "text": [
      "      0/ 200000: 27.8817\n",
      "  10000/ 200000: 2.8598\n",
      "  20000/ 200000: 2.5249\n",
      "  30000/ 200000: 2.8522\n",
      "  40000/ 200000: 2.0585\n",
      "  50000/ 200000: 2.5718\n",
      "  60000/ 200000: 2.3764\n",
      "  70000/ 200000: 2.1211\n",
      "  80000/ 200000: 2.2893\n",
      "  90000/ 200000: 2.3247\n",
      " 100000/ 200000: 2.0574\n",
      " 110000/ 200000: 2.4674\n",
      " 120000/ 200000: 1.9108\n",
      " 130000/ 200000: 2.4755\n",
      " 140000/ 200000: 2.1971\n",
      " 150000/ 200000: 2.1689\n",
      " 160000/ 200000: 2.1055\n",
      " 170000/ 200000: 1.8050\n",
      " 180000/ 200000: 2.0539\n",
      " 190000/ 200000: 1.8716\n"
     ]
    }
   ],
   "source": [
    "# model training:\n",
    "max_steps = 200_000\n",
    "batch_size = 32\n",
    "lossi = []\n",
    "\n",
    "for i in range(max_steps):\n",
    "    \n",
    "    # minibatch contruct\n",
    "    ix = torch.randint(0, Xtr.shape[0], (batch_size, ), generator=g)\n",
    "    Xb, Yb = Xtr[ix], Ytr[ix]\n",
    "    \n",
    "    # forward pass\n",
    "    emb = C[Xb] \n",
    "    embcat = emb.view(emb.shape[0], -1)\n",
    "    hpreact = embcat @ W1 + b1\n",
    "    h = torch.tanh(hpreact)\n",
    "    logits = h @ W2 + b2 \n",
    "    loss = F.cross_entropy(logits, Yb)\n",
    "\n",
    "    # backward pass\n",
    "    for p in parameters:\n",
    "        p.grad = None\n",
    "    loss.backward()\n",
    "\n",
    "    # update\n",
    "    lr = 0.1 if i < (max_steps/2) else 0.01\n",
    "    for p in parameters:\n",
    "        p.data += -lr * p.grad\n",
    "        \n",
    "    # stats\n",
    "    if i % (max_steps/20) == 0:\n",
    "        print(f'{i:7d}/{max_steps:7d}: {loss.item():.4f}')\n",
    "    lossi.append(loss.log10().item()) #log loss is less hockey stick like in the graph than just loss\n",
    "    \n",
    "#     break\n",
    "    "
   ]
  },
  {
   "cell_type": "code",
   "execution_count": 8,
   "id": "2c4eca72",
   "metadata": {},
   "outputs": [
    {
     "data": {
      "image/png": "[encoded data removed]",
      "text/plain": [
       "<Figure size 640x480 with 1 Axes>"
      ]
     },
     "metadata": {},
     "output_type": "display_data"
    }
   ],
   "source": [
    "_ = plt.plot(lossi)"
   ]
  },
  {
   "cell_type": "code",
   "execution_count": 9,
   "id": "9cc7056c",
   "metadata": {},
   "outputs": [],
   "source": [
    "@torch.no_grad() # disables gradient tracking\n",
    "def split_loss(split):\n",
    "    x, y = {\n",
    "        'train': (Xtr, Ytr),\n",
    "        'val': (Xdev, Ydev),\n",
    "        'test': (Xte, Yte)\n",
    "    } [split]\n",
    "    \n",
    "    # forward pass (evalution)\n",
    "    emb = C[x] \n",
    "    h = torch.tanh(emb.view(emb.shape[0], -1) @ W1 + b1)\n",
    "    logits = h @ W2 + b2 \n",
    "    loss = F.cross_entropy(logits, y)\n",
    "    \n",
    "    print(split, loss.item())\n",
    "    "
   ]
  },
  {
   "cell_type": "code",
   "execution_count": 10,
   "id": "91cc7649",
   "metadata": {},
   "outputs": [
    {
     "name": "stdout",
     "output_type": "stream",
     "text": [
      "train 2.127263069152832\n",
      "val 2.1711132526397705\n"
     ]
    }
   ],
   "source": [
    "split_loss('train')\n",
    "split_loss('val')"
   ]
  },
  {
   "cell_type": "code",
   "execution_count": 11,
   "id": "1f5a3b9b",
   "metadata": {},
   "outputs": [
    {
     "name": "stdout",
     "output_type": "stream",
     "text": [
      "milea\n",
      "kynn\n",
      "eithi\n",
      "demellen\n",
      "eathakwisie\n",
      "cary\n",
      "hoa\n",
      "addayla\n",
      "alshir\n",
      "nyda\n"
     ]
    }
   ],
   "source": [
    "for _ in range(10):\n",
    "    out = []\n",
    "    context = [0] * block_size # init . . .\n",
    "    while True:\n",
    "        emb = C[torch.tensor([context])] # (1, block_size, d)\n",
    "        h = torch.tanh(emb.view(1, -1) @ W1 + b1)\n",
    "        logits = h @ W2 + b2\n",
    "        probs = F.softmax(logits, dim=1)\n",
    "        ix = torch.multinomial(probs, num_samples=1).item()\n",
    "        context = context[1:] + [ix]\n",
    "        out.append(ix)\n",
    "        if ix == 0:\n",
    "            break\n",
    "    print(''.join(itos[i] for i in out)[:-1])"
   ]
  },
  {
   "cell_type": "markdown",
   "id": "53b71cc9",
   "metadata": {},
   "source": [
    "## problem 1: fixing the initial loss\n",
    "on epoch 0, the training loss is very high ~27. we expect it to be ~3.3 because our probs should be uniform (-ly bad). the reason for 3 is that we have 27 characters, at uniform dist we expect to get 1/27 probability, therefore the loss should be -log(1/27). we want our init logits to come out as 0s."
   ]
  },
  {
   "cell_type": "code",
   "execution_count": 12,
   "id": "8225eb64",
   "metadata": {},
   "outputs": [
    {
     "name": "stdout",
     "output_type": "stream",
     "text": [
      "y_true = 2\n",
      "\n",
      "good init\n",
      "probs: tensor([0.2500, 0.2500, 0.2500, 0.2500])\n",
      "loss: 1.3862943649291992\n",
      "\n",
      "bad init\n",
      "probs: tensor([2.7178e-07, 3.9567e-11, 4.2831e-13, 1.0000e+00])\n",
      "loss: 28.478927612304688\n"
     ]
    }
   ],
   "source": [
    "# 4-dim example of the issue\n",
    "y_true = random.randint(0,3)\n",
    "print(f\"y_true = {y_true}\", end='\\n\\n')\n",
    "# good init:\n",
    "print(\"good init\")\n",
    "logits = torch.tensor([0.0, 0.0, 0.0, 0.0])\n",
    "probs = torch.softmax(logits, dim=0)\n",
    "print(f'probs: {probs}')\n",
    "loss = -probs[y_true].log()\n",
    "print(f'loss: {loss}', end='\\n\\n')\n",
    "\n",
    "# bad init:\n",
    "print(\"bad init\")\n",
    "logits = torch.randn(4) * 10\n",
    "probs = torch.softmax(logits, dim=0)\n",
    "print(f'probs: {probs}')\n",
    "loss = -probs[y_true].log()\n",
    "print(f'loss: {loss}')"
   ]
  },
  {
   "cell_type": "markdown",
   "id": "1b4612ae",
   "metadata": {},
   "source": [
    "how do we make the probs be uniform? we need to make the logits uniform. \n",
    "\n",
    "how do we make the logits uniform? logits = h @ W2 + b2. therefore, we need to make W2 be close to 0, and b2 be 0 at init.\n",
    "\n",
    "note: we don't want to make W2 be 0 at init."
   ]
  },
  {
   "cell_type": "code",
   "execution_count": 13,
   "id": "068808ca",
   "metadata": {},
   "outputs": [],
   "source": [
    "# mlp def, with good init:\n",
    "g = torch.Generator().manual_seed(2147483647)\n",
    "n_embd = 10\n",
    "n_hidden = 200\n",
    "\n",
    "# model params:\n",
    "C = torch.randn((27,n_embd), generator=g) \n",
    "W1 = torch.randn((block_size*n_embd, n_hidden), generator=g)\n",
    "b1 = torch.randn(n_hidden, generator=g)\n",
    "W2 = torch.randn((n_hidden, 27), generator=g) * 0.01\n",
    "b2 = torch.randn(27, generator=g) * 0\n",
    "\n",
    "parameters = [C, W1, b1, W2, b2]\n",
    "for p in parameters:\n",
    "    p.requires_grad = True"
   ]
  },
  {
   "cell_type": "markdown",
   "id": "380d2c36",
   "metadata": {},
   "source": [
    "## problem 2: saturated tanh / relu / sigmoid\n",
    "recall $tanh(x)\\in [-1,1]$ for any $x \\in R$.\n",
    "\n",
    "**why is a saturated tanh bad?** recall that the backward step in gd for a tanh node is `self.grad += (1-tanh(x)**2) * out.grad`. if tanh is equal to either 1 or -1 (or close to it), the self.grad will be equal to 0, which means that the tanh node will propagate a 0 as it's gradient, effectively killing the gradient.\n",
    "\n",
    "**dead neurons**: below is an image of h (32 x 200) showing in white where tanh in abs is above 0.99. notice how each column in the matrix corresponds to a neuron in the first layer. if a neuron / column has all of its tanh values be above 0.99 (in abs), then no example will ever cause it to change because the backwards gradient will always die.\n",
    "\n",
    "By visualizing h, we can see that the majority of the values are -1 or 1, aka h is saturated."
   ]
  },
  {
   "cell_type": "code",
   "execution_count": 14,
   "id": "ae751830",
   "metadata": {
    "scrolled": false
   },
   "outputs": [
    {
     "data": {
      "image/png": "[encoded data removed]",
      "text/plain": [
       "<Figure size 640x480 with 1 Axes>"
      ]
     },
     "metadata": {},
     "output_type": "display_data"
    }
   ],
   "source": [
    "plt.hist(h.view(-1).tolist(), 50);"
   ]
  },
  {
   "cell_type": "markdown",
   "id": "1d5e9e91",
   "metadata": {},
   "source": [
    "hpreact (h before tanh) has a wide distribution of values (between -20 and 20). this causes the tanh to squash hpreact and might cause a lot of -1s and 1s."
   ]
  },
  {
   "cell_type": "code",
   "execution_count": 15,
   "id": "b1092ad6",
   "metadata": {},
   "outputs": [
    {
     "data": {
      "image/png": "[encoded data removed]",
      "text/plain": [
       "<Figure size 640x480 with 1 Axes>"
      ]
     },
     "metadata": {},
     "output_type": "display_data"
    }
   ],
   "source": [
    "plt.hist(hpreact.view(-1).tolist(), 50);"
   ]
  },
  {
   "cell_type": "code",
   "execution_count": 16,
   "id": "8cc3d38d",
   "metadata": {},
   "outputs": [
    {
     "data": {
      "image/png": "[encoded data removed]",
      "text/plain": [
       "<Figure size 2000x1000 with 1 Axes>"
      ]
     },
     "metadata": {},
     "output_type": "display_data"
    }
   ],
   "source": [
    "plt.figure(figsize=(20,10))\n",
    "plt.imshow(h.abs() > 0.99, cmap='gray', interpolation='nearest');\n",
    "# white if above 0.99, black otherwise\n",
    "# we see a lot of white. \n",
    "# in each case where the tanh abs value is above 0.99, the backward gradient will get destroyed"
   ]
  },
  {
   "cell_type": "markdown",
   "id": "87e8c1a6",
   "metadata": {},
   "source": [
    "fundamentally, we have the same problem as the bad init: hpreact has value that are too large, in abs value. because `hpreact = embcat @ W1 + b1`, we want to squash W1 and b1. this time it's ok if b1 is not 0 (for some good entropy), and that W1 is not super close to 0, just as long as the majority of the weights will not be saturated by the tanh."
   ]
  },
  {
   "cell_type": "code",
   "execution_count": 17,
   "id": "4c7d957b",
   "metadata": {},
   "outputs": [],
   "source": [
    "# mlp def, with good init and fixing the saturated tanh:\n",
    "g = torch.Generator().manual_seed(2147483647)\n",
    "n_embd = 10\n",
    "n_hidden = 200\n",
    "\n",
    "# model params:\n",
    "C = torch.randn((27,n_embd), generator=g) \n",
    "W1 = torch.randn((block_size*n_embd, n_hidden), generator=g) * 0.002\n",
    "b1 = torch.randn(n_hidden, generator=g) * 0.01\n",
    "W2 = torch.randn((n_hidden, 27), generator=g) * 0.01\n",
    "b2 = torch.randn(27, generator=g) * 0\n",
    "\n",
    "parameters = [C, W1, b1, W2, b2]\n",
    "for p in parameters:\n",
    "    p.requires_grad = True"
   ]
  },
  {
   "cell_type": "markdown",
   "id": "d8e7c314",
   "metadata": {},
   "source": [
    "## How to properly init the network using Kaiming init"
   ]
  },
  {
   "cell_type": "code",
   "execution_count": 18,
   "id": "1627d961",
   "metadata": {},
   "outputs": [
    {
     "name": "stdout",
     "output_type": "stream",
     "text": [
      "mean and stf of x: 0.004731904715299606, 0.997572124004364\n",
      "mean and stf of w: 0.013584963046014309, 0.9996063709259033\n",
      "\n",
      "y before kaiming init\n",
      "mean and stf of y: 0.004765931982547045, 3.157407522201538\n",
      "\n",
      "y after kaiming init\n",
      "mean and stf of y: 0.0015071200905367732, 0.9984599351882935\n"
     ]
    }
   ],
   "source": [
    "# example:\n",
    "x = torch.randn(1000, 10)\n",
    "w = torch.randn(10, 200)\n",
    "print(f'mean and stf of x: {x.mean()}, {x.std()}') \n",
    "print(f'mean and stf of w: {w.mean()}, {w.std()}', end='\\n\\n')\n",
    "\n",
    "y = x @ w\n",
    "print(\"y before kaiming init\")\n",
    "print(f'mean and stf of y: {y.mean()}, {y.std()}', end='\\n\\n') \n",
    "# notice how the mean of y stays at 0 (@ is a symmetric operation), but the std gets bigger.\n",
    "# we want to keep the std (spread) of y to be around 1.\n",
    "\n",
    "w = w / 10**0.5 # the 'fan in' of w is 10. so we divide by the sqrt(fan_in) = sqrt(10).\n",
    "y = x @ w\n",
    "print(\"y after kaiming init\")\n",
    "print(f'mean and stf of y: {y.mean()}, {y.std()}') \n",
    "# now y is normal\n"
   ]
  },
  {
   "cell_type": "markdown",
   "id": "c43026dd",
   "metadata": {},
   "source": [
    "according to kaiming we want to multiply the weights by:\n",
    "$$std=\\frac{gain}{\\sqrt{fan\\_in}}$$\n",
    "\n",
    "the gain for tanh is $\\frac{5}{3}$ and all together we multiply by $\\frac{5/3}{\\sqrt{3\\cdot10}}$ = ~0.3."
   ]
  },
  {
   "cell_type": "code",
   "execution_count": 19,
   "id": "5d17306c",
   "metadata": {},
   "outputs": [],
   "source": [
    "# mlp def, with good init and fixing the saturated tanh using kaiming:\n",
    "g = torch.Generator().manual_seed(2147483647)\n",
    "n_embd = 10\n",
    "n_hidden = 200\n",
    "\n",
    "# model params:\n",
    "C = torch.randn((27,n_embd), generator=g) \n",
    "W1 = torch.randn((block_size*n_embd, n_hidden), generator=g) * (5/3)/(block_size*n_embd)**0.5\n",
    "b1 = torch.randn(n_hidden, generator=g) * 0.01\n",
    "W2 = torch.randn((n_hidden, 27), generator=g) * 0.01\n",
    "b2 = torch.randn(27, generator=g) * 0\n",
    "\n",
    "parameters = [C, W1, b1, W2, b2]\n",
    "for p in parameters:\n",
    "    p.requires_grad = True"
   ]
  },
  {
   "cell_type": "markdown",
   "id": "ee74b4d9",
   "metadata": {},
   "source": [
    "## BatchNorm - layers that help in training, usually placed after multipication layers (conv, Linear, etc.)\n",
    "we can normalize every batch, because normalizing (subtract mean and divide by the std of the batch) is differentiable. now the examples within the same batch are effecting each other (could be seen as good because it acts as a regulizer).\n",
    "\n",
    "in our nn, we want to do this for hpreact, because if a value going into tanh is too small, tanh effectively does nothing $(1-0^2)\\cdot out.grad = out.grad$, and if the abs(value) is very big, tanh will kill it.\n",
    "\n",
    "we'll do this during training.\n",
    "\n",
    "we don't want to exactly get a mean of 0 and an std of 1 for every batch, instead we want to let the nn during backprop learn the dist. meaning that the dist. can shift / widen etc. we will add 2 learned params: $\\gamma$ that will scale and $\\beta$ that will shift the normalized batch. i.e. $y_i \\leftarrow \\gamma \\hat{x_i} + \\beta$."
   ]
  },
  {
   "cell_type": "code",
   "execution_count": 58,
   "id": "562ec244",
   "metadata": {},
   "outputs": [],
   "source": [
    "# mlp def, with good init and fixing the saturated tanh using kaiming, and batchnorm:\n",
    "g = torch.Generator().manual_seed(2147483647)\n",
    "n_embd = 10\n",
    "n_hidden = 200\n",
    "\n",
    "# model params:\n",
    "C = torch.randn((27,n_embd), generator=g) \n",
    "W1 = torch.randn((block_size*n_embd, n_hidden), generator=g) * (5/3)/(block_size*n_embd)**0.5\n",
    "# b1 = torch.randn(n_hidden, generator=g) * 0.01  # see note below\n",
    "W2 = torch.randn((n_hidden, 27), generator=g) * 0.01\n",
    "b2 = torch.randn(27, generator=g) * 0\n",
    "\n",
    "# BatchNorm Layer params:\n",
    "# at init, hpreact will be normalized, but the nn will learn the right params later in training.\n",
    "bngain = torch.ones((1, n_hidden))\n",
    "bnbias = torch.zeros((1, n_hidden))\n",
    "bnmean_running = torch.zeros((1, n_hidden))\n",
    "bnstd_running = torch.ones((1, n_hidden))\n",
    "\n",
    "parameters = [C, W1, W2, b2, bngain, bnbias]\n",
    "for p in parameters:\n",
    "    p.requires_grad = True"
   ]
  },
  {
   "cell_type": "markdown",
   "id": "12297f04",
   "metadata": {},
   "source": [
    "small note about bias and BatchNorm: we no longer need to add b1. this is because it will be removed in hpreact_normalized by the bnmean_i. in general, when using batchnorm, there is no need for bias in the layer before. (you can see this by `b1.grad` which is all 0s)"
   ]
  },
  {
   "cell_type": "code",
   "execution_count": 60,
   "id": "3c077df4",
   "metadata": {},
   "outputs": [
    {
     "name": "stdout",
     "output_type": "stream",
     "text": [
      "      0/ 200000: 3.2736\n",
      "  10000/ 200000: 2.3246\n",
      "  20000/ 200000: 2.0229\n",
      "  30000/ 200000: 2.0292\n",
      "  40000/ 200000: 2.0587\n",
      "  50000/ 200000: 2.8989\n",
      "  60000/ 200000: 2.1025\n",
      "  70000/ 200000: 2.8280\n",
      "  80000/ 200000: 2.5755\n",
      "  90000/ 200000: 2.2545\n",
      " 100000/ 200000: 2.0482\n",
      " 110000/ 200000: 1.8211\n",
      " 120000/ 200000: 1.8397\n",
      " 130000/ 200000: 2.4059\n",
      " 140000/ 200000: 2.4866\n",
      " 150000/ 200000: 2.4214\n",
      " 160000/ 200000: 2.1187\n",
      " 170000/ 200000: 2.1708\n",
      " 180000/ 200000: 2.1542\n",
      " 190000/ 200000: 2.0988\n"
     ]
    }
   ],
   "source": [
    "# model training:\n",
    "max_steps = 200_000\n",
    "batch_size = 32\n",
    "lossi = []\n",
    "\n",
    "for i in range(max_steps):\n",
    "    \n",
    "    # minibatch contruct\n",
    "    ix = torch.randint(0, Xtr.shape[0], (batch_size, ), generator=g)\n",
    "    Xb, Yb = Xtr[ix], Ytr[ix]\n",
    "    \n",
    "    # forward pass\n",
    "    emb = C[Xb] \n",
    "    embcat = emb.view(emb.shape[0], -1)\n",
    "    \n",
    "    # ---- Linear Layer -------\n",
    "    hpreact = embcat @ W1 #+ b1 see note above\n",
    "    \n",
    "    # ---- BatchNorm Layer ----\n",
    "    bnmean_i = hpreact.mean(dim=0, keepdim=True) # mean per batch \n",
    "    bnstd_i = hpreact.std(dim=0, keepdim=True) # std per batch \n",
    "    # update the running mean and std: (with momentum)\n",
    "    with torch.no_grad():\n",
    "        bnmean_running = 0.999 * bnmean_running + 0.001 * bnmean_i\n",
    "        bnstd_running = 0.999 * bnstd_running + 0.001 * bnstd_i\n",
    "    hpreact_normalized = bngain * ((hpreact  - bnmean_i) / bnstd_i) + bnbias\n",
    "    \n",
    "    # ---- non-linearity ------\n",
    "    h = torch.tanh(hpreact_normalized)\n",
    "    logits = h @ W2 + b2 \n",
    "    loss = F.cross_entropy(logits, Yb)\n",
    "\n",
    "    # backward pass\n",
    "    for p in parameters:\n",
    "        p.grad = None\n",
    "    loss.backward()\n",
    "\n",
    "    # update\n",
    "    lr = 0.1 if i < (max_steps/2) else 0.01\n",
    "    for p in parameters:\n",
    "        if p.grad is None:\n",
    "            print(p)\n",
    "        p.data += -lr * p.grad\n",
    "        \n",
    "    # stats\n",
    "    if i % (max_steps/20) == 0:\n",
    "        print(f'{i:7d}/{max_steps:7d}: {loss.item():.4f}')\n",
    "    lossi.append(loss.log10().item()) #log loss is less hockey stick like in the graph than just loss\n",
    "    \n",
    "#     break\n",
    "    "
   ]
  },
  {
   "cell_type": "markdown",
   "id": "a3835260",
   "metadata": {},
   "source": [
    "we got a problem regarding the batchnorm layer during test time, what values do we use? we are only given one example to run a forward pass on, and not a full batch of examples... we'll use the mean and std of the whole train set.\n",
    "\n",
    "below is how to do it at the end of training, but it is more efficient to do a running mean/std during training."
   ]
  },
  {
   "cell_type": "code",
   "execution_count": 61,
   "id": "36386521",
   "metadata": {},
   "outputs": [
    {
     "name": "stdout",
     "output_type": "stream",
     "text": [
      "diff in mean: 0.04073284566402435, diff in std: 0.11693449318408966\n"
     ]
    }
   ],
   "source": [
    "# calibrate the batch norm at the end of training\n",
    "with torch.no_grad():\n",
    "    # pass teh training set through\n",
    "    emb = C[Xtr]\n",
    "    embcat = emb.view(emb.shape[0], -1)\n",
    "    hpreact = embcat @ W1 + b1\n",
    "    # measure the mean and std of the entire training set Xtr\n",
    "    bnmean = hpreact.mean(0, keepdim=True)\n",
    "    bnstd = hpreact.std(0, keepdim=True)\n",
    "    \n",
    "# how similar are the running vs. true stats? pretty close\n",
    "diff_mean = torch.sum((bnmean_running - bnmean)**2)\n",
    "diff_std = torch.sum((bnstd_running - bnstd)**2)\n",
    "print(f'diff in mean: {diff_mean}, diff in std: {diff_std}')"
   ]
  },
  {
   "cell_type": "code",
   "execution_count": 62,
   "id": "186c9d6e",
   "metadata": {},
   "outputs": [],
   "source": [
    "# update the testing funcs forward pass to have a batchnorm layer\n",
    "@torch.no_grad() # disables gradient tracking\n",
    "def split_loss(split):\n",
    "    x, y = {\n",
    "        'train': (Xtr, Ytr),\n",
    "        'val': (Xdev, Ydev),\n",
    "        'test': (Xte, Yte)\n",
    "    } [split]\n",
    "    \n",
    "    # forward pass (evalution)\n",
    "    emb = C[x] \n",
    "    embcat = emb.view(emb.shape[0], -1)\n",
    "    hpreact = embcat @ W1 + b1\n",
    "    hpreact_normalized = bngain * ((hpreact  - bnmean_running) / bnstd_running) + bnbias\n",
    "    h = torch.tanh(hpreact_normalized)\n",
    "    logits = h @ W2 + b2 \n",
    "    loss = F.cross_entropy(logits, y)\n",
    "    \n",
    "    print(split, loss.item())\n",
    "    "
   ]
  },
  {
   "cell_type": "code",
   "execution_count": 63,
   "id": "1c17e888",
   "metadata": {},
   "outputs": [
    {
     "name": "stdout",
     "output_type": "stream",
     "text": [
      "train 2.0673139095306396\n",
      "val 2.105573892593384\n"
     ]
    }
   ],
   "source": [
    "split_loss('train')\n",
    "split_loss('val')"
   ]
  },
  {
   "cell_type": "markdown",
   "id": "62a3f276",
   "metadata": {},
   "source": [
    "## Pytorch-ifying the Code:"
   ]
  },
  {
   "cell_type": "code",
   "execution_count": 68,
   "id": "d61779f3",
   "metadata": {},
   "outputs": [],
   "source": [
    "class Linear:\n",
    "    def __init__(self, fan_in, fan_out, bias=True):\n",
    "        self.weigh = torch.randn((fan_in, fan_out), generator=g) / (fan_in**0.5)\n",
    "        self.bias = torch.zeros(fan_out) if bias else None\n",
    "    \n",
    "    def __call__(self, x):\n",
    "        self.out = x @ self.weight \n",
    "        if self.bias is not None:\n",
    "            self.out += self.bias\n",
    "        return self.out\n",
    "    \n",
    "    def parameters(self):\n",
    "        return [self.weight] + [[] if self.bias is None else [self.bias]]\n",
    "    \n",
    "    \n",
    "class BatchNorm1d:\n",
    "    def __init__(self, dim, eps=1e-5, momentum=0.1):\n",
    "        self.eps = eps\n",
    "        self.momentum = momentum\n",
    "        self.training = True\n",
    "        # params (trained with backprop)\n",
    "        self.gamma = torch.ones(dim)\n",
    "        self.beta = torch.zeros(dim)\n",
    "        # buffers (trained with a running momentum update)\n",
    "        self.running_mean = torch.zeros(dim)\n",
    "        self.running_var = torch.ones(dim)\n",
    "    \n",
    "    def __call__(self, x):\n",
    "        # calculate the forward pass\n",
    "        if self.training:\n",
    "            xmean = x.mean(dim=0, keepdim=True) # mean of each batch\n",
    "            xvar = x.std(dim=0, keepdim=True) # var of each batch\n",
    "        else:\n",
    "            xmean = self.running_mean\n",
    "            xvar = self.running_var\n",
    "        xhat = (x - xmean) / torch.sqrt(xvar + self.eps) # normalize the input x\n",
    "        self.out = self.gamma * xhat + self.beta\n",
    "        # update the buffers\n",
    "        if self.training:\n",
    "            with torch.no_grad():\n",
    "                self.running_mean = (1-self.momentum)*self.running_mean + (self.momentum)*xmean\n",
    "                self.running_var = (1-self.momentum)*self.running_var + (self.momentum)*xvar\n",
    "        return self.out\n",
    "    \n",
    "    def parameters(self):\n",
    "        return [self.gamma, self.beta]\n",
    "    \n",
    "    \n",
    "class Tanh:\n",
    "    def __init__(self):\n",
    "        pass\n",
    "    \n",
    "    def __call__(self):\n",
    "        pass\n",
    "    \n",
    "    def parameters(self):\n",
    "        pass\n",
    "    \n",
    "    "
   ]
  },
  {
   "cell_type": "code",
   "execution_count": null,
   "id": "26776000",
   "metadata": {},
   "outputs": [],
   "source": []
  }
 ],
 "metadata": {
  "kernelspec": {
   "display_name": "Python 3 (ipykernel)",
   "language": "python",
   "name": "python3"
  },
  "language_info": {
   "codemirror_mode": {
    "name": "ipython",
    "version": 3
   },
   "file_extension": ".py",
   "mimetype": "text/x-python",
   "name": "python",
   "nbconvert_exporter": "python",
   "pygments_lexer": "ipython3",
   "version": "3.9.6"
  }
 },
 "nbformat": 4,
 "nbformat_minor": 5
}

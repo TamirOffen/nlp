{
 "cells": [
  {
   "cell_type": "markdown",
   "id": "194188cf",
   "metadata": {},
   "source": [
    "# makemore - part 2\n",
    "mlp"
   ]
  },
  {
   "cell_type": "code",
   "execution_count": 1,
   "id": "ca4c0990",
   "metadata": {},
   "outputs": [],
   "source": [
    "import torch\n",
    "import torch.nn.functional as F\n",
    "import random\n",
    "import matplotlib.pyplot as plt\n",
    "%matplotlib inline"
   ]
  },
  {
   "cell_type": "markdown",
   "id": "fc1ca888",
   "metadata": {},
   "source": [
    "dataset"
   ]
  },
  {
   "cell_type": "code",
   "execution_count": 2,
   "id": "0a39723a",
   "metadata": {},
   "outputs": [
    {
     "data": {
      "text/plain": [
       "['emma', 'olivia', 'ava', 'isabella', 'sophia']"
      ]
     },
     "execution_count": 2,
     "metadata": {},
     "output_type": "execute_result"
    }
   ],
   "source": [
    "words = open('names.txt', 'r').read().splitlines()\n",
    "words[:5]"
   ]
  },
  {
   "cell_type": "code",
   "execution_count": 3,
   "id": "4a605646",
   "metadata": {},
   "outputs": [
    {
     "data": {
      "text/plain": [
       "32033"
      ]
     },
     "execution_count": 3,
     "metadata": {},
     "output_type": "execute_result"
    }
   ],
   "source": [
    "len(words)"
   ]
  },
  {
   "cell_type": "code",
   "execution_count": 4,
   "id": "750ae08a",
   "metadata": {},
   "outputs": [
    {
     "name": "stdout",
     "output_type": "stream",
     "text": [
      "num of chars (and the special char .): 27\n"
     ]
    }
   ],
   "source": [
    "# build the vocab and mappings\n",
    "chars = sorted(list(set(''.join(words))))\n",
    "stoi = {s:(i+1) for i,s in enumerate(chars)}; stoi['.'] = 0\n",
    "itos = {i:s for s,i in stoi.items()}\n",
    "print(f'num of chars (and the special char .): {len(stoi)}')"
   ]
  },
  {
   "cell_type": "markdown",
   "id": "e228ed64",
   "metadata": {},
   "source": [
    "dataset building:\n",
    "\n",
    "given a name 'emma', we will add the following examples to the dataset:\n",
    "\n",
    "```\n",
    "X   ---> Y\n",
    "... ---> e\n",
    "..e ---> m\n",
    ".em ---> m\n",
    "emm ---> a\n",
    "mma ---> .\n",
    "```"
   ]
  },
  {
   "cell_type": "code",
   "execution_count": 5,
   "id": "4ddcda2f",
   "metadata": {},
   "outputs": [
    {
     "name": "stdout",
     "output_type": "stream",
     "text": [
      "torch.Size([182625, 3]) torch.Size([182625])\n",
      "torch.Size([22655, 3]) torch.Size([22655])\n",
      "torch.Size([22866, 3]) torch.Size([22866])\n"
     ]
    }
   ],
   "source": [
    "def build_dataset(words):\n",
    "    block_size = 3 # context length, which is the num of chars we take to predict the next char\n",
    "    X, Y = [], []\n",
    "    for w in words:\n",
    "    #     print(w)\n",
    "        context = [0] * block_size\n",
    "        for ch in w + '.':\n",
    "            ix = stoi[ch]\n",
    "            X.append(context)\n",
    "            Y.append(ix)\n",
    "    #         print(''.join(itos[i] for i in context), '--->', itos[ix])\n",
    "    #         print(context, ix)\n",
    "            context = context[1:] + [ix] # crop and append\n",
    "\n",
    "    X = torch.tensor(X)\n",
    "    Y = torch.tensor(Y)\n",
    "    print(X.shape, Y.shape)\n",
    "    return X, Y\n",
    "\n",
    "# data split: 80, 10, 10\n",
    "random.seed(42)\n",
    "random.shuffle(words)\n",
    "n1 = int(0.8 * len(words))\n",
    "n2 = int(0.9 * len(words))\n",
    "\n",
    "Xtr, Ytr = build_dataset(words[:n1])\n",
    "Xdev, Ydev = build_dataset(words[n1:n2])\n",
    "Xte, Yte = build_dataset(words[n2:])"
   ]
  },
  {
   "cell_type": "markdown",
   "id": "b95b11ac",
   "metadata": {},
   "source": [
    "## MLP\n",
    "![](mlp_diagram.001.jpeg)"
   ]
  },
  {
   "cell_type": "markdown",
   "id": "2e20d567",
   "metadata": {},
   "source": [
    "embedding (matrix C). we have 27 characters, and we will embed them into a 2 dim space, to start."
   ]
  },
  {
   "cell_type": "code",
   "execution_count": 6,
   "id": "36c582be",
   "metadata": {},
   "outputs": [],
   "source": [
    "g = torch.Generator().manual_seed(2147483647)\n",
    "# model params:\n",
    "C = torch.randn((27,10), generator=g) # C will act as a look up table\n",
    "\n",
    "# first hidden layer = linear layer: 6 -> 100\n",
    "W1 = torch.randn((3*10, 200), generator=g)\n",
    "b1 = torch.randn(200, generator=g)\n",
    "\n",
    "# second (final) hidden layer = linear layer: 100 -> 27\n",
    "W2 = torch.randn((200, 27), generator=g)\n",
    "b2 = torch.randn(27, generator=g)\n",
    "\n",
    "parameters = [C, W1, b1, W2, b2]\n",
    "for p in parameters:\n",
    "    p.requires_grad = True"
   ]
  },
  {
   "cell_type": "code",
   "execution_count": 7,
   "id": "b804f3a5",
   "metadata": {},
   "outputs": [
    {
     "name": "stdout",
     "output_type": "stream",
     "text": [
      "num of params in the model: 11897\n"
     ]
    }
   ],
   "source": [
    "print(f'num of params in the model: {sum(p.nelement() for p in parameters)}')"
   ]
  },
  {
   "cell_type": "markdown",
   "id": "444762f6",
   "metadata": {},
   "source": [
    "example forward pass"
   ]
  },
  {
   "cell_type": "code",
   "execution_count": 39,
   "id": "bbeb8c96",
   "metadata": {},
   "outputs": [
    {
     "data": {
      "text/plain": [
       "tensor(17.7697, grad_fn=<NllLossBackward0>)"
      ]
     },
     "execution_count": 39,
     "metadata": {},
     "output_type": "execute_result"
    }
   ],
   "source": [
    "# X (32, 3)\n",
    "emb = C[X] # (32, 3, 2)\n",
    "h = torch.tanh(emb.view(emb.shape[0], 6) @ W1 + b1) # (32, 100)\n",
    "logits = h @ W2 + b2 # (32, 27)\n",
    "# counts = logits.exp() # (32, 27)\n",
    "# probs = counts / counts.sum(dim=1, keepdims=True) # (32, 27)\n",
    "# loss = -probs[torch.arange(32), Y].log().mean()\n",
    "# equivalent to cross entropy loss:\n",
    "loss = F.cross_entropy(logits, Y)\n",
    "loss"
   ]
  },
  {
   "cell_type": "markdown",
   "id": "3c271dff",
   "metadata": {},
   "source": [
    "training loop"
   ]
  },
  {
   "cell_type": "markdown",
   "id": "56c9ca74",
   "metadata": {},
   "source": [
    "trying to find the optimal learning rate (in a strange way):"
   ]
  },
  {
   "cell_type": "code",
   "execution_count": 122,
   "id": "3af44c7f",
   "metadata": {},
   "outputs": [
    {
     "name": "stdout",
     "output_type": "stream",
     "text": [
      "lrs are in a range from 0.001 to 1.0\n"
     ]
    }
   ],
   "source": [
    "lr_exp = torch.linspace(-3, 0, steps=1000)\n",
    "lrs = 10**lr_exp\n",
    "print(f'lrs are in a range from {min(lrs):.3f} to {max(lrs)}')"
   ]
  },
  {
   "cell_type": "code",
   "execution_count": 125,
   "id": "85aeea2c",
   "metadata": {},
   "outputs": [
    {
     "data": {
      "image/png": "[encoded data removed]",
      "text/plain": [
       "<Figure size 640x480 with 1 Axes>"
      ]
     },
     "metadata": {},
     "output_type": "display_data"
    }
   ],
   "source": [
    "batch_size = 32\n",
    "lri = []\n",
    "lossi = []\n",
    "\n",
    "# we start off with testing small lr, and move to larger lr.\n",
    "for i in range(1000):\n",
    "    \n",
    "    # minibatch contruct\n",
    "    ix = torch.randint(0, Xtr.shape[0], (batch_size, ))\n",
    "    \n",
    "    # forward pass\n",
    "    emb = C[Xtr[ix]] \n",
    "    h = torch.tanh(emb.view(emb.shape[0], 6) @ W1 + b1)\n",
    "    logits = h @ W2 + b2 \n",
    "    loss = F.cross_entropy(logits, Ytr[ix])\n",
    "#     print(loss.item())\n",
    "\n",
    "    # backward pass\n",
    "    for p in parameters:\n",
    "        p.grad = None\n",
    "    loss.backward()\n",
    "\n",
    "    # update\n",
    "    lr = lrs[i]\n",
    "    for p in parameters:\n",
    "        p.data += -lr * p.grad\n",
    "    \n",
    "    # track stats\n",
    "    lri.append(lr_exp[i])\n",
    "    lossi.append(loss.item())\n",
    "\n",
    "_ = plt.plot(lri, lossi)\n",
    "    \n"
   ]
  },
  {
   "cell_type": "markdown",
   "id": "7c4eefe2",
   "metadata": {},
   "source": [
    "we can see from the plot that around -1 is good. this means that the exp is -1, so the lr would be $10^{-1}$ = 0.1"
   ]
  },
  {
   "cell_type": "code",
   "execution_count": 200,
   "id": "bf1802de",
   "metadata": {},
   "outputs": [],
   "source": [
    "# Training!\n",
    "stepi = []\n",
    "lossi = []"
   ]
  },
  {
   "cell_type": "code",
   "execution_count": 203,
   "id": "62536ca5",
   "metadata": {},
   "outputs": [],
   "source": [
    "batch_size = 128\n",
    "\n",
    "for i in range(200_000):\n",
    "    \n",
    "    # minibatch contruct\n",
    "    ix = torch.randint(0, Xtr.shape[0], (batch_size, ))\n",
    "    \n",
    "    # forward pass\n",
    "    emb = C[Xtr[ix]] \n",
    "    h = torch.tanh(emb.view(emb.shape[0], 3*10) @ W1 + b1)\n",
    "    logits = h @ W2 + b2 \n",
    "    loss = F.cross_entropy(logits, Ytr[ix])\n",
    "\n",
    "    # backward pass\n",
    "    for p in parameters:\n",
    "        p.grad = None\n",
    "    loss.backward()\n",
    "\n",
    "    # update\n",
    "    lr = 0.1 if i < 100_000 else 0.01\n",
    "    for p in parameters:\n",
    "        p.data += -lr * p.grad\n",
    "        \n",
    "    # stats\n",
    "    stepi.append(i)\n",
    "    lossi.append(loss.log10().item()) #log loss is less hockey stick like in the graph than just loss\n",
    "    \n",
    "    \n",
    "# print(loss.item())\n"
   ]
  },
  {
   "cell_type": "code",
   "execution_count": 204,
   "id": "7379066a",
   "metadata": {},
   "outputs": [
    {
     "data": {
      "image/png": "[encoded data removed]",
      "text/plain": [
       "<Figure size 640x480 with 1 Axes>"
      ]
     },
     "metadata": {},
     "output_type": "display_data"
    }
   ],
   "source": [
    "_ = plt.plot(stepi, lossi)"
   ]
  },
  {
   "cell_type": "code",
   "execution_count": 205,
   "id": "af1fecb9",
   "metadata": {},
   "outputs": [
    {
     "data": {
      "text/plain": [
       "2.125417947769165"
      ]
     },
     "execution_count": 205,
     "metadata": {},
     "output_type": "execute_result"
    }
   ],
   "source": [
    "# calculate loss over the train set\n",
    "emb = C[Xtr] \n",
    "h = torch.tanh(emb.view(emb.shape[0], 3*10) @ W1 + b1) \n",
    "logits = h @ W2 + b2\n",
    "loss = F.cross_entropy(logits, Ytr)\n",
    "loss.item()"
   ]
  },
  {
   "cell_type": "code",
   "execution_count": 206,
   "id": "fecec26e",
   "metadata": {},
   "outputs": [
    {
     "data": {
      "text/plain": [
       "2.163092851638794"
      ]
     },
     "execution_count": 206,
     "metadata": {},
     "output_type": "execute_result"
    }
   ],
   "source": [
    "# calculate loss over the dev set\n",
    "emb = C[Xdev] \n",
    "h = torch.tanh(emb.view(emb.shape[0], 3*10) @ W1 + b1) \n",
    "logits = h @ W2 + b2\n",
    "loss = F.cross_entropy(logits, Ydev)\n",
    "loss.item()"
   ]
  },
  {
   "cell_type": "markdown",
   "id": "55b6d40a",
   "metadata": {},
   "source": [
    "embedding (C) visualization when dim of the embedding was 2"
   ]
  },
  {
   "cell_type": "code",
   "execution_count": 176,
   "id": "60a6e36b",
   "metadata": {},
   "outputs": [
    {
     "data": {
      "image/png": "[encoded data removed]",
      "text/plain": [
       "<Figure size 800x800 with 1 Axes>"
      ]
     },
     "metadata": {},
     "output_type": "display_data"
    }
   ],
   "source": [
    "plt.figure(figsize=(8,8))\n",
    "plt.scatter(C[:,0].data, C[:,1].data, s=200)\n",
    "for i in range(C.shape[0]):\n",
    "    plt.text(C[i,0].item(), C[i,1].item(), itos[i], ha=\"center\", va=\"center\", color=\"white\")\n",
    "plt.grid(\"minor\")"
   ]
  },
  {
   "cell_type": "markdown",
   "id": "3c94db88",
   "metadata": {},
   "source": [
    "### Sampling from the model"
   ]
  },
  {
   "cell_type": "code",
   "execution_count": 212,
   "id": "5321ba6e",
   "metadata": {},
   "outputs": [
    {
     "name": "stdout",
     "output_type": "stream",
     "text": [
      "stamedor\n",
      "daya\n",
      "muz\n",
      "ana\n",
      "sephuidrie\n",
      "aley\n",
      "perron\n",
      "kellah\n",
      "stelis\n",
      "estas\n",
      "apree\n",
      "hardane\n",
      "kazamarvex\n",
      "kasai\n",
      "benslynn\n",
      "xakham\n",
      "kion\n",
      "yej\n",
      "jaci\n",
      "bresephmu\n"
     ]
    }
   ],
   "source": [
    "for _ in range(20):\n",
    "    out = []\n",
    "    context = [0] * block_size # init . . .\n",
    "    while True:\n",
    "        emb = C[torch.tensor([context])] # (1, block_size, d)\n",
    "        h = torch.tanh(emb.view(1, -1) @ W1 + b1)\n",
    "        logits = h @ W2 + b2\n",
    "        probs = F.softmax(logits, dim=1)\n",
    "        ix = torch.multinomial(probs, num_samples=1).item()\n",
    "        context = context[1:] + [ix]\n",
    "        out.append(ix)\n",
    "        if ix == 0:\n",
    "            break\n",
    "    print(''.join(itos[i] for i in out)[:-1])"
   ]
  },
  {
   "cell_type": "code",
   "execution_count": null,
   "id": "00f56a50",
   "metadata": {},
   "outputs": [],
   "source": []
  }
 ],
 "metadata": {
  "kernelspec": {
   "display_name": "Python 3 (ipykernel)",
   "language": "python",
   "name": "python3"
  },
  "language_info": {
   "codemirror_mode": {
    "name": "ipython",
    "version": 3
   },
   "file_extension": ".py",
   "mimetype": "text/x-python",
   "name": "python",
   "nbconvert_exporter": "python",
   "pygments_lexer": "ipython3",
   "version": "3.9.6"
  }
 },
 "nbformat": 4,
 "nbformat_minor": 5
}

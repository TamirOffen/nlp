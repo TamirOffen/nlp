{
 "cells": [
  {
   "attachments": {},
   "cell_type": "markdown",
   "metadata": {},
   "source": [
    "# Sentiment analysis for movie reviews\n",
    "Given a review about a movie written by some user, decide whether it's positive, negative or neutral.\n",
    "\n",
    "![](imgs/move_review_exp.png)"
   ]
  },
  {
   "cell_type": "code",
   "execution_count": 1,
   "metadata": {},
   "outputs": [],
   "source": [
    "# imports:\n",
    "\n",
    "%matplotlib inline\n",
    "import os\n",
    "import sys\n",
    "import time\n",
    "import torch\n",
    "import matplotlib.pyplot as plt\n",
    "from sklearn import metrics\n",
    "import warnings\n",
    "warnings.simplefilter(\"ignore\")\n",
    "\n",
    "import torch\n",
    "import torch.nn as nn\n",
    "import torchtext\n",
    "import torchtext.data as data\n",
    "import torchtext.datasets as datasets\n",
    "import torch.nn.functional as f\n",
    "import torch.optim as optim\n",
    "\n",
    "plt.rcParams['font.size'] = 20\n",
    "data_dir = os.getcwd()\n",
    "device = torch.device('cuda' if torch.cuda.is_available() else 'cpu')"
   ]
  },
  {
   "cell_type": "code",
   "execution_count": 2,
   "metadata": {},
   "outputs": [],
   "source": [
    "def count_parameters(model):\n",
    "    return sum(p.numel() for p in model.parameters() if p.requires_grad)"
   ]
  },
  {
   "attachments": {},
   "cell_type": "markdown",
   "metadata": {},
   "source": [
    "## Dataset\n",
    "We'll be using the Stanford Sentiment Treebank (SST) dataset, which contains about 10,000 labeled movie reviews.\n",
    "\n",
    "    (\"This movie was actually neither that funny, nor super witty.\", \"neutral\")"
   ]
  },
  {
   "attachments": {},
   "cell_type": "markdown",
   "metadata": {},
   "source": [
    "### Loading and tokenizing text samples\n",
    "The `torchtext.data.Field` class takes care of splitting text into unique tokens (words), and converting them into a numerical representation."
   ]
  },
  {
   "cell_type": "code",
   "execution_count": 3,
   "metadata": {},
   "outputs": [],
   "source": [
    "import torchtext.data \n",
    "\n",
    "review_parser = torchtext.data.Field(\n",
    "    sequential=True, use_vocab=True, lower=True,\n",
    "    init_token='<sos>', eos_token='<eos>', dtype=torch.long,\n",
    "    tokenize='spacy', tokenizer_language='en_core_web_sm'\n",
    ")\n",
    "\n",
    "label_parser = torchtext.data.Field(\n",
    "    is_target=True, sequential=False, unk_token=None, use_vocab=True\n",
    ")"
   ]
  },
  {
   "cell_type": "code",
   "execution_count": 4,
   "metadata": {},
   "outputs": [
    {
     "name": "stdout",
     "output_type": "stream",
     "text": [
      "Processed review (tokens):\n",
      " [ 2 17 20  6 11  4 22  9 24  6  5  4  6 11  4 19 10  5  7 12 14  4 16  4\n",
      " 10  5  7  8  8 13  4  5 23 21  9 13  5 18  4  6 12 15  3]\n",
      "Processed label: [0]\n"
     ]
    }
   ],
   "source": [
    "# example of review/label parsers:\n",
    "review, label = \"This movie is great! I really enjoyed it.\", \"positive\"\n",
    "review_parser.build_vocab([review])\n",
    "label_parser.build_vocab([label])\n",
    "processed_review, processed_label = review_parser.process([review]), label_parser.process([label])\n",
    "numerical_review = processed_review.view(-1).numpy()\n",
    "numerical_label = processed_label.view(-1).numpy()\n",
    "print(\"Processed review (tokens):\\n\", processed_review.view(-1).numpy())\n",
    "print(\"Processed label:\", processed_label.view(-1).numpy())\n"
   ]
  },
  {
   "cell_type": "code",
   "execution_count": 5,
   "metadata": {},
   "outputs": [
    {
     "name": "stdout",
     "output_type": "stream",
     "text": [
      "Number of training samples: 8544\n",
      "Number of test     samples: 2210\n"
     ]
    }
   ],
   "source": [
    "import torchtext.datasets\n",
    "\n",
    "ds_train, ds_valid, ds_test = torchtext.datasets.SST.splits(\n",
    "    review_parser, label_parser, root=data_dir\n",
    ")\n",
    "\n",
    "n_train = len(ds_train)\n",
    "print(f'Number of training samples: {n_train}')\n",
    "print(f'Number of test     samples: {len(ds_test)}')"
   ]
  },
  {
   "cell_type": "code",
   "execution_count": 6,
   "metadata": {},
   "outputs": [
    {
     "name": "stdout",
     "output_type": "stream",
     "text": [
      "sample#0111 [positive]:\n",
      " > the film aims to be funny , uplifting and moving , sometimes all at once .\n",
      "\n",
      "sample#4321 [neutral ]:\n",
      " > the most anti - human big studio picture since 3000 miles to graceland .\n",
      "\n",
      "sample#7777 [negative]:\n",
      " > an ugly , revolting movie .\n",
      "\n",
      "sample#0000 [positive]:\n",
      " > the rock is destined to be the 21st century 's new ` ` conan '' and that he 's going to make a splash even greater than arnold schwarzenegger , jean - claud van damme or steven segal .\n",
      "\n"
     ]
    }
   ],
   "source": [
    "# examples from training set:\n",
    "for i in ([111, 4321, 7777, 0]):\n",
    "    example = ds_train[i]\n",
    "    label = example.label\n",
    "    review = str.join(\" \", example.text)\n",
    "    print(f'sample#{i:04d} [{label:8s}]:\\n > {review}\\n')"
   ]
  },
  {
   "attachments": {},
   "cell_type": "markdown",
   "metadata": {},
   "source": [
    "### Building a vocabulary\n",
    "the `Field` object can build a vocab, which is a bi-directional mapping between a unique index and a token."
   ]
  },
  {
   "cell_type": "code",
   "execution_count": 7,
   "metadata": {},
   "outputs": [
    {
     "name": "stdout",
     "output_type": "stream",
     "text": [
      "Number of tokens in training samples: 15451\n",
      "first 20 tokens:\n",
      " ['<unk>', '<pad>', '<sos>', '<eos>', '.', 'the', ',', 'a', 'and', 'of', 'to', '-', 'is', \"'s\", 'it', 'that', 'in', 'as', 'but', 'film']\n",
      "word=the             index=5\n",
      "word=actor           index=493\n",
      "word=schwarzenegger  index=3406\n",
      "word=spielberg       index=718\n",
      "\n",
      "Number of tokens in training labels: 3\n",
      "label tokens:\n",
      " ['positive', 'negative', 'neutral']\n",
      "labels vocab:\n",
      " {'positive': 0, 'negative': 1, 'neutral': 2}\n"
     ]
    }
   ],
   "source": [
    "review_parser.build_vocab(ds_train)\n",
    "label_parser.build_vocab(ds_train)\n",
    "\n",
    "print(f\"Number of tokens in training samples: {len(review_parser.vocab)}\")\n",
    "print(f'first 20 tokens:\\n', review_parser.vocab.itos[:20], end='\\n')\n",
    "# Show that some words exist in the vocab\n",
    "for w in ['the', 'actor', 'schwarzenegger', 'spielberg']:\n",
    "    print(f'word={w:15s} index={review_parser.vocab.stoi[w]}')\n",
    "print()\n",
    "print(f\"Number of tokens in training labels: {len(label_parser.vocab)}\")\n",
    "print(f'label tokens:\\n', label_parser.vocab.itos, end='\\n')\n",
    "print(f'labels vocab:\\n', dict(label_parser.vocab.stoi))\n",
    "# plt.figure(figsize=(5, 3))  \n",
    "# plt.hist(hist)\n",
    "# plt.show()"
   ]
  },
  {
   "attachments": {},
   "cell_type": "markdown",
   "metadata": {},
   "source": [
    "### Dataloaders (iterators)\n",
    "the torchtext package uses iterators instead of dataloaders.\n",
    "\n",
    "each text sample has a different length."
   ]
  },
  {
   "cell_type": "code",
   "execution_count": 8,
   "metadata": {},
   "outputs": [],
   "source": [
    "BATCH_SIZE = 4\n",
    "\n",
    "# BucketIterator creates batches with samples of similar length\n",
    "# to minimize the number of <pad> tokens in the batch.\n",
    "dl_train, dl_valid, dl_test = torchtext.data.BucketIterator.splits(\n",
    "    (ds_train, ds_valid, ds_test), batch_size=BATCH_SIZE,\n",
    "    shuffle=True, device=device)\n",
    "\n"
   ]
  },
  {
   "cell_type": "code",
   "execution_count": 9,
   "metadata": {},
   "outputs": [
    {
     "name": "stdout",
     "output_type": "stream",
     "text": [
      "X = \n",
      " tensor([[    2,     2,     2,     2],\n",
      "        [    5,     5,    18,     5],\n",
      "        [   19,    19,     5,    65],\n",
      "        [  301,    31,    19,  3313],\n",
      "        [   24,  1064,   225,     6],\n",
      "        [  532,   450,    12,   168],\n",
      "        [   56,   677,   215,    11],\n",
      "        [   11,    11,   196,  1192],\n",
      "        [   50,  9554, 14935,     8],\n",
      "        [  334,   115,     4,    64],\n",
      "        [    4,   112,     3,   832],\n",
      "        [    3,    56,     1,   865],\n",
      "        [    1,    89,     1,    24],\n",
      "        [    1,    26,     1,  1506],\n",
      "        [    1,    46,     1,    21],\n",
      "        [    1,   322,     1,     7],\n",
      "        [    1,    10,     1,    22],\n",
      "        [    1,  3469,     1,    17],\n",
      "        [    1,   109,     1,    26],\n",
      "        [    1,     3,     1,    71],\n",
      "        [    1,     1,     1,   601],\n",
      "        [    1,     1,     1,     4],\n",
      "        [    1,     1,     1,     3]]) torch.Size([23, 4])\n",
      "\n",
      "y = \n",
      " tensor([0, 0, 1, 1]) torch.Size([4])\n"
     ]
    }
   ],
   "source": [
    "# example of a single batch:\n",
    "batch = next(iter(dl_train))\n",
    "\n",
    "X, y = batch.text, batch.label # X is of shape (sentence_length, batch_size)\n",
    "print('X = \\n', X, X.shape, end='\\n\\n')\n",
    "print('y = \\n', y, y.shape)"
   ]
  },
  {
   "attachments": {},
   "cell_type": "markdown",
   "metadata": {},
   "source": [
    "## Model\n",
    "we'll implement 5 models: rnn, lstm, gru, attention, and transformer, and compare them.\n",
    "\n",
    "The model will:\n",
    "\n",
    "* Take an input batch of tokenized sentences.\n",
    "* Compute a dense word-embedding of each token.\n",
    "* Process the sentence sequentially through the RNN layer.\n",
    "* Produce a (B, 3) tensor, which we'll interpret as class probabilities for each sentence in the batch.\n"
   ]
  },
  {
   "attachments": {},
   "cell_type": "markdown",
   "metadata": {},
   "source": [
    "### word embedding\n",
    "Embeddings encode tokens as tensors in a way that maintains some semantic meaning for our task."
   ]
  },
  {
   "cell_type": "code",
   "execution_count": 85,
   "metadata": {},
   "outputs": [
    {
     "name": "stdout",
     "output_type": "stream",
     "text": [
      "tensor([[1, 4],\n",
      "        [0, 0],\n",
      "        [4, 0]]) torch.Size([3, 2])\n",
      "tensor([[[-1.3718,  1.4921,  0.9213,  0.1127, -0.0740, -0.1174, -0.2028,\n",
      "           0.6659],\n",
      "         [-1.0653, -0.0954,  0.1377, -1.2526, -0.2874,  0.8610, -0.6706,\n",
      "          -0.1577]],\n",
      "\n",
      "        [[ 1.3391,  0.6923, -0.8190, -0.0954,  0.1856, -0.3917, -1.0556,\n",
      "           3.0313],\n",
      "         [ 1.3391,  0.6923, -0.8190, -0.0954,  0.1856, -0.3917, -1.0556,\n",
      "           3.0313]],\n",
      "\n",
      "        [[-1.0653, -0.0954,  0.1377, -1.2526, -0.2874,  0.8610, -0.6706,\n",
      "          -0.1577],\n",
      "         [ 1.3391,  0.6923, -0.8190, -0.0954,  0.1856, -0.3917, -1.0556,\n",
      "           3.0313]]], grad_fn=<EmbeddingBackward0>) torch.Size([3, 2, 8])\n"
     ]
    }
   ],
   "source": [
    "# example embedding layer:\n",
    "embedding_layer = nn.Embedding(num_embeddings=5, embedding_dim=8)\n",
    "token_idx = torch.randint(low=0, high=5, size=(3,2))\n",
    "print(token_idx, token_idx.shape)\n",
    "print(embedding_layer(token_idx), embedding_layer(token_idx).shape)"
   ]
  },
  {
   "attachments": {},
   "cell_type": "markdown",
   "metadata": {},
   "source": [
    "### RNN\n",
    "\n",
    "![](imgs/rnn_cell.png)"
   ]
  },
  {
   "attachments": {},
   "cell_type": "markdown",
   "metadata": {},
   "source": [
    "the formulas for each part are:\n",
    "\n",
    "![](imgs/rnn_formulas.png)"
   ]
  },
  {
   "cell_type": "code",
   "execution_count": 10,
   "metadata": {},
   "outputs": [],
   "source": [
    "class RNNLayer(nn.Module):\n",
    "    def __init__(self, in_dim, h_dim, out_dim, phi_h=torch.tanh, phi_y=torch.sigmoid):\n",
    "        super().__init__()\n",
    "        self.phi_h = phi_h\n",
    "        self.phi_y = phi_y\n",
    "        self.fc_xh = nn.Linear(in_dim, h_dim, bias=False)\n",
    "        self.fc_hh = nn.Linear(h_dim, h_dim, bias=True)\n",
    "        self.fc_hy = nn.Linear(h_dim, out_dim, bias=True)\n",
    "\n",
    "    def forward(self, xt, h_prev=None):\n",
    "        if h_prev is None:\n",
    "            h_prev = torch.zeros(xt.shape[0], self.fc_hh.in_features)\n",
    "        ht = self.phi_h(self.fc_xh(xt) + self.fc_hh(h_prev))\n",
    "        yt = self.fc_hy(ht)\n",
    "        if self.phi_y is not None:\n",
    "            yt = self.phi_y(yt)\n",
    "        return yt, ht\n"
   ]
  },
  {
   "cell_type": "code",
   "execution_count": 38,
   "metadata": {},
   "outputs": [],
   "source": [
    "# class SentimentRNN(nn.Module):\n",
    "#     def __init__(self, vocab_dim, embedding_dim, h_dim, out_dim):\n",
    "#         super().__init__()\n",
    "\n",
    "#         # token index to dense tensor\n",
    "#         self.embedding = nn.Embedding(num_embeddings=vocab_dim, embedding_dim=embedding_dim) \n",
    "\n",
    "#         # no phi_y so it outputs a class score\n",
    "#         self.rnn = RNNLayer(in_dim=embedding_dim, h_dim=h_dim, out_dim=out_dim, phi_y=None)\n",
    "\n",
    "#         # class scores to log-probs\n",
    "#         self.log_softmax = nn.LogSoftmax(dim=1)\n",
    "\n",
    "#     def forward(self, X):\n",
    "#         # X shape is (Seq_len, Batch_size)\n",
    "#         embedded = self.embedding(X) # embedded shape (S, B, E)\n",
    "\n",
    "#         # loop over tokens in the input:\n",
    "#         ht = None\n",
    "#         for xt in embedded: # each xt is (B,E)\n",
    "#             yt, ht = self.rnn(xt, ht) # yt is (B, out_dim)\n",
    "#         yt_log_prob = self.log_softmax(yt)\n",
    "\n",
    "#         return yt_log_prob\n",
    "\n",
    "class SentimentRNN(nn.Module):\n",
    "    def __init__(self, vocab_dim, embedding_dim, h_dim, out_dim):\n",
    "        super().__init__()\n",
    "        \n",
    "        # nn.Embedding converts from token index to dense tensor\n",
    "        self.embedding = nn.Embedding(vocab_dim, embedding_dim)\n",
    "        \n",
    "        # Our own Vanilla RNN layer, without phi_y so it outputs a class score\n",
    "        self.rnn = RNNLayer(in_dim=embedding_dim, h_dim=h_dim, out_dim=out_dim, phi_y=None)\n",
    "        \n",
    "        # To convert class scores to log-probability we'll apply log-softmax\n",
    "        self.log_softmax = nn.LogSoftmax(dim=1)\n",
    "        \n",
    "    def forward(self, X):\n",
    "        # X shape: (S, B) Note batch dim is not first!\n",
    "        \n",
    "        embedded = self.embedding(X) # embedded shape: (S, B, E)\n",
    "        \n",
    "        # Loop over (batch of) tokens in the sentence(s)\n",
    "        ht = None\n",
    "        for xt in embedded:           # xt is (B, E)\n",
    "            yt, ht = self.rnn(xt, ht) # yt is (B, D_out)\n",
    "        \n",
    "        # Class scores to log-probability\n",
    "        yt_log_proba = self.log_softmax(yt)\n",
    "        \n",
    "        return yt_log_proba\n"
   ]
  },
  {
   "cell_type": "code",
   "execution_count": 12,
   "metadata": {},
   "outputs": [
    {
     "data": {
      "text/plain": [
       "SentimentRNN(\n",
       "  (embedding): Embedding(15451, 100)\n",
       "  (rnn): RNNLayer(\n",
       "    (fc_xh): Linear(in_features=100, out_features=128, bias=False)\n",
       "    (fc_hh): Linear(in_features=128, out_features=128, bias=True)\n",
       "    (fc_hy): Linear(in_features=128, out_features=3, bias=True)\n",
       "  )\n",
       "  (log_softmax): LogSoftmax(dim=1)\n",
       ")"
      ]
     },
     "execution_count": 12,
     "metadata": {},
     "output_type": "execute_result"
    }
   ],
   "source": [
    "# rnn model init:\n",
    "INPUT_DIM = len(review_parser.vocab)\n",
    "EMBEDDING_DIM = 100\n",
    "HIDDEN_DIM = 128\n",
    "OUTPUT_DIM = 3\n",
    "\n",
    "model = SentimentRNN(INPUT_DIM, EMBEDDING_DIM, HIDDEN_DIM, OUTPUT_DIM)\n",
    "model"
   ]
  },
  {
   "cell_type": "code",
   "execution_count": 13,
   "metadata": {},
   "outputs": [
    {
     "name": "stdout",
     "output_type": "stream",
     "text": [
      "model(X) = \n",
      " tensor([[-1.2529, -0.9057, -1.1709],\n",
      "        [-1.2529, -0.9057, -1.1709],\n",
      "        [-1.0281, -1.2577, -1.0272],\n",
      "        [-1.2529, -0.9057, -1.1709]], grad_fn=<LogSoftmaxBackward0>) torch.Size([4, 3])\n",
      "true labels =  tensor([1, 0, 0, 1])\n",
      "predicted labels =  tensor([1, 1, 2, 1])\n"
     ]
    }
   ],
   "source": [
    "# forward pass test:\n",
    "batch = next(iter(dl_train))\n",
    "X, y = batch.text, batch.label\n",
    "print(f'model(X) = \\n', model(X), model(X).shape) # each row is prob of a sentence \n",
    "print(f'true labels = ', y)\n",
    "y_pred = torch.argmax(model(X), dim=1)\n",
    "print(f'predicted labels = ', y_pred)"
   ]
  },
  {
   "cell_type": "code",
   "execution_count": 14,
   "metadata": {},
   "outputs": [
    {
     "name": "stdout",
     "output_type": "stream",
     "text": [
      "The RNN model has 1,574,799 trainable weights.\n"
     ]
    }
   ],
   "source": [
    "# model size:\n",
    "print(f'The RNN model has {count_parameters(model):,} trainable weights.')"
   ]
  },
  {
   "attachments": {},
   "cell_type": "markdown",
   "metadata": {},
   "source": [
    "Training"
   ]
  },
  {
   "cell_type": "code",
   "execution_count": 39,
   "metadata": {},
   "outputs": [],
   "source": [
    "def train(model, optimizer, loss_fn, dataloader, max_epochs=100, max_batches=200, print_results = False):\n",
    "    loss_values = []\n",
    "    accuracy_values = []\n",
    "    for epoch_idx in range(max_epochs):\n",
    "        total_loss, num_correct = 0, 0\n",
    "        start_time = time.time()\n",
    "\n",
    "        for batch_idx, batch in enumerate(dataloader):\n",
    "            X, y = batch.text, batch.label\n",
    "\n",
    "            # Forward pass\n",
    "            y_pred_log_proba = model(X)\n",
    "\n",
    "            # Backward pass\n",
    "            optimizer.zero_grad()\n",
    "            loss = loss_fn(y_pred_log_proba, y)\n",
    "            loss.backward()\n",
    "\n",
    "            # Weight updates\n",
    "            optimizer.step()\n",
    "\n",
    "            # Calculate accuracy\n",
    "            total_loss += loss.item()\n",
    "            y_pred = torch.argmax(y_pred_log_proba, dim=1)\n",
    "            num_correct += torch.sum(y_pred == y).float().item()\n",
    "\n",
    "            if batch_idx == max_batches-1:\n",
    "                break\n",
    "            \n",
    "        loss_values.append(total_loss / max_batches)\n",
    "        accuracy_values.append(num_correct /(max_batches*BATCH_SIZE))\n",
    "        if print_results:\n",
    "            print(f\"Epoch #{epoch_idx}, loss={total_loss /(max_batches):.3f}, accuracy={num_correct /(max_batches*BATCH_SIZE):.3f}, elapsed={time.time()-start_time:.1f} sec\")\n",
    "\n",
    "    return loss_values, accuracy_values\n",
    "\n",
    "\n",
    "def display_train_results(loss_values, accuracy_values):\n",
    "    fig, axes = plt.subplots(1, 2, figsize=(12, 4))\n",
    "    axes[0].plot(loss_values, label='Loss')\n",
    "    axes[0].set_xlabel('Epoch')\n",
    "    axes[0].set_ylabel('Loss')\n",
    "    axes[0].legend()\n",
    "    axes[0].set_title('Training Loss')\n",
    "    axes[0].grid(True)\n",
    "    axes[1].plot(accuracy_values, label='Accuracy')\n",
    "    axes[1].set_xlabel('Epoch')\n",
    "    axes[1].set_ylabel('Accuracy')\n",
    "    axes[1].legend()\n",
    "    axes[1].set_title('Training Accuracy')\n",
    "    axes[1].grid(True)\n",
    "    plt.tight_layout()\n",
    "    plt.show()\n",
    "\n"
   ]
  },
  {
   "cell_type": "code",
   "execution_count": 51,
   "metadata": {},
   "outputs": [],
   "source": [
    "def train(model, optimizer, loss_fn, dataloader, max_epochs=100, max_batches=200):\n",
    "    for epoch_idx in range(max_epochs):\n",
    "        total_loss, num_correct = 0, 0\n",
    "        start_time = time.time()\n",
    "\n",
    "        for batch_idx, batch in enumerate(dataloader):\n",
    "            X, y = batch.text, batch.label\n",
    "\n",
    "            # Forward pass\n",
    "            y_pred_log_proba = model(X)\n",
    "\n",
    "            # Backward pass\n",
    "            optimizer.zero_grad()\n",
    "            loss = loss_fn(y_pred_log_proba, y)\n",
    "            loss.backward()\n",
    "\n",
    "            # Weight updates\n",
    "            optimizer.step()\n",
    "\n",
    "            # Calculate accuracy\n",
    "            total_loss += loss.item()\n",
    "            y_pred = torch.argmax(y_pred_log_proba, dim=1)\n",
    "            num_correct += torch.sum(y_pred == y).float().item()\n",
    "\n",
    "            if batch_idx == max_batches-1:\n",
    "                break\n",
    "                \n",
    "        print(f\"Epoch #{epoch_idx}, loss={total_loss /(max_batches):.3f}, accuracy={num_correct /(max_batches*BATCH_SIZE):.3f}, elapsed={time.time()-start_time:.1f} sec\")"
   ]
  },
  {
   "cell_type": "code",
   "execution_count": 57,
   "metadata": {},
   "outputs": [
    {
     "name": "stdout",
     "output_type": "stream",
     "text": [
      "Epoch #0, loss=1.093, accuracy=0.394, elapsed=2.6 sec\n",
      "Epoch #1, loss=1.090, accuracy=0.372, elapsed=2.6 sec\n",
      "Epoch #2, loss=1.076, accuracy=0.414, elapsed=2.6 sec\n",
      "Epoch #3, loss=1.082, accuracy=0.350, elapsed=2.5 sec\n",
      "Epoch #4, loss=1.074, accuracy=0.400, elapsed=2.5 sec\n",
      "Epoch #5, loss=1.062, accuracy=0.411, elapsed=2.5 sec\n",
      "Epoch #6, loss=1.042, accuracy=0.439, elapsed=2.5 sec\n",
      "Epoch #7, loss=1.063, accuracy=0.407, elapsed=2.6 sec\n",
      "Epoch #8, loss=1.047, accuracy=0.425, elapsed=2.9 sec\n",
      "Epoch #9, loss=1.066, accuracy=0.396, elapsed=2.6 sec\n",
      "Epoch #10, loss=1.051, accuracy=0.426, elapsed=2.9 sec\n",
      "Epoch #11, loss=1.110, accuracy=0.393, elapsed=2.6 sec\n",
      "Epoch #12, loss=1.080, accuracy=0.395, elapsed=2.6 sec\n",
      "Epoch #13, loss=1.080, accuracy=0.390, elapsed=2.6 sec\n",
      "Epoch #14, loss=1.058, accuracy=0.443, elapsed=2.6 sec\n",
      "Epoch #15, loss=1.073, accuracy=0.422, elapsed=2.7 sec\n",
      "Epoch #16, loss=1.059, accuracy=0.427, elapsed=2.6 sec\n",
      "Epoch #17, loss=1.074, accuracy=0.399, elapsed=2.7 sec\n",
      "Epoch #18, loss=1.089, accuracy=0.381, elapsed=2.7 sec\n",
      "Epoch #19, loss=1.077, accuracy=0.400, elapsed=2.6 sec\n",
      "Epoch #20, loss=1.053, accuracy=0.446, elapsed=2.7 sec\n",
      "Epoch #21, loss=1.080, accuracy=0.399, elapsed=2.7 sec\n",
      "Epoch #22, loss=1.068, accuracy=0.420, elapsed=2.7 sec\n",
      "Epoch #23, loss=1.053, accuracy=0.427, elapsed=2.7 sec\n",
      "Epoch #24, loss=1.040, accuracy=0.448, elapsed=2.7 sec\n",
      "Epoch #25, loss=1.053, accuracy=0.412, elapsed=2.7 sec\n",
      "Epoch #26, loss=1.073, accuracy=0.381, elapsed=2.7 sec\n",
      "Epoch #27, loss=1.077, accuracy=0.399, elapsed=2.7 sec\n",
      "Epoch #28, loss=1.078, accuracy=0.379, elapsed=2.7 sec\n",
      "Epoch #29, loss=1.064, accuracy=0.411, elapsed=2.7 sec\n",
      "Epoch #30, loss=1.062, accuracy=0.398, elapsed=2.7 sec\n",
      "Epoch #31, loss=1.060, accuracy=0.416, elapsed=2.7 sec\n",
      "Epoch #32, loss=1.073, accuracy=0.404, elapsed=2.7 sec\n",
      "Epoch #33, loss=1.077, accuracy=0.396, elapsed=2.6 sec\n",
      "Epoch #34, loss=1.086, accuracy=0.388, elapsed=2.7 sec\n",
      "Epoch #35, loss=1.074, accuracy=0.395, elapsed=2.7 sec\n",
      "Epoch #36, loss=1.056, accuracy=0.415, elapsed=2.7 sec\n",
      "Epoch #37, loss=1.084, accuracy=0.406, elapsed=2.7 sec\n",
      "Epoch #38, loss=1.084, accuracy=0.378, elapsed=2.7 sec\n",
      "Epoch #39, loss=1.067, accuracy=0.406, elapsed=2.7 sec\n",
      "Epoch #40, loss=1.069, accuracy=0.404, elapsed=2.7 sec\n",
      "Epoch #41, loss=1.066, accuracy=0.365, elapsed=2.7 sec\n",
      "Epoch #42, loss=1.070, accuracy=0.395, elapsed=2.8 sec\n",
      "Epoch #43, loss=1.082, accuracy=0.374, elapsed=2.7 sec\n",
      "Epoch #44, loss=1.067, accuracy=0.415, elapsed=2.7 sec\n",
      "Epoch #45, loss=1.077, accuracy=0.385, elapsed=2.7 sec\n",
      "Epoch #46, loss=1.064, accuracy=0.379, elapsed=2.7 sec\n",
      "Epoch #47, loss=1.069, accuracy=0.386, elapsed=2.7 sec\n",
      "Epoch #48, loss=1.075, accuracy=0.409, elapsed=2.7 sec\n",
      "Epoch #49, loss=1.078, accuracy=0.389, elapsed=2.7 sec\n",
      "Epoch #50, loss=1.052, accuracy=0.406, elapsed=2.7 sec\n",
      "Epoch #51, loss=1.038, accuracy=0.432, elapsed=2.7 sec\n",
      "Epoch #52, loss=1.085, accuracy=0.381, elapsed=2.7 sec\n",
      "Epoch #53, loss=1.062, accuracy=0.388, elapsed=2.7 sec\n",
      "Epoch #54, loss=1.060, accuracy=0.405, elapsed=2.7 sec\n",
      "Epoch #55, loss=1.100, accuracy=0.396, elapsed=2.7 sec\n",
      "Epoch #56, loss=1.083, accuracy=0.399, elapsed=2.7 sec\n",
      "Epoch #57, loss=1.060, accuracy=0.414, elapsed=2.7 sec\n",
      "Epoch #58, loss=1.084, accuracy=0.405, elapsed=2.7 sec\n",
      "Epoch #59, loss=1.042, accuracy=0.416, elapsed=2.7 sec\n",
      "Epoch #60, loss=1.071, accuracy=0.404, elapsed=2.7 sec\n",
      "Epoch #61, loss=1.075, accuracy=0.411, elapsed=2.7 sec\n",
      "Epoch #62, loss=1.071, accuracy=0.391, elapsed=2.7 sec\n",
      "Epoch #63, loss=1.075, accuracy=0.385, elapsed=2.7 sec\n",
      "Epoch #64, loss=1.075, accuracy=0.388, elapsed=2.7 sec\n",
      "Epoch #65, loss=1.092, accuracy=0.406, elapsed=2.7 sec\n",
      "Epoch #66, loss=1.064, accuracy=0.416, elapsed=2.7 sec\n",
      "Epoch #67, loss=1.074, accuracy=0.406, elapsed=2.7 sec\n",
      "Epoch #68, loss=1.070, accuracy=0.421, elapsed=2.7 sec\n",
      "Epoch #69, loss=1.077, accuracy=0.415, elapsed=2.7 sec\n",
      "Epoch #70, loss=1.074, accuracy=0.379, elapsed=2.8 sec\n",
      "Epoch #71, loss=1.081, accuracy=0.378, elapsed=2.7 sec\n",
      "Epoch #72, loss=1.058, accuracy=0.410, elapsed=2.7 sec\n",
      "Epoch #73, loss=1.073, accuracy=0.406, elapsed=2.7 sec\n",
      "Epoch #74, loss=1.097, accuracy=0.395, elapsed=2.7 sec\n",
      "Epoch #75, loss=1.053, accuracy=0.411, elapsed=2.7 sec\n",
      "Epoch #76, loss=1.062, accuracy=0.406, elapsed=2.7 sec\n",
      "Epoch #77, loss=1.066, accuracy=0.422, elapsed=2.8 sec\n",
      "Epoch #78, loss=1.060, accuracy=0.419, elapsed=2.7 sec\n",
      "Epoch #79, loss=1.074, accuracy=0.394, elapsed=2.7 sec\n",
      "Epoch #80, loss=1.075, accuracy=0.414, elapsed=2.7 sec\n",
      "Epoch #81, loss=1.061, accuracy=0.425, elapsed=2.7 sec\n",
      "Epoch #82, loss=1.073, accuracy=0.439, elapsed=2.7 sec\n",
      "Epoch #83, loss=1.079, accuracy=0.383, elapsed=2.7 sec\n",
      "Epoch #84, loss=1.057, accuracy=0.400, elapsed=2.7 sec\n",
      "Epoch #85, loss=1.070, accuracy=0.384, elapsed=2.7 sec\n",
      "Epoch #86, loss=1.079, accuracy=0.374, elapsed=2.7 sec\n",
      "Epoch #87, loss=1.080, accuracy=0.422, elapsed=2.7 sec\n",
      "Epoch #88, loss=1.064, accuracy=0.419, elapsed=2.7 sec\n",
      "Epoch #89, loss=1.074, accuracy=0.411, elapsed=2.7 sec\n",
      "Epoch #90, loss=1.074, accuracy=0.393, elapsed=2.7 sec\n",
      "Epoch #91, loss=1.081, accuracy=0.404, elapsed=2.7 sec\n",
      "Epoch #92, loss=1.074, accuracy=0.412, elapsed=2.7 sec\n",
      "Epoch #93, loss=1.076, accuracy=0.409, elapsed=2.7 sec\n",
      "Epoch #94, loss=1.067, accuracy=0.399, elapsed=2.7 sec\n",
      "Epoch #95, loss=1.072, accuracy=0.448, elapsed=2.7 sec\n",
      "Epoch #96, loss=1.073, accuracy=0.395, elapsed=2.7 sec\n",
      "Epoch #97, loss=1.059, accuracy=0.417, elapsed=2.7 sec\n",
      "Epoch #98, loss=1.080, accuracy=0.396, elapsed=2.7 sec\n",
      "Epoch #99, loss=1.082, accuracy=0.379, elapsed=2.7 sec\n",
      "Epoch #100, loss=1.053, accuracy=0.399, elapsed=2.7 sec\n",
      "Epoch #101, loss=1.072, accuracy=0.416, elapsed=2.7 sec\n",
      "Epoch #102, loss=1.063, accuracy=0.424, elapsed=2.7 sec\n",
      "Epoch #103, loss=1.077, accuracy=0.417, elapsed=2.7 sec\n",
      "Epoch #104, loss=1.078, accuracy=0.422, elapsed=2.7 sec\n",
      "Epoch #105, loss=1.082, accuracy=0.380, elapsed=2.7 sec\n",
      "Epoch #106, loss=1.048, accuracy=0.430, elapsed=2.7 sec\n",
      "Epoch #107, loss=1.056, accuracy=0.429, elapsed=2.7 sec\n",
      "Epoch #108, loss=1.060, accuracy=0.406, elapsed=2.8 sec\n",
      "Epoch #109, loss=1.060, accuracy=0.429, elapsed=2.7 sec\n",
      "Epoch #110, loss=1.082, accuracy=0.390, elapsed=2.7 sec\n",
      "Epoch #111, loss=1.059, accuracy=0.415, elapsed=2.7 sec\n",
      "Epoch #112, loss=1.075, accuracy=0.398, elapsed=2.7 sec\n",
      "Epoch #113, loss=1.081, accuracy=0.379, elapsed=2.7 sec\n",
      "Epoch #114, loss=1.058, accuracy=0.429, elapsed=2.7 sec\n",
      "Epoch #115, loss=1.075, accuracy=0.396, elapsed=2.7 sec\n",
      "Epoch #116, loss=1.065, accuracy=0.400, elapsed=2.7 sec\n",
      "Epoch #117, loss=1.079, accuracy=0.388, elapsed=2.6 sec\n",
      "Epoch #118, loss=1.059, accuracy=0.430, elapsed=2.7 sec\n",
      "Epoch #119, loss=1.076, accuracy=0.400, elapsed=2.7 sec\n",
      "Epoch #120, loss=1.054, accuracy=0.425, elapsed=2.7 sec\n",
      "Epoch #121, loss=1.066, accuracy=0.425, elapsed=2.7 sec\n",
      "Epoch #122, loss=1.059, accuracy=0.419, elapsed=2.7 sec\n",
      "Epoch #123, loss=1.048, accuracy=0.417, elapsed=2.7 sec\n",
      "Epoch #124, loss=1.081, accuracy=0.404, elapsed=2.7 sec\n",
      "Epoch #125, loss=1.064, accuracy=0.391, elapsed=2.7 sec\n",
      "Epoch #126, loss=1.070, accuracy=0.410, elapsed=2.7 sec\n",
      "Epoch #127, loss=1.067, accuracy=0.421, elapsed=2.8 sec\n",
      "Epoch #128, loss=1.084, accuracy=0.389, elapsed=2.8 sec\n",
      "Epoch #129, loss=1.066, accuracy=0.401, elapsed=2.8 sec\n",
      "Epoch #130, loss=1.070, accuracy=0.404, elapsed=2.7 sec\n",
      "Epoch #131, loss=1.074, accuracy=0.409, elapsed=2.7 sec\n",
      "Epoch #132, loss=1.068, accuracy=0.398, elapsed=2.7 sec\n",
      "Epoch #133, loss=1.082, accuracy=0.400, elapsed=2.7 sec\n",
      "Epoch #134, loss=1.040, accuracy=0.460, elapsed=2.7 sec\n",
      "Epoch #135, loss=1.069, accuracy=0.407, elapsed=2.7 sec\n",
      "Epoch #136, loss=1.068, accuracy=0.414, elapsed=2.7 sec\n",
      "Epoch #137, loss=1.052, accuracy=0.406, elapsed=2.7 sec\n",
      "Epoch #138, loss=1.089, accuracy=0.400, elapsed=2.7 sec\n",
      "Epoch #139, loss=1.047, accuracy=0.446, elapsed=2.7 sec\n",
      "Epoch #140, loss=1.056, accuracy=0.391, elapsed=2.7 sec\n",
      "Epoch #141, loss=1.077, accuracy=0.427, elapsed=2.7 sec\n",
      "Epoch #142, loss=1.068, accuracy=0.385, elapsed=2.7 sec\n",
      "Epoch #143, loss=1.076, accuracy=0.390, elapsed=2.7 sec\n",
      "Epoch #144, loss=1.077, accuracy=0.400, elapsed=2.7 sec\n",
      "Epoch #145, loss=1.057, accuracy=0.394, elapsed=2.7 sec\n",
      "Epoch #146, loss=1.065, accuracy=0.388, elapsed=2.8 sec\n",
      "Epoch #147, loss=1.068, accuracy=0.386, elapsed=2.8 sec\n",
      "Epoch #148, loss=1.062, accuracy=0.416, elapsed=2.7 sec\n",
      "Epoch #149, loss=1.092, accuracy=0.395, elapsed=2.7 sec\n",
      "Epoch #150, loss=1.063, accuracy=0.403, elapsed=2.7 sec\n",
      "Epoch #151, loss=1.082, accuracy=0.405, elapsed=2.8 sec\n",
      "Epoch #152, loss=1.067, accuracy=0.422, elapsed=2.7 sec\n",
      "Epoch #153, loss=1.076, accuracy=0.396, elapsed=2.7 sec\n",
      "Epoch #154, loss=1.078, accuracy=0.405, elapsed=2.7 sec\n",
      "Epoch #155, loss=1.057, accuracy=0.403, elapsed=2.7 sec\n",
      "Epoch #156, loss=1.051, accuracy=0.419, elapsed=2.7 sec\n",
      "Epoch #157, loss=1.090, accuracy=0.383, elapsed=2.7 sec\n",
      "Epoch #158, loss=1.085, accuracy=0.422, elapsed=2.7 sec\n",
      "Epoch #159, loss=1.056, accuracy=0.427, elapsed=2.7 sec\n",
      "Epoch #160, loss=1.069, accuracy=0.400, elapsed=2.7 sec\n",
      "Epoch #161, loss=1.091, accuracy=0.388, elapsed=2.7 sec\n",
      "Epoch #162, loss=1.073, accuracy=0.411, elapsed=2.7 sec\n",
      "Epoch #163, loss=1.060, accuracy=0.414, elapsed=2.7 sec\n",
      "Epoch #164, loss=1.061, accuracy=0.407, elapsed=2.7 sec\n",
      "Epoch #165, loss=1.085, accuracy=0.409, elapsed=2.8 sec\n",
      "Epoch #166, loss=1.093, accuracy=0.371, elapsed=2.8 sec\n",
      "Epoch #167, loss=1.077, accuracy=0.394, elapsed=2.7 sec\n",
      "Epoch #168, loss=1.049, accuracy=0.441, elapsed=2.8 sec\n",
      "Epoch #169, loss=1.063, accuracy=0.407, elapsed=2.7 sec\n",
      "Epoch #170, loss=1.043, accuracy=0.417, elapsed=2.7 sec\n",
      "Epoch #171, loss=1.057, accuracy=0.414, elapsed=2.7 sec\n",
      "Epoch #172, loss=1.062, accuracy=0.417, elapsed=2.7 sec\n",
      "Epoch #173, loss=1.075, accuracy=0.378, elapsed=2.7 sec\n",
      "Epoch #174, loss=1.078, accuracy=0.404, elapsed=2.8 sec\n",
      "Epoch #175, loss=1.058, accuracy=0.400, elapsed=2.8 sec\n",
      "Epoch #176, loss=1.081, accuracy=0.407, elapsed=2.8 sec\n",
      "Epoch #177, loss=1.079, accuracy=0.427, elapsed=2.8 sec\n",
      "Epoch #178, loss=1.083, accuracy=0.374, elapsed=2.8 sec\n",
      "Epoch #179, loss=1.075, accuracy=0.401, elapsed=2.8 sec\n",
      "Epoch #180, loss=1.058, accuracy=0.396, elapsed=2.9 sec\n",
      "Epoch #181, loss=1.074, accuracy=0.407, elapsed=2.8 sec\n",
      "Epoch #182, loss=1.084, accuracy=0.410, elapsed=2.8 sec\n",
      "Epoch #183, loss=1.073, accuracy=0.391, elapsed=2.8 sec\n",
      "Epoch #184, loss=1.062, accuracy=0.419, elapsed=2.9 sec\n",
      "Epoch #185, loss=1.090, accuracy=0.379, elapsed=2.9 sec\n",
      "Epoch #186, loss=1.070, accuracy=0.393, elapsed=2.9 sec\n",
      "Epoch #187, loss=1.065, accuracy=0.419, elapsed=2.8 sec\n",
      "Epoch #188, loss=1.081, accuracy=0.370, elapsed=2.9 sec\n",
      "Epoch #189, loss=1.077, accuracy=0.389, elapsed=2.9 sec\n",
      "Epoch #190, loss=1.034, accuracy=0.407, elapsed=2.9 sec\n",
      "Epoch #191, loss=1.069, accuracy=0.430, elapsed=3.0 sec\n",
      "Epoch #192, loss=1.075, accuracy=0.412, elapsed=2.9 sec\n",
      "Epoch #193, loss=1.073, accuracy=0.414, elapsed=3.1 sec\n",
      "Epoch #194, loss=1.081, accuracy=0.396, elapsed=3.2 sec\n",
      "Epoch #195, loss=1.066, accuracy=0.412, elapsed=3.1 sec\n",
      "Epoch #196, loss=1.077, accuracy=0.414, elapsed=3.1 sec\n",
      "Epoch #197, loss=1.060, accuracy=0.399, elapsed=3.0 sec\n",
      "Epoch #198, loss=1.064, accuracy=0.406, elapsed=3.1 sec\n",
      "Epoch #199, loss=1.078, accuracy=0.379, elapsed=3.1 sec\n",
      "Epoch #200, loss=1.063, accuracy=0.410, elapsed=3.1 sec\n",
      "Epoch #201, loss=1.075, accuracy=0.405, elapsed=3.1 sec\n",
      "Epoch #202, loss=1.065, accuracy=0.415, elapsed=3.0 sec\n",
      "Epoch #203, loss=1.089, accuracy=0.403, elapsed=3.3 sec\n",
      "Epoch #204, loss=1.077, accuracy=0.383, elapsed=3.1 sec\n",
      "Epoch #205, loss=1.070, accuracy=0.407, elapsed=2.9 sec\n",
      "Epoch #206, loss=1.086, accuracy=0.389, elapsed=3.1 sec\n",
      "Epoch #207, loss=1.057, accuracy=0.432, elapsed=3.2 sec\n",
      "Epoch #208, loss=1.079, accuracy=0.398, elapsed=3.1 sec\n",
      "Epoch #209, loss=1.073, accuracy=0.409, elapsed=3.0 sec\n",
      "Epoch #210, loss=1.053, accuracy=0.435, elapsed=3.3 sec\n",
      "Epoch #211, loss=1.066, accuracy=0.424, elapsed=3.2 sec\n",
      "Epoch #212, loss=1.087, accuracy=0.364, elapsed=3.3 sec\n",
      "Epoch #213, loss=1.084, accuracy=0.369, elapsed=3.2 sec\n",
      "Epoch #214, loss=1.077, accuracy=0.417, elapsed=3.2 sec\n",
      "Epoch #215, loss=1.061, accuracy=0.435, elapsed=3.2 sec\n",
      "Epoch #216, loss=1.066, accuracy=0.406, elapsed=3.3 sec\n",
      "Epoch #217, loss=1.064, accuracy=0.417, elapsed=3.2 sec\n",
      "Epoch #218, loss=1.060, accuracy=0.415, elapsed=2.8 sec\n",
      "Epoch #219, loss=1.067, accuracy=0.425, elapsed=3.0 sec\n",
      "Epoch #220, loss=1.058, accuracy=0.414, elapsed=3.1 sec\n",
      "Epoch #221, loss=1.057, accuracy=0.395, elapsed=3.1 sec\n",
      "Epoch #222, loss=1.081, accuracy=0.404, elapsed=3.1 sec\n",
      "Epoch #223, loss=1.093, accuracy=0.379, elapsed=3.2 sec\n",
      "Epoch #224, loss=1.070, accuracy=0.405, elapsed=3.2 sec\n",
      "Epoch #225, loss=1.071, accuracy=0.410, elapsed=3.1 sec\n",
      "Epoch #226, loss=1.071, accuracy=0.396, elapsed=3.1 sec\n",
      "Epoch #227, loss=1.069, accuracy=0.398, elapsed=3.1 sec\n",
      "Epoch #228, loss=1.058, accuracy=0.400, elapsed=3.0 sec\n",
      "Epoch #229, loss=1.063, accuracy=0.403, elapsed=3.0 sec\n",
      "Epoch #230, loss=1.063, accuracy=0.411, elapsed=3.1 sec\n",
      "Epoch #231, loss=1.053, accuracy=0.430, elapsed=3.1 sec\n",
      "Epoch #232, loss=1.066, accuracy=0.400, elapsed=3.1 sec\n",
      "Epoch #233, loss=1.091, accuracy=0.419, elapsed=3.2 sec\n",
      "Epoch #234, loss=1.074, accuracy=0.406, elapsed=3.1 sec\n",
      "Epoch #235, loss=1.054, accuracy=0.422, elapsed=3.2 sec\n",
      "Epoch #236, loss=1.056, accuracy=0.440, elapsed=3.2 sec\n",
      "Epoch #237, loss=1.058, accuracy=0.414, elapsed=3.1 sec\n",
      "Epoch #238, loss=1.057, accuracy=0.422, elapsed=3.2 sec\n",
      "Epoch #239, loss=1.075, accuracy=0.421, elapsed=3.1 sec\n",
      "Epoch #240, loss=1.075, accuracy=0.389, elapsed=3.0 sec\n",
      "Epoch #241, loss=1.058, accuracy=0.405, elapsed=3.1 sec\n",
      "Epoch #242, loss=1.080, accuracy=0.398, elapsed=3.1 sec\n",
      "Epoch #243, loss=1.079, accuracy=0.388, elapsed=3.2 sec\n",
      "Epoch #244, loss=1.064, accuracy=0.395, elapsed=3.0 sec\n",
      "Epoch #245, loss=1.084, accuracy=0.393, elapsed=3.0 sec\n",
      "Epoch #246, loss=1.062, accuracy=0.434, elapsed=3.0 sec\n",
      "Epoch #247, loss=1.081, accuracy=0.401, elapsed=3.1 sec\n",
      "Epoch #248, loss=1.068, accuracy=0.425, elapsed=3.1 sec\n",
      "Epoch #249, loss=1.062, accuracy=0.400, elapsed=3.0 sec\n",
      "Epoch #250, loss=1.085, accuracy=0.409, elapsed=3.0 sec\n",
      "Epoch #251, loss=1.071, accuracy=0.416, elapsed=3.0 sec\n",
      "Epoch #252, loss=1.062, accuracy=0.417, elapsed=2.8 sec\n",
      "Epoch #253, loss=1.073, accuracy=0.419, elapsed=3.0 sec\n",
      "Epoch #254, loss=1.069, accuracy=0.411, elapsed=2.8 sec\n",
      "Epoch #255, loss=1.074, accuracy=0.401, elapsed=3.0 sec\n",
      "Epoch #256, loss=1.079, accuracy=0.404, elapsed=3.0 sec\n",
      "Epoch #257, loss=1.067, accuracy=0.441, elapsed=3.0 sec\n",
      "Epoch #258, loss=1.091, accuracy=0.374, elapsed=2.9 sec\n",
      "Epoch #259, loss=1.065, accuracy=0.429, elapsed=2.9 sec\n",
      "Epoch #260, loss=1.079, accuracy=0.395, elapsed=2.8 sec\n",
      "Epoch #261, loss=1.073, accuracy=0.414, elapsed=2.7 sec\n",
      "Epoch #262, loss=1.060, accuracy=0.429, elapsed=2.7 sec\n",
      "Epoch #263, loss=1.052, accuracy=0.399, elapsed=3.0 sec\n",
      "Epoch #264, loss=1.060, accuracy=0.441, elapsed=2.7 sec\n",
      "Epoch #265, loss=1.053, accuracy=0.431, elapsed=2.7 sec\n",
      "Epoch #266, loss=1.066, accuracy=0.426, elapsed=2.8 sec\n",
      "Epoch #267, loss=1.063, accuracy=0.411, elapsed=2.7 sec\n",
      "Epoch #268, loss=1.087, accuracy=0.393, elapsed=2.7 sec\n",
      "Epoch #269, loss=1.079, accuracy=0.401, elapsed=2.7 sec\n",
      "Epoch #270, loss=1.073, accuracy=0.404, elapsed=2.7 sec\n",
      "Epoch #271, loss=1.073, accuracy=0.417, elapsed=2.7 sec\n",
      "Epoch #272, loss=1.076, accuracy=0.404, elapsed=2.7 sec\n",
      "Epoch #273, loss=1.057, accuracy=0.453, elapsed=2.7 sec\n",
      "Epoch #274, loss=1.063, accuracy=0.398, elapsed=2.7 sec\n",
      "Epoch #275, loss=1.067, accuracy=0.415, elapsed=2.8 sec\n",
      "Epoch #276, loss=1.078, accuracy=0.415, elapsed=2.7 sec\n",
      "Epoch #277, loss=1.057, accuracy=0.417, elapsed=2.7 sec\n",
      "Epoch #278, loss=1.077, accuracy=0.425, elapsed=2.7 sec\n",
      "Epoch #279, loss=1.059, accuracy=0.431, elapsed=2.7 sec\n",
      "Epoch #280, loss=1.077, accuracy=0.386, elapsed=2.7 sec\n",
      "Epoch #281, loss=1.081, accuracy=0.410, elapsed=2.8 sec\n",
      "Epoch #282, loss=1.067, accuracy=0.403, elapsed=2.7 sec\n",
      "Epoch #283, loss=1.060, accuracy=0.416, elapsed=2.7 sec\n",
      "Epoch #284, loss=1.064, accuracy=0.409, elapsed=2.8 sec\n",
      "Epoch #285, loss=1.086, accuracy=0.414, elapsed=2.8 sec\n",
      "Epoch #286, loss=1.069, accuracy=0.430, elapsed=2.8 sec\n",
      "Epoch #287, loss=1.061, accuracy=0.404, elapsed=2.8 sec\n",
      "Epoch #288, loss=1.061, accuracy=0.424, elapsed=2.8 sec\n",
      "Epoch #289, loss=1.075, accuracy=0.430, elapsed=2.7 sec\n",
      "Epoch #290, loss=1.070, accuracy=0.406, elapsed=2.7 sec\n",
      "Epoch #291, loss=1.049, accuracy=0.436, elapsed=2.8 sec\n",
      "Epoch #292, loss=1.064, accuracy=0.431, elapsed=2.8 sec\n",
      "Epoch #293, loss=1.080, accuracy=0.404, elapsed=2.8 sec\n",
      "Epoch #294, loss=1.057, accuracy=0.421, elapsed=2.8 sec\n",
      "Epoch #295, loss=1.059, accuracy=0.419, elapsed=2.8 sec\n",
      "Epoch #296, loss=1.049, accuracy=0.445, elapsed=3.2 sec\n",
      "Epoch #297, loss=1.058, accuracy=0.415, elapsed=3.5 sec\n",
      "Epoch #298, loss=1.067, accuracy=0.393, elapsed=2.8 sec\n",
      "Epoch #299, loss=1.075, accuracy=0.414, elapsed=2.9 sec\n"
     ]
    }
   ],
   "source": [
    "# rnn_model = SentimentRNN(INPUT_DIM, EMBEDDING_DIM, HIDDEN_DIM, OUTPUT_DIM).to(device)\n",
    "# optimizer = optim.Adam(rnn_model.parameters(), lr=1e-3)\n",
    "\n",
    "# # logSoftmax + NLL = ce of the class scores\n",
    "# loss_fn = nn.NLLLoss()\n",
    "\n",
    "# loss_values, accuracy_values = train(rnn_model, optimizer, loss_fn, dl_train, max_epochs=200)\n",
    "\n",
    "\n",
    "rnn_model = SentimentRNN(INPUT_DIM, EMBEDDING_DIM, HIDDEN_DIM, OUTPUT_DIM).to(device)\n",
    "\n",
    "optimizer = optim.Adam(rnn_model.parameters(), lr=1e-3)\n",
    "\n",
    "# Recall: LogSoftmax + NLL is equiv to CrossEntropy on the class scores\n",
    "loss_fn = nn.NLLLoss()\n",
    "\n",
    "train(rnn_model, optimizer, loss_fn, dl_train, max_epochs=300) \n"
   ]
  },
  {
   "cell_type": "code",
   "execution_count": 41,
   "metadata": {},
   "outputs": [
    {
     "name": "stdout",
     "output_type": "stream",
     "text": [
      "after 200 epochs (10 min) of training:\n"
     ]
    },
    {
     "data": {
      "image/png": "[encoded data removed]",
      "text/plain": [
       "<Figure size 1200x400 with 2 Axes>"
      ]
     },
     "metadata": {},
     "output_type": "display_data"
    }
   ],
   "source": [
    "print(\"after 200 epochs (10 min) of training:\")\n",
    "display_train_results(loss_values, accuracy_values)"
   ]
  },
  {
   "attachments": {},
   "cell_type": "markdown",
   "metadata": {},
   "source": [
    "model evaluation"
   ]
  },
  {
   "cell_type": "code",
   "execution_count": 46,
   "metadata": {},
   "outputs": [],
   "source": [
    "def print_stats(model, dataloader):\n",
    "    model.eval()\n",
    "    trues = []\n",
    "    preds = []\n",
    "    with torch.no_grad():\n",
    "        for data in dataloader:\n",
    "            X, y = data.text.to(device), data.label.to(device)\n",
    "            trues += list(y.cpu())\n",
    "            y_pred_log_prob = model(X)\n",
    "            predicted = torch.argmax(y_pred_log_prob, dim=1)\n",
    "            preds += list(predicted.cpu())\n",
    "    print(metrics.classification_report(trues, preds, digits=3))\n"
   ]
  },
  {
   "cell_type": "code",
   "execution_count": 59,
   "metadata": {},
   "outputs": [
    {
     "name": "stdout",
     "output_type": "stream",
     "text": [
      "              precision    recall  f1-score   support\n",
      "\n",
      "           0      0.404     0.941     0.565       444\n",
      "           1      0.303     0.047     0.081       428\n",
      "           2      0.000     0.000     0.000       229\n",
      "\n",
      "    accuracy                          0.398      1101\n",
      "   macro avg      0.236     0.329     0.215      1101\n",
      "weighted avg      0.281     0.398     0.259      1101\n",
      "\n"
     ]
    }
   ],
   "source": [
    "print_stats(rnn_model, dl_valid)"
   ]
  },
  {
   "cell_type": "code",
   "execution_count": 58,
   "metadata": {},
   "outputs": [
    {
     "name": "stdout",
     "output_type": "stream",
     "text": [
      "              precision    recall  f1-score   support\n",
      "\n",
      "           0      0.423     0.983     0.591      3610\n",
      "           1      0.433     0.018     0.035      3310\n",
      "           2      0.000     0.000     0.000      1624\n",
      "\n",
      "    accuracy                          0.423      8544\n",
      "   macro avg      0.285     0.334     0.209      8544\n",
      "weighted avg      0.346     0.423     0.263      8544\n",
      "\n"
     ]
    }
   ],
   "source": [
    "print_stats(rnn_model, dl_train)"
   ]
  },
  {
   "cell_type": "code",
   "execution_count": null,
   "metadata": {},
   "outputs": [],
   "source": []
  }
 ],
 "metadata": {
  "kernelspec": {
   "display_name": "Python 3",
   "language": "python",
   "name": "python3"
  },
  "language_info": {
   "codemirror_mode": {
    "name": "ipython",
    "version": 3
   },
   "file_extension": ".py",
   "mimetype": "text/x-python",
   "name": "python",
   "nbconvert_exporter": "python",
   "pygments_lexer": "ipython3",
   "version": "3.9.6"
  },
  "orig_nbformat": 4
 },
 "nbformat": 4,
 "nbformat_minor": 2
}

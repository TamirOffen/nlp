{
 "cells": [
  {
   "cell_type": "code",
   "execution_count": 1,
   "metadata": {},
   "outputs": [],
   "source": [
    "import math\n",
    "import numpy as np\n",
    "import random\n",
    "import matplotlib.pyplot as plt\n",
    "%matplotlib inline"
   ]
  },
  {
   "attachments": {},
   "cell_type": "markdown",
   "metadata": {},
   "source": [
    "# calculating derivatives analytically of very basic functions\n",
    "![](imgs/deriv_formula.png)\n",
    "\n",
    "first we start off with a simple quadratic $3x^2 - 4x + 5$,\n",
    "\n",
    "and then move on to calculating the derivative of $d = a * b + c$ w.r.t. each input (a, b, and c)"
   ]
  },
  {
   "cell_type": "code",
   "execution_count": 3,
   "metadata": {},
   "outputs": [],
   "source": [
    "def f(x):\n",
    "    return 3*(x**2) - 4*x + 5"
   ]
  },
  {
   "cell_type": "code",
   "execution_count": 4,
   "metadata": {},
   "outputs": [
    {
     "data": {
      "text/plain": [
       "20.0"
      ]
     },
     "execution_count": 4,
     "metadata": {},
     "output_type": "execute_result"
    }
   ],
   "source": [
    "f(3.0)"
   ]
  },
  {
   "cell_type": "code",
   "execution_count": 5,
   "metadata": {},
   "outputs": [
    {
     "data": {
      "image/png": "[encoded data removed]",
      "text/plain": [
       "<Figure size 640x480 with 1 Axes>"
      ]
     },
     "metadata": {},
     "output_type": "display_data"
    }
   ],
   "source": [
    "xs = np.arange(-5, 5, 0.25)\n",
    "ys =f(xs)\n",
    "_ = plt.plot(xs, ys)"
   ]
  },
  {
   "cell_type": "code",
   "execution_count": 6,
   "metadata": {},
   "outputs": [
    {
     "data": {
      "text/plain": [
       "14.000003002223593"
      ]
     },
     "execution_count": 6,
     "metadata": {},
     "output_type": "execute_result"
    }
   ],
   "source": [
    "# calculating the deriv of f using the lim def (h) - numerical approx.\n",
    "h = 0.000001\n",
    "x = 3\n",
    "(f(x+h)-f(x)) / h "
   ]
  },
  {
   "cell_type": "code",
   "execution_count": 7,
   "metadata": {},
   "outputs": [
    {
     "name": "stdout",
     "output_type": "stream",
     "text": [
      "4.0\n"
     ]
    }
   ],
   "source": [
    "# more complex case, (a,b,c) -> d\n",
    "a = 2.0\n",
    "b = -3.0\n",
    "c = 10.0\n",
    "d = a*b + c\n",
    "print(d)"
   ]
  },
  {
   "cell_type": "code",
   "execution_count": 8,
   "metadata": {},
   "outputs": [
    {
     "name": "stdout",
     "output_type": "stream",
     "text": [
      "d1 = 4.0\n",
      "d2 = 3.999699999999999\n",
      "slope = -3.000000000010772\n"
     ]
    }
   ],
   "source": [
    "# calculating the deriv of d w.r.t. the input values\n",
    "h = 0.0001\n",
    "\n",
    "# inputs\n",
    "a = 2.0\n",
    "b = -3.0\n",
    "c = 10.0\n",
    "\n",
    "# deriv:\n",
    "d1 = a*b + c\n",
    "a += h\n",
    "d2 = a*b + c\n",
    "print(f'd1 = {d1}')\n",
    "print(f'd2 = {d2}')\n",
    "print(f'slope = {(d2-d1)/h}')"
   ]
  },
  {
   "attachments": {},
   "cell_type": "markdown",
   "metadata": {},
   "source": [
    "# Engine\n",
    "Value class"
   ]
  },
  {
   "cell_type": "code",
   "execution_count": 38,
   "metadata": {},
   "outputs": [],
   "source": [
    "class Value:\n",
    "    def __init__(self, data, _children=(), _op='', label=''):\n",
    "        self.data = data\n",
    "        self.grad = 0.0 # 0 means no effect\n",
    "        self._backward = lambda: None # default an empty func\n",
    "        self._prev = set(_children) #set for efficiency \n",
    "        self._op = _op\n",
    "        self.label = label\n",
    "    \n",
    "    def __repr__(self):\n",
    "        return f\"Value(data={self.data})\"\n",
    "    \n",
    "    def __add__(self, other):\n",
    "        other = other if isinstance(other, Value) else Value(other) # supports: a + 1\n",
    "        out = Value(self.data + other.data, (self, other), '+')\n",
    "        def _backward():\n",
    "            self.grad += 1.0 * out.grad\n",
    "            other.grad += 1.0 * out.grad\n",
    "        out._backward = _backward\n",
    "        return out\n",
    "    \n",
    "    def __radd__(self, other): # supports: 1 + a\n",
    "        return self + other\n",
    "    \n",
    "    def __sub__(self, other):\n",
    "        return self + -1*other\n",
    "    \n",
    "    def __mul__(self, other):\n",
    "        other = other if isinstance(other, Value) else Value(other) # supports: a * 1\n",
    "        out = Value(self.data * other.data, (self, other), '*')\n",
    "        def _backward():\n",
    "            self.grad += other.data * out.grad\n",
    "            other.grad += self.data * out.grad\n",
    "        out._backward = _backward\n",
    "        return out\n",
    "    \n",
    "    def __rmul__(self, other): # supports: 2 * a\n",
    "        return self * other\n",
    "    \n",
    "    def __pow__(self, other):\n",
    "        assert isinstance(other, (int, float)), \"only supporting int/float powers\"\n",
    "        out = Value(self.data ** other, (self, ), f'**{other}')\n",
    "        def _backward():\n",
    "            self.grad += (other * self.data ** (other-1)) * out.grad\n",
    "        out._backward = _backward\n",
    "        return out\n",
    "    \n",
    "    def __truediv__(self, other): # self / other\n",
    "        return self * (other**-1)\n",
    "\n",
    "    def exp(self):\n",
    "        n = self.data\n",
    "        t = math.exp(n) # t = e^n\n",
    "        out = Value(t, (self, ), 'exp')\n",
    "        def _backward():\n",
    "            self.grad += t * out.grad\n",
    "        out._backward = _backward\n",
    "        return out\n",
    "    \n",
    "    def tanh(self):\n",
    "        n = self.data\n",
    "        t = (math.exp(2*n) - 1) / (math.exp(2*n) + 1) # t = tanh(n)\n",
    "        out = Value(t, (self, ), 'tanh')\n",
    "        def _backward():\n",
    "            self.grad += (1-t**2) * out.grad\n",
    "        out._backward = _backward\n",
    "        return out\n",
    "    \n",
    "    def relu(self):\n",
    "        n = self.data\n",
    "        t = n if n>0 else 0 # t = relu(n) = max(0,n)\n",
    "        out = Value(t, (self, ), 'relu')\n",
    "        def _backward():\n",
    "            self.grad += (1 if n>0 else 0) * out.grad\n",
    "        out._backward = _backward\n",
    "        return out\n",
    "    \n",
    "    def backward(self):\n",
    "        # to do an automatic backward step on a full graph, we will use topological sort\n",
    "        topo = []\n",
    "        visited = set()\n",
    "        def build_topo(v):\n",
    "            if v not in visited:\n",
    "                visited.add(v)\n",
    "                for child in v._prev:\n",
    "                    build_topo(child)\n",
    "                topo.append(v)\n",
    "\n",
    "        build_topo(self)\n",
    "        self.grad = 1.0\n",
    "        for node in reversed(topo):\n",
    "            node._backward()\n"
   ]
  },
  {
   "attachments": {},
   "cell_type": "markdown",
   "metadata": {},
   "source": [
    "## examples"
   ]
  },
  {
   "cell_type": "code",
   "execution_count": 44,
   "metadata": {},
   "outputs": [],
   "source": [
    "from graphviz import Digraph\n",
    "\n",
    "def trace(root):\n",
    "    nodes, edges = set(), set()\n",
    "    def build(v):\n",
    "        if v not in nodes:\n",
    "            nodes.add(v)\n",
    "            for child in v._prev:\n",
    "                edges.add((child, v))\n",
    "                build(child)\n",
    "    build(root)\n",
    "    return nodes, edges\n",
    "\n",
    "def draw_dot(root, format='svg', rankdir='LR'):\n",
    "    \"\"\"\n",
    "    format: png | svg | ...\n",
    "    rankdir: TB (top to bottom graph) | LR (left to right)\n",
    "    \"\"\"\n",
    "    assert rankdir in ['LR', 'TB']\n",
    "    nodes, edges = trace(root)\n",
    "    dot = Digraph(format=format, graph_attr={'rankdir': rankdir}) #, node_attr={'rankdir': 'TB'})\n",
    "    \n",
    "    for n in nodes:\n",
    "        dot.node(name=str(id(n)), label = \"{%s | data %.4f | grad %.4f}\" % (n.label, n.data, n.grad), shape='record')\n",
    "        if n._op:\n",
    "            dot.node(name=str(id(n)) + n._op, label=n._op)\n",
    "            dot.edge(str(id(n)) + n._op, str(id(n)))\n",
    "    \n",
    "    for n1, n2 in edges:\n",
    "        dot.edge(str(id(n1)), str(id(n2)) + n2._op)\n",
    "    \n",
    "    return dot\n"
   ]
  },
  {
   "attachments": {},
   "cell_type": "markdown",
   "metadata": {},
   "source": [
    "### example 1: mul and add nodes"
   ]
  },
  {
   "cell_type": "code",
   "execution_count": 40,
   "metadata": {},
   "outputs": [
    {
     "name": "stdout",
     "output_type": "stream",
     "text": [
      "d: Value(data=4.0)\n",
      "d's children are {Value(data=-6.0), Value(data=10.0)}, that were + together\n"
     ]
    },
    {
     "data": {
      "text/plain": [
       "Value(data=-8.0)"
      ]
     },
     "execution_count": 40,
     "metadata": {},
     "output_type": "execute_result"
    }
   ],
   "source": [
    "a = Value(2.0, label='a')\n",
    "b = Value(-3.0, label='b')\n",
    "c = Value(10.0, label='c')\n",
    "e = a*b; e.label='e'\n",
    "d = e + c; d.label='d'\n",
    "print(f'd: {d}')\n",
    "print(f'd\\'s children are {d._prev}, that were {d._op} together')\n",
    "\n",
    "f = Value(-2.0, label='f')\n",
    "L = d * f; L.label='L'\n",
    "L\n"
   ]
  },
  {
   "cell_type": "code",
   "execution_count": 43,
   "metadata": {},
   "outputs": [
    {
     "data": {
      "image/svg+xml": [
       "<?xml version=\"1.0\" encoding=\"UTF-8\" standalone=\"no\"?>\n",
       "<!DOCTYPE svg PUBLIC \"-//W3C//DTD SVG 1.1//EN\"\n",
       " \"http://www.w3.org/Graphics/SVG/1.1/DTD/svg11.dtd\">\n",
       "<!-- Generated by graphviz version 9.0.0 (20230911.1827)\n",
       " -->\n",
       "<!-- Pages: 1 -->\n",
       "<svg width=\"1151pt\" height=\"156pt\"\n",
       " viewBox=\"0.00 0.00 1151.00 156.00\" xmlns=\"http://www.w3.org/2000/svg\" xmlns:xlink=\"http://www.w3.org/1999/xlink\">\n",
       "<g id=\"graph0\" class=\"graph\" transform=\"scale(1 1) rotate(0) translate(4 152)\">\n",
       "<polygon fill=\"white\" stroke=\"none\" points=\"-4,4 -4,-152 1147,-152 1147,4 -4,4\"/>\n",
       "<!-- 4599066688 -->\n",
       "<g id=\"node1\" class=\"node\">\n",
       "<title>4599066688</title>\n",
       "<polygon fill=\"none\" stroke=\"black\" points=\"0,-111.5 0,-147.5 192.75,-147.5 192.75,-111.5 0,-111.5\"/>\n",
       "<text text-anchor=\"middle\" x=\"11.38\" y=\"-124.7\" font-family=\"Times,serif\" font-size=\"14.00\">b</text>\n",
       "<polyline fill=\"none\" stroke=\"black\" points=\"22.75,-112 22.75,-147.5\"/>\n",
       "<text text-anchor=\"middle\" x=\"64.88\" y=\"-124.7\" font-family=\"Times,serif\" font-size=\"14.00\">data &#45;3.0000</text>\n",
       "<polyline fill=\"none\" stroke=\"black\" points=\"107,-112 107,-147.5\"/>\n",
       "<text text-anchor=\"middle\" x=\"149.88\" y=\"-124.7\" font-family=\"Times,serif\" font-size=\"14.00\">grad &#45;4.0000</text>\n",
       "</g>\n",
       "<!-- 4599067072* -->\n",
       "<g id=\"node3\" class=\"node\">\n",
       "<title>4599067072*</title>\n",
       "<ellipse fill=\"none\" stroke=\"black\" cx=\"255.75\" cy=\"-101.5\" rx=\"27\" ry=\"18\"/>\n",
       "<text text-anchor=\"middle\" x=\"255.75\" y=\"-96.45\" font-family=\"Times,serif\" font-size=\"14.00\">*</text>\n",
       "</g>\n",
       "<!-- 4599066688&#45;&gt;4599067072* -->\n",
       "<g id=\"edge9\" class=\"edge\">\n",
       "<title>4599066688&#45;&gt;4599067072*</title>\n",
       "<path fill=\"none\" stroke=\"black\" d=\"M193,-112.49C201.81,-110.92 210.32,-109.41 218.06,-108.03\"/>\n",
       "<polygon fill=\"black\" stroke=\"black\" points=\"218.43,-111.52 227.66,-106.32 217.21,-104.62 218.43,-111.52\"/>\n",
       "</g>\n",
       "<!-- 4599067072 -->\n",
       "<g id=\"node2\" class=\"node\">\n",
       "<title>4599067072</title>\n",
       "<polygon fill=\"none\" stroke=\"black\" points=\"319.88,-83.5 319.88,-119.5 511.88,-119.5 511.88,-83.5 319.88,-83.5\"/>\n",
       "<text text-anchor=\"middle\" x=\"330.88\" y=\"-96.7\" font-family=\"Times,serif\" font-size=\"14.00\">e</text>\n",
       "<polyline fill=\"none\" stroke=\"black\" points=\"341.88,-84 341.88,-119.5\"/>\n",
       "<text text-anchor=\"middle\" x=\"384\" y=\"-96.7\" font-family=\"Times,serif\" font-size=\"14.00\">data &#45;6.0000</text>\n",
       "<polyline fill=\"none\" stroke=\"black\" points=\"426.12,-84 426.12,-119.5\"/>\n",
       "<text text-anchor=\"middle\" x=\"469\" y=\"-96.7\" font-family=\"Times,serif\" font-size=\"14.00\">grad &#45;2.0000</text>\n",
       "</g>\n",
       "<!-- 4599088416+ -->\n",
       "<g id=\"node7\" class=\"node\">\n",
       "<title>4599088416+</title>\n",
       "<ellipse fill=\"none\" stroke=\"black\" cx=\"576\" cy=\"-73.5\" rx=\"27\" ry=\"18\"/>\n",
       "<text text-anchor=\"middle\" x=\"576\" y=\"-68.45\" font-family=\"Times,serif\" font-size=\"14.00\">+</text>\n",
       "</g>\n",
       "<!-- 4599067072&#45;&gt;4599088416+ -->\n",
       "<g id=\"edge8\" class=\"edge\">\n",
       "<title>4599067072&#45;&gt;4599088416+</title>\n",
       "<path fill=\"none\" stroke=\"black\" d=\"M512.05,-84.65C521.28,-83.01 530.2,-81.43 538.29,-80\"/>\n",
       "<polygon fill=\"black\" stroke=\"black\" points=\"538.74,-83.47 547.98,-78.28 537.52,-76.58 538.74,-83.47\"/>\n",
       "</g>\n",
       "<!-- 4599067072*&#45;&gt;4599067072 -->\n",
       "<g id=\"edge1\" class=\"edge\">\n",
       "<title>4599067072*&#45;&gt;4599067072</title>\n",
       "<path fill=\"none\" stroke=\"black\" d=\"M283.22,-101.5C290.59,-101.5 299.09,-101.5 308.13,-101.5\"/>\n",
       "<polygon fill=\"black\" stroke=\"black\" points=\"307.89,-105 317.89,-101.5 307.89,-98 307.89,-105\"/>\n",
       "</g>\n",
       "<!-- 4599068368 -->\n",
       "<g id=\"node4\" class=\"node\">\n",
       "<title>4599068368</title>\n",
       "<polygon fill=\"none\" stroke=\"black\" points=\"318.75,-28.5 318.75,-64.5 513,-64.5 513,-28.5 318.75,-28.5\"/>\n",
       "<text text-anchor=\"middle\" x=\"329.75\" y=\"-41.7\" font-family=\"Times,serif\" font-size=\"14.00\">c</text>\n",
       "<polyline fill=\"none\" stroke=\"black\" points=\"340.75,-29 340.75,-64.5\"/>\n",
       "<text text-anchor=\"middle\" x=\"384\" y=\"-41.7\" font-family=\"Times,serif\" font-size=\"14.00\">data 10.0000</text>\n",
       "<polyline fill=\"none\" stroke=\"black\" points=\"427.25,-29 427.25,-64.5\"/>\n",
       "<text text-anchor=\"middle\" x=\"470.12\" y=\"-41.7\" font-family=\"Times,serif\" font-size=\"14.00\">grad &#45;2.0000</text>\n",
       "</g>\n",
       "<!-- 4599068368&#45;&gt;4599088416+ -->\n",
       "<g id=\"edge7\" class=\"edge\">\n",
       "<title>4599068368&#45;&gt;4599088416+</title>\n",
       "<path fill=\"none\" stroke=\"black\" d=\"M513.41,-62.98C522.1,-64.47 530.5,-65.9 538.15,-67.21\"/>\n",
       "<polygon fill=\"black\" stroke=\"black\" points=\"537.55,-70.66 548,-68.89 538.73,-63.76 537.55,-70.66\"/>\n",
       "</g>\n",
       "<!-- 4599087888 -->\n",
       "<g id=\"node5\" class=\"node\">\n",
       "<title>4599087888</title>\n",
       "<polygon fill=\"none\" stroke=\"black\" points=\"640.12,-0.5 640.12,-36.5 826.12,-36.5 826.12,-0.5 640.12,-0.5\"/>\n",
       "<text text-anchor=\"middle\" x=\"650.38\" y=\"-13.7\" font-family=\"Times,serif\" font-size=\"14.00\">f</text>\n",
       "<polyline fill=\"none\" stroke=\"black\" points=\"660.62,-1 660.62,-36.5\"/>\n",
       "<text text-anchor=\"middle\" x=\"702.75\" y=\"-13.7\" font-family=\"Times,serif\" font-size=\"14.00\">data &#45;2.0000</text>\n",
       "<polyline fill=\"none\" stroke=\"black\" points=\"744.88,-1 744.88,-36.5\"/>\n",
       "<text text-anchor=\"middle\" x=\"785.5\" y=\"-13.7\" font-family=\"Times,serif\" font-size=\"14.00\">grad 4.0000</text>\n",
       "</g>\n",
       "<!-- 4599290320* -->\n",
       "<g id=\"node10\" class=\"node\">\n",
       "<title>4599290320*</title>\n",
       "<ellipse fill=\"none\" stroke=\"black\" cx=\"890.25\" cy=\"-45.5\" rx=\"27\" ry=\"18\"/>\n",
       "<text text-anchor=\"middle\" x=\"890.25\" y=\"-40.45\" font-family=\"Times,serif\" font-size=\"14.00\">*</text>\n",
       "</g>\n",
       "<!-- 4599087888&#45;&gt;4599290320* -->\n",
       "<g id=\"edge4\" class=\"edge\">\n",
       "<title>4599087888&#45;&gt;4599290320*</title>\n",
       "<path fill=\"none\" stroke=\"black\" d=\"M826.6,-34.6C835.76,-36.19 844.62,-37.73 852.67,-39.13\"/>\n",
       "<polygon fill=\"black\" stroke=\"black\" points=\"851.85,-42.54 862.3,-40.81 853.05,-35.65 851.85,-42.54\"/>\n",
       "</g>\n",
       "<!-- 4599088416 -->\n",
       "<g id=\"node6\" class=\"node\">\n",
       "<title>4599088416</title>\n",
       "<polygon fill=\"none\" stroke=\"black\" points=\"639,-55.5 639,-91.5 827.25,-91.5 827.25,-55.5 639,-55.5\"/>\n",
       "<text text-anchor=\"middle\" x=\"650.38\" y=\"-68.7\" font-family=\"Times,serif\" font-size=\"14.00\">d</text>\n",
       "<polyline fill=\"none\" stroke=\"black\" points=\"661.75,-56 661.75,-91.5\"/>\n",
       "<text text-anchor=\"middle\" x=\"701.62\" y=\"-68.7\" font-family=\"Times,serif\" font-size=\"14.00\">data 4.0000</text>\n",
       "<polyline fill=\"none\" stroke=\"black\" points=\"741.5,-56 741.5,-91.5\"/>\n",
       "<text text-anchor=\"middle\" x=\"784.38\" y=\"-68.7\" font-family=\"Times,serif\" font-size=\"14.00\">grad &#45;2.0000</text>\n",
       "</g>\n",
       "<!-- 4599088416&#45;&gt;4599290320* -->\n",
       "<g id=\"edge5\" class=\"edge\">\n",
       "<title>4599088416&#45;&gt;4599290320*</title>\n",
       "<path fill=\"none\" stroke=\"black\" d=\"M827.49,-56.65C836.36,-55.05 844.93,-53.5 852.73,-52.09\"/>\n",
       "<polygon fill=\"black\" stroke=\"black\" points=\"853.2,-55.56 862.42,-50.34 851.95,-48.68 853.2,-55.56\"/>\n",
       "</g>\n",
       "<!-- 4599088416+&#45;&gt;4599088416 -->\n",
       "<g id=\"edge2\" class=\"edge\">\n",
       "<title>4599088416+&#45;&gt;4599088416</title>\n",
       "<path fill=\"none\" stroke=\"black\" d=\"M603.31,-73.5C610.49,-73.5 618.72,-73.5 627.47,-73.5\"/>\n",
       "<polygon fill=\"black\" stroke=\"black\" points=\"627.29,-77 637.29,-73.5 627.29,-70 627.29,-77\"/>\n",
       "</g>\n",
       "<!-- 4599068608 -->\n",
       "<g id=\"node8\" class=\"node\">\n",
       "<title>4599068608</title>\n",
       "<polygon fill=\"none\" stroke=\"black\" points=\"4.88,-56.5 4.88,-92.5 187.88,-92.5 187.88,-56.5 4.88,-56.5\"/>\n",
       "<text text-anchor=\"middle\" x=\"15.88\" y=\"-69.7\" font-family=\"Times,serif\" font-size=\"14.00\">a</text>\n",
       "<polyline fill=\"none\" stroke=\"black\" points=\"26.88,-57 26.88,-92.5\"/>\n",
       "<text text-anchor=\"middle\" x=\"66.75\" y=\"-69.7\" font-family=\"Times,serif\" font-size=\"14.00\">data 2.0000</text>\n",
       "<polyline fill=\"none\" stroke=\"black\" points=\"106.62,-57 106.62,-92.5\"/>\n",
       "<text text-anchor=\"middle\" x=\"147.25\" y=\"-69.7\" font-family=\"Times,serif\" font-size=\"14.00\">grad 6.0000</text>\n",
       "</g>\n",
       "<!-- 4599068608&#45;&gt;4599067072* -->\n",
       "<g id=\"edge6\" class=\"edge\">\n",
       "<title>4599068608&#45;&gt;4599067072*</title>\n",
       "<path fill=\"none\" stroke=\"black\" d=\"M188.01,-90.05C198.46,-91.84 208.62,-93.59 217.74,-95.15\"/>\n",
       "<polygon fill=\"black\" stroke=\"black\" points=\"217.11,-98.59 227.56,-96.84 218.3,-91.69 217.11,-98.59\"/>\n",
       "</g>\n",
       "<!-- 4599290320 -->\n",
       "<g id=\"node9\" class=\"node\">\n",
       "<title>4599290320</title>\n",
       "<polygon fill=\"none\" stroke=\"black\" points=\"953.25,-27.5 953.25,-63.5 1143,-63.5 1143,-27.5 953.25,-27.5\"/>\n",
       "<text text-anchor=\"middle\" x=\"965.38\" y=\"-40.7\" font-family=\"Times,serif\" font-size=\"14.00\">L</text>\n",
       "<polyline fill=\"none\" stroke=\"black\" points=\"977.5,-28 977.5,-63.5\"/>\n",
       "<text text-anchor=\"middle\" x=\"1019.62\" y=\"-40.7\" font-family=\"Times,serif\" font-size=\"14.00\">data &#45;8.0000</text>\n",
       "<polyline fill=\"none\" stroke=\"black\" points=\"1061.75,-28 1061.75,-63.5\"/>\n",
       "<text text-anchor=\"middle\" x=\"1102.38\" y=\"-40.7\" font-family=\"Times,serif\" font-size=\"14.00\">grad 1.0000</text>\n",
       "</g>\n",
       "<!-- 4599290320*&#45;&gt;4599290320 -->\n",
       "<g id=\"edge3\" class=\"edge\">\n",
       "<title>4599290320*&#45;&gt;4599290320</title>\n",
       "<path fill=\"none\" stroke=\"black\" d=\"M917.69,-45.5C924.84,-45.5 933.03,-45.5 941.74,-45.5\"/>\n",
       "<polygon fill=\"black\" stroke=\"black\" points=\"941.51,-49 951.51,-45.5 941.51,-42 941.51,-49\"/>\n",
       "</g>\n",
       "</g>\n",
       "</svg>\n"
      ],
      "text/plain": [
       "<graphviz.graphs.Digraph at 0x112203d60>"
      ]
     },
     "execution_count": 43,
     "metadata": {},
     "output_type": "execute_result"
    }
   ],
   "source": [
    "draw_dot(L)"
   ]
  },
  {
   "attachments": {},
   "cell_type": "markdown",
   "metadata": {},
   "source": [
    "Using the chain rule: \n",
    "* add node: $\\frac{dL}{dc} = \\frac{dL}{dd} * \\frac{dd}{dc} = \\frac{dL}{dd} * \\frac{d(c+e)}{dc} = \\frac{dL}{dd} * 1 = \\frac{dL}{dd}$\n",
    "$\\rightarrow$ add node backpropagates the derivative.\n",
    "\n",
    "* mul node: $\\frac{dL}{da} = \\frac{dL}{de} * \\frac{de}{da} = \\frac{dL}{de} * \\frac{d(a*b)}{da} = \\frac{dL}{dc} * b $\n",
    "$\\rightarrow$ mul node backpropagates the derivative by mul by the value of the other node.\n",
    "\n",
    "Manual calculations of the backward pass:\n",
    "* $\\frac{dL}{dL} = 1$\n",
    "  \n",
    "* $\\frac{dL}{df} =_{mul} \\frac{dL}{dL} * d = 1 * 4 = 4$\n",
    "* $\\frac{dL}{dd} =_{mul} \\frac{dL}{dL} * f = 1 * -2 = -2$\n",
    "* $\\frac{dL}{dc} =_{add} \\frac{dL}{dd} = -2$\n",
    "* $\\frac{dL}{de} =_{add} \\frac{dL}{dd} = -2$\n",
    "* $\\frac{dL}{db} =_{mul} \\frac{dL}{de} * a = -2 * 2 = -4$\n",
    "* $\\frac{dL}{da} =_{mul} \\frac{dL}{de} * b = -2 * -3= 6$"
   ]
  },
  {
   "cell_type": "code",
   "execution_count": 13,
   "metadata": {},
   "outputs": [],
   "source": [
    "# manual backward step\n",
    "L.grad = 1\n",
    "f.grad = 4; d.grad = -2\n",
    "c.grad = -2; e.grad = -2\n",
    "b.grad = -4; a.grad = 6"
   ]
  },
  {
   "cell_type": "code",
   "execution_count": 42,
   "metadata": {},
   "outputs": [],
   "source": [
    "# automatic backward step\n",
    "L.grad = 1.0; L._backward()\n",
    "d._backward()\n",
    "e._backward()"
   ]
  },
  {
   "attachments": {},
   "cell_type": "markdown",
   "metadata": {},
   "source": [
    "forward step (in the direction of the gradient so to *increase L*)"
   ]
  },
  {
   "cell_type": "code",
   "execution_count": 14,
   "metadata": {},
   "outputs": [
    {
     "name": "stdout",
     "output_type": "stream",
     "text": [
      "value of L after a backward and forward pass: -7.286496\n"
     ]
    }
   ],
   "source": [
    "# notice that we can only control the leaf nodes (which are the inputs)\n",
    "# update to the inputs:\n",
    "mu = 0.01\n",
    "a.data += mu * a.grad\n",
    "b.data += mu * b.grad\n",
    "c.data += mu * c.grad\n",
    "f.data += mu * f.grad\n",
    "\n",
    "# forward pass:\n",
    "e = a * b\n",
    "d = e + c\n",
    "L = d * f\n",
    "\n",
    "# did L increase like we wanted? yes.\n",
    "print(f'value of L after a backward and forward pass: {L.data}')\n"
   ]
  },
  {
   "attachments": {},
   "cell_type": "markdown",
   "metadata": {},
   "source": [
    "### example 2: tanh node"
   ]
  },
  {
   "cell_type": "code",
   "execution_count": 15,
   "metadata": {},
   "outputs": [
    {
     "data": {
      "text/plain": [
       "Text(0.5, 1.0, 'tanh activation function')"
      ]
     },
     "execution_count": 15,
     "metadata": {},
     "output_type": "execute_result"
    },
    {
     "data": {
      "image/png": "[encoded data removed]",
      "text/plain": [
       "<Figure size 640x480 with 1 Axes>"
      ]
     },
     "metadata": {},
     "output_type": "display_data"
    }
   ],
   "source": [
    "# tanh \n",
    "plt.plot(np.arange(-5, 5, 0.2), np.tanh(np.arange(-5,5,0.2)))\n",
    "plt.grid()\n",
    "plt.title(\"tanh activation function\")"
   ]
  },
  {
   "attachments": {},
   "cell_type": "markdown",
   "metadata": {},
   "source": [
    "neuron setup"
   ]
  },
  {
   "cell_type": "code",
   "execution_count": 51,
   "metadata": {},
   "outputs": [],
   "source": [
    "# inputs x1, x2\n",
    "x1 = Value(2.0, label='x1')\n",
    "x2 = Value(0.0, label='x2')\n",
    "# weights w1, w2\n",
    "w1 = Value(-3.0, label='w1')\n",
    "w2 = Value(1.0, label='w2')\n",
    "# bias of the neuron\n",
    "b = Value(6.881373587, label='b')\n",
    "# x1*w1 + x2*w2 + b -> n\n",
    "x1w1 = x1*w1; x1w1.label=\"x1*w1\"\n",
    "x2w2 = x2*w2; x2w2.label=\"x2*w2\"\n",
    "x1w1x2w2 = x1w1+x2w2; x1w1x2w2.label=\"x1*w1 + x2*w2\"\n",
    "n = x1w1x2w2+b; n.label = 'n'\n",
    "\n",
    "o = n.tanh(); o.label = \"o\"\n"
   ]
  },
  {
   "cell_type": "code",
   "execution_count": 54,
   "metadata": {},
   "outputs": [
    {
     "data": {
      "image/svg+xml": [
       "<?xml version=\"1.0\" encoding=\"UTF-8\" standalone=\"no\"?>\n",
       "<!DOCTYPE svg PUBLIC \"-//W3C//DTD SVG 1.1//EN\"\n",
       " \"http://www.w3.org/Graphics/SVG/1.1/DTD/svg11.dtd\">\n",
       "<!-- Generated by graphviz version 9.0.0 (20230911.1827)\n",
       " -->\n",
       "<!-- Pages: 1 -->\n",
       "<svg width=\"1567pt\" height=\"210pt\"\n",
       " viewBox=\"0.00 0.00 1566.50 210.00\" xmlns=\"http://www.w3.org/2000/svg\" xmlns:xlink=\"http://www.w3.org/1999/xlink\">\n",
       "<g id=\"graph0\" class=\"graph\" transform=\"scale(1 1) rotate(0) translate(4 206)\">\n",
       "<polygon fill=\"white\" stroke=\"none\" points=\"-4,4 -4,-206 1562.5,-206 1562.5,4 -4,4\"/>\n",
       "<!-- 4598183440 -->\n",
       "<g id=\"node1\" class=\"node\">\n",
       "<title>4598183440</title>\n",
       "<polygon fill=\"none\" stroke=\"black\" points=\"326.25,-55.5 326.25,-91.5 540,-91.5 540,-55.5 326.25,-55.5\"/>\n",
       "<text text-anchor=\"middle\" x=\"352.62\" y=\"-68.7\" font-family=\"Times,serif\" font-size=\"14.00\">x2*w2</text>\n",
       "<polyline fill=\"none\" stroke=\"black\" points=\"379,-56 379,-91.5\"/>\n",
       "<text text-anchor=\"middle\" x=\"418.88\" y=\"-68.7\" font-family=\"Times,serif\" font-size=\"14.00\">data 0.0000</text>\n",
       "<polyline fill=\"none\" stroke=\"black\" points=\"458.75,-56 458.75,-91.5\"/>\n",
       "<text text-anchor=\"middle\" x=\"499.38\" y=\"-68.7\" font-family=\"Times,serif\" font-size=\"14.00\">grad 0.5000</text>\n",
       "</g>\n",
       "<!-- 4598185888+ -->\n",
       "<g id=\"node13\" class=\"node\">\n",
       "<title>4598185888+</title>\n",
       "<ellipse fill=\"none\" stroke=\"black\" cx=\"605.25\" cy=\"-100.5\" rx=\"27\" ry=\"18\"/>\n",
       "<text text-anchor=\"middle\" x=\"605.25\" y=\"-95.45\" font-family=\"Times,serif\" font-size=\"14.00\">+</text>\n",
       "</g>\n",
       "<!-- 4598183440&#45;&gt;4598185888+ -->\n",
       "<g id=\"edge11\" class=\"edge\">\n",
       "<title>4598183440&#45;&gt;4598185888+</title>\n",
       "<path fill=\"none\" stroke=\"black\" d=\"M540.42,-90.37C549.89,-91.87 559,-93.32 567.21,-94.62\"/>\n",
       "<polygon fill=\"black\" stroke=\"black\" points=\"566.63,-98.07 577.05,-96.18 567.72,-91.16 566.63,-98.07\"/>\n",
       "</g>\n",
       "<!-- 4598183440* -->\n",
       "<g id=\"node2\" class=\"node\">\n",
       "<title>4598183440*</title>\n",
       "<ellipse fill=\"none\" stroke=\"black\" cx=\"261\" cy=\"-73.5\" rx=\"27\" ry=\"18\"/>\n",
       "<text text-anchor=\"middle\" x=\"261\" y=\"-68.45\" font-family=\"Times,serif\" font-size=\"14.00\">*</text>\n",
       "</g>\n",
       "<!-- 4598183440*&#45;&gt;4598183440 -->\n",
       "<g id=\"edge1\" class=\"edge\">\n",
       "<title>4598183440*&#45;&gt;4598183440</title>\n",
       "<path fill=\"none\" stroke=\"black\" d=\"M288.21,-73.5C296,-73.5 305.08,-73.5 314.82,-73.5\"/>\n",
       "<polygon fill=\"black\" stroke=\"black\" points=\"314.55,-77 324.55,-73.5 314.55,-70 314.55,-77\"/>\n",
       "</g>\n",
       "<!-- 4599289408 -->\n",
       "<g id=\"node3\" class=\"node\">\n",
       "<title>4599289408</title>\n",
       "<polygon fill=\"none\" stroke=\"black\" points=\"0,-165.5 0,-201.5 198,-201.5 198,-165.5 0,-165.5\"/>\n",
       "<text text-anchor=\"middle\" x=\"16.25\" y=\"-178.7\" font-family=\"Times,serif\" font-size=\"14.00\">w1</text>\n",
       "<polyline fill=\"none\" stroke=\"black\" points=\"32.5,-166 32.5,-201.5\"/>\n",
       "<text text-anchor=\"middle\" x=\"74.62\" y=\"-178.7\" font-family=\"Times,serif\" font-size=\"14.00\">data &#45;3.0000</text>\n",
       "<polyline fill=\"none\" stroke=\"black\" points=\"116.75,-166 116.75,-201.5\"/>\n",
       "<text text-anchor=\"middle\" x=\"157.38\" y=\"-178.7\" font-family=\"Times,serif\" font-size=\"14.00\">grad 1.0000</text>\n",
       "</g>\n",
       "<!-- 4599289696* -->\n",
       "<g id=\"node11\" class=\"node\">\n",
       "<title>4599289696*</title>\n",
       "<ellipse fill=\"none\" stroke=\"black\" cx=\"261\" cy=\"-128.5\" rx=\"27\" ry=\"18\"/>\n",
       "<text text-anchor=\"middle\" x=\"261\" y=\"-123.45\" font-family=\"Times,serif\" font-size=\"14.00\">*</text>\n",
       "</g>\n",
       "<!-- 4599289408&#45;&gt;4599289696* -->\n",
       "<g id=\"edge13\" class=\"edge\">\n",
       "<title>4599289408&#45;&gt;4599289696*</title>\n",
       "<path fill=\"none\" stroke=\"black\" d=\"M172.12,-165.01C180.9,-162.35 189.7,-159.5 198,-156.5 208.09,-152.86 218.82,-148.27 228.47,-143.88\"/>\n",
       "<polygon fill=\"black\" stroke=\"black\" points=\"229.86,-147.09 237.45,-139.69 226.9,-140.75 229.86,-147.09\"/>\n",
       "</g>\n",
       "<!-- 4599288400 -->\n",
       "<g id=\"node4\" class=\"node\">\n",
       "<title>4599288400</title>\n",
       "<polygon fill=\"none\" stroke=\"black\" points=\"2.25,-55.5 2.25,-91.5 195.75,-91.5 195.75,-55.5 2.25,-55.5\"/>\n",
       "<text text-anchor=\"middle\" x=\"18.5\" y=\"-68.7\" font-family=\"Times,serif\" font-size=\"14.00\">w2</text>\n",
       "<polyline fill=\"none\" stroke=\"black\" points=\"34.75,-56 34.75,-91.5\"/>\n",
       "<text text-anchor=\"middle\" x=\"74.62\" y=\"-68.7\" font-family=\"Times,serif\" font-size=\"14.00\">data 1.0000</text>\n",
       "<polyline fill=\"none\" stroke=\"black\" points=\"114.5,-56 114.5,-91.5\"/>\n",
       "<text text-anchor=\"middle\" x=\"155.12\" y=\"-68.7\" font-family=\"Times,serif\" font-size=\"14.00\">grad 0.0000</text>\n",
       "</g>\n",
       "<!-- 4599288400&#45;&gt;4598183440* -->\n",
       "<g id=\"edge10\" class=\"edge\">\n",
       "<title>4599288400&#45;&gt;4598183440*</title>\n",
       "<path fill=\"none\" stroke=\"black\" d=\"M195.84,-73.5C205.14,-73.5 214.15,-73.5 222.32,-73.5\"/>\n",
       "<polygon fill=\"black\" stroke=\"black\" points=\"222.13,-77 232.13,-73.5 222.13,-70 222.13,-77\"/>\n",
       "</g>\n",
       "<!-- 4598183536 -->\n",
       "<g id=\"node5\" class=\"node\">\n",
       "<title>4598183536</title>\n",
       "<polygon fill=\"none\" stroke=\"black\" points=\"1374.75,-109.5 1374.75,-145.5 1558.5,-145.5 1558.5,-109.5 1374.75,-109.5\"/>\n",
       "<text text-anchor=\"middle\" x=\"1386.12\" y=\"-122.7\" font-family=\"Times,serif\" font-size=\"14.00\">o</text>\n",
       "<polyline fill=\"none\" stroke=\"black\" points=\"1397.5,-110 1397.5,-145.5\"/>\n",
       "<text text-anchor=\"middle\" x=\"1437.38\" y=\"-122.7\" font-family=\"Times,serif\" font-size=\"14.00\">data 0.7071</text>\n",
       "<polyline fill=\"none\" stroke=\"black\" points=\"1477.25,-110 1477.25,-145.5\"/>\n",
       "<text text-anchor=\"middle\" x=\"1517.88\" y=\"-122.7\" font-family=\"Times,serif\" font-size=\"14.00\">grad 1.0000</text>\n",
       "</g>\n",
       "<!-- 4598183536tanh -->\n",
       "<g id=\"node6\" class=\"node\">\n",
       "<title>4598183536tanh</title>\n",
       "<ellipse fill=\"none\" stroke=\"black\" cx=\"1311.75\" cy=\"-127.5\" rx=\"27\" ry=\"18\"/>\n",
       "<text text-anchor=\"middle\" x=\"1311.75\" y=\"-122.45\" font-family=\"Times,serif\" font-size=\"14.00\">tanh</text>\n",
       "</g>\n",
       "<!-- 4598183536tanh&#45;&gt;4598183536 -->\n",
       "<g id=\"edge2\" class=\"edge\">\n",
       "<title>4598183536tanh&#45;&gt;4598183536</title>\n",
       "<path fill=\"none\" stroke=\"black\" d=\"M1339.03,-127.5C1346.17,-127.5 1354.36,-127.5 1363.07,-127.5\"/>\n",
       "<polygon fill=\"black\" stroke=\"black\" points=\"1362.81,-131 1372.81,-127.5 1362.81,-124 1362.81,-131\"/>\n",
       "</g>\n",
       "<!-- 4598184592 -->\n",
       "<g id=\"node7\" class=\"node\">\n",
       "<title>4598184592</title>\n",
       "<polygon fill=\"none\" stroke=\"black\" points=\"1065,-109.5 1065,-145.5 1248.75,-145.5 1248.75,-109.5 1065,-109.5\"/>\n",
       "<text text-anchor=\"middle\" x=\"1076.38\" y=\"-122.7\" font-family=\"Times,serif\" font-size=\"14.00\">n</text>\n",
       "<polyline fill=\"none\" stroke=\"black\" points=\"1087.75,-110 1087.75,-145.5\"/>\n",
       "<text text-anchor=\"middle\" x=\"1127.62\" y=\"-122.7\" font-family=\"Times,serif\" font-size=\"14.00\">data 0.8814</text>\n",
       "<polyline fill=\"none\" stroke=\"black\" points=\"1167.5,-110 1167.5,-145.5\"/>\n",
       "<text text-anchor=\"middle\" x=\"1208.12\" y=\"-122.7\" font-family=\"Times,serif\" font-size=\"14.00\">grad 0.5000</text>\n",
       "</g>\n",
       "<!-- 4598184592&#45;&gt;4598183536tanh -->\n",
       "<g id=\"edge14\" class=\"edge\">\n",
       "<title>4598184592&#45;&gt;4598183536tanh</title>\n",
       "<path fill=\"none\" stroke=\"black\" d=\"M1249.01,-127.5C1257.39,-127.5 1265.52,-127.5 1272.98,-127.5\"/>\n",
       "<polygon fill=\"black\" stroke=\"black\" points=\"1272.95,-131 1282.95,-127.5 1272.95,-124 1272.95,-131\"/>\n",
       "</g>\n",
       "<!-- 4598184592+ -->\n",
       "<g id=\"node8\" class=\"node\">\n",
       "<title>4598184592+</title>\n",
       "<ellipse fill=\"none\" stroke=\"black\" cx=\"1002\" cy=\"-127.5\" rx=\"27\" ry=\"18\"/>\n",
       "<text text-anchor=\"middle\" x=\"1002\" y=\"-122.45\" font-family=\"Times,serif\" font-size=\"14.00\">+</text>\n",
       "</g>\n",
       "<!-- 4598184592+&#45;&gt;4598184592 -->\n",
       "<g id=\"edge3\" class=\"edge\">\n",
       "<title>4598184592+&#45;&gt;4598184592</title>\n",
       "<path fill=\"none\" stroke=\"black\" d=\"M1029.28,-127.5C1036.42,-127.5 1044.61,-127.5 1053.32,-127.5\"/>\n",
       "<polygon fill=\"black\" stroke=\"black\" points=\"1053.06,-131 1063.06,-127.5 1053.06,-124 1053.06,-131\"/>\n",
       "</g>\n",
       "<!-- 4599290704 -->\n",
       "<g id=\"node9\" class=\"node\">\n",
       "<title>4599290704</title>\n",
       "<polygon fill=\"none\" stroke=\"black\" points=\"1.5,-110.5 1.5,-146.5 196.5,-146.5 196.5,-110.5 1.5,-110.5\"/>\n",
       "<text text-anchor=\"middle\" x=\"16.25\" y=\"-123.7\" font-family=\"Times,serif\" font-size=\"14.00\">x1</text>\n",
       "<polyline fill=\"none\" stroke=\"black\" points=\"31,-111 31,-146.5\"/>\n",
       "<text text-anchor=\"middle\" x=\"70.88\" y=\"-123.7\" font-family=\"Times,serif\" font-size=\"14.00\">data 2.0000</text>\n",
       "<polyline fill=\"none\" stroke=\"black\" points=\"110.75,-111 110.75,-146.5\"/>\n",
       "<text text-anchor=\"middle\" x=\"153.62\" y=\"-123.7\" font-family=\"Times,serif\" font-size=\"14.00\">grad &#45;1.5000</text>\n",
       "</g>\n",
       "<!-- 4599290704&#45;&gt;4599289696* -->\n",
       "<g id=\"edge12\" class=\"edge\">\n",
       "<title>4599290704&#45;&gt;4599289696*</title>\n",
       "<path fill=\"none\" stroke=\"black\" d=\"M196.76,-128.5C205.77,-128.5 214.47,-128.5 222.4,-128.5\"/>\n",
       "<polygon fill=\"black\" stroke=\"black\" points=\"222.25,-132 232.25,-128.5 222.25,-125 222.25,-132\"/>\n",
       "</g>\n",
       "<!-- 4599289696 -->\n",
       "<g id=\"node10\" class=\"node\">\n",
       "<title>4599289696</title>\n",
       "<polygon fill=\"none\" stroke=\"black\" points=\"324,-110.5 324,-146.5 542.25,-146.5 542.25,-110.5 324,-110.5\"/>\n",
       "<text text-anchor=\"middle\" x=\"350.38\" y=\"-123.7\" font-family=\"Times,serif\" font-size=\"14.00\">x1*w1</text>\n",
       "<polyline fill=\"none\" stroke=\"black\" points=\"376.75,-111 376.75,-146.5\"/>\n",
       "<text text-anchor=\"middle\" x=\"418.88\" y=\"-123.7\" font-family=\"Times,serif\" font-size=\"14.00\">data &#45;6.0000</text>\n",
       "<polyline fill=\"none\" stroke=\"black\" points=\"461,-111 461,-146.5\"/>\n",
       "<text text-anchor=\"middle\" x=\"501.62\" y=\"-123.7\" font-family=\"Times,serif\" font-size=\"14.00\">grad 0.5000</text>\n",
       "</g>\n",
       "<!-- 4599289696&#45;&gt;4598185888+ -->\n",
       "<g id=\"edge7\" class=\"edge\">\n",
       "<title>4599289696&#45;&gt;4598185888+</title>\n",
       "<path fill=\"none\" stroke=\"black\" d=\"M542.35,-110.69C551.12,-109.24 559.54,-107.86 567.19,-106.6\"/>\n",
       "<polygon fill=\"black\" stroke=\"black\" points=\"567.72,-110.06 577.02,-104.98 566.58,-103.15 567.72,-110.06\"/>\n",
       "</g>\n",
       "<!-- 4599289696*&#45;&gt;4599289696 -->\n",
       "<g id=\"edge4\" class=\"edge\">\n",
       "<title>4599289696*&#45;&gt;4599289696</title>\n",
       "<path fill=\"none\" stroke=\"black\" d=\"M288.21,-128.5C295.29,-128.5 303.43,-128.5 312.17,-128.5\"/>\n",
       "<polygon fill=\"black\" stroke=\"black\" points=\"312.01,-132 322.01,-128.5 312.01,-125 312.01,-132\"/>\n",
       "</g>\n",
       "<!-- 4598185888 -->\n",
       "<g id=\"node12\" class=\"node\">\n",
       "<title>4598185888</title>\n",
       "<polygon fill=\"none\" stroke=\"black\" points=\"668.25,-82.5 668.25,-118.5 939,-118.5 939,-82.5 668.25,-82.5\"/>\n",
       "<text text-anchor=\"middle\" x=\"720.88\" y=\"-95.7\" font-family=\"Times,serif\" font-size=\"14.00\">x1*w1 + x2*w2</text>\n",
       "<polyline fill=\"none\" stroke=\"black\" points=\"773.5,-83 773.5,-118.5\"/>\n",
       "<text text-anchor=\"middle\" x=\"815.62\" y=\"-95.7\" font-family=\"Times,serif\" font-size=\"14.00\">data &#45;6.0000</text>\n",
       "<polyline fill=\"none\" stroke=\"black\" points=\"857.75,-83 857.75,-118.5\"/>\n",
       "<text text-anchor=\"middle\" x=\"898.38\" y=\"-95.7\" font-family=\"Times,serif\" font-size=\"14.00\">grad 0.5000</text>\n",
       "</g>\n",
       "<!-- 4598185888&#45;&gt;4598184592+ -->\n",
       "<g id=\"edge9\" class=\"edge\">\n",
       "<title>4598185888&#45;&gt;4598184592+</title>\n",
       "<path fill=\"none\" stroke=\"black\" d=\"M939.14,-118.99C947.95,-120.21 956.31,-121.36 963.87,-122.4\"/>\n",
       "<polygon fill=\"black\" stroke=\"black\" points=\"963.16,-125.83 973.55,-123.73 964.12,-118.9 963.16,-125.83\"/>\n",
       "</g>\n",
       "<!-- 4598185888+&#45;&gt;4598185888 -->\n",
       "<g id=\"edge5\" class=\"edge\">\n",
       "<title>4598185888+&#45;&gt;4598185888</title>\n",
       "<path fill=\"none\" stroke=\"black\" d=\"M632.73,-100.5C639.73,-100.5 647.79,-100.5 656.52,-100.5\"/>\n",
       "<polygon fill=\"black\" stroke=\"black\" points=\"656.39,-104 666.39,-100.5 656.39,-97 656.39,-104\"/>\n",
       "</g>\n",
       "<!-- 4599288784 -->\n",
       "<g id=\"node14\" class=\"node\">\n",
       "<title>4599288784</title>\n",
       "<polygon fill=\"none\" stroke=\"black\" points=\"711.75,-137.5 711.75,-173.5 895.5,-173.5 895.5,-137.5 711.75,-137.5\"/>\n",
       "<text text-anchor=\"middle\" x=\"723.12\" y=\"-150.7\" font-family=\"Times,serif\" font-size=\"14.00\">b</text>\n",
       "<polyline fill=\"none\" stroke=\"black\" points=\"734.5,-138 734.5,-173.5\"/>\n",
       "<text text-anchor=\"middle\" x=\"774.38\" y=\"-150.7\" font-family=\"Times,serif\" font-size=\"14.00\">data 6.8814</text>\n",
       "<polyline fill=\"none\" stroke=\"black\" points=\"814.25,-138 814.25,-173.5\"/>\n",
       "<text text-anchor=\"middle\" x=\"854.88\" y=\"-150.7\" font-family=\"Times,serif\" font-size=\"14.00\">grad 0.5000</text>\n",
       "</g>\n",
       "<!-- 4599288784&#45;&gt;4598184592+ -->\n",
       "<g id=\"edge8\" class=\"edge\">\n",
       "<title>4599288784&#45;&gt;4598184592+</title>\n",
       "<path fill=\"none\" stroke=\"black\" d=\"M895.91,-142.48C919.97,-139.05 944.58,-135.55 963.93,-132.79\"/>\n",
       "<polygon fill=\"black\" stroke=\"black\" points=\"964.34,-136.26 973.75,-131.39 963.35,-129.33 964.34,-136.26\"/>\n",
       "</g>\n",
       "<!-- 4599290848 -->\n",
       "<g id=\"node15\" class=\"node\">\n",
       "<title>4599290848</title>\n",
       "<polygon fill=\"none\" stroke=\"black\" points=\"3.75,-0.5 3.75,-36.5 194.25,-36.5 194.25,-0.5 3.75,-0.5\"/>\n",
       "<text text-anchor=\"middle\" x=\"18.5\" y=\"-13.7\" font-family=\"Times,serif\" font-size=\"14.00\">x2</text>\n",
       "<polyline fill=\"none\" stroke=\"black\" points=\"33.25,-1 33.25,-36.5\"/>\n",
       "<text text-anchor=\"middle\" x=\"73.12\" y=\"-13.7\" font-family=\"Times,serif\" font-size=\"14.00\">data 0.0000</text>\n",
       "<polyline fill=\"none\" stroke=\"black\" points=\"113,-1 113,-36.5\"/>\n",
       "<text text-anchor=\"middle\" x=\"153.62\" y=\"-13.7\" font-family=\"Times,serif\" font-size=\"14.00\">grad 0.5000</text>\n",
       "</g>\n",
       "<!-- 4599290848&#45;&gt;4598183440* -->\n",
       "<g id=\"edge6\" class=\"edge\">\n",
       "<title>4599290848&#45;&gt;4598183440*</title>\n",
       "<path fill=\"none\" stroke=\"black\" d=\"M168.91,-36.94C178.74,-39.93 188.67,-43.15 198,-46.5 207.96,-50.07 218.58,-54.47 228.18,-58.68\"/>\n",
       "<polygon fill=\"black\" stroke=\"black\" points=\"226.54,-61.78 237.1,-62.67 229.4,-55.39 226.54,-61.78\"/>\n",
       "</g>\n",
       "</g>\n",
       "</svg>\n"
      ],
      "text/plain": [
       "<graphviz.graphs.Digraph at 0x112239310>"
      ]
     },
     "execution_count": 54,
     "metadata": {},
     "output_type": "execute_result"
    }
   ],
   "source": [
    "draw_dot(o)"
   ]
  },
  {
   "attachments": {},
   "cell_type": "markdown",
   "metadata": {},
   "source": [
    "chain rule:\n",
    "* o.grad = $\\frac{do}{do} = 1$\n",
    "  \n",
    "* n.grad = $\\frac{do}{dn} = \\frac{d(tanh(n))}{dn} = 1 - tanh^2(n) = 1 - (\\text{o.data})^2 = 1 - 0.5 = 0.5$\n",
    "* b.grad = $\\frac{do}{db} =_{add} \\text{n.grad} = 0.5$\n",
    "* x1w1x2w2.grad = $\\frac{do}{dx1w1x2w2} =_{add} \\text{n.grad} = 0.5$\n",
    "* x1w1.grad = $\\frac{do}{dx1w1} =_{add} \\text{x1w1x2w2.grad} = 0.5$\n",
    "* x2w2.grad = $\\frac{do}{dx2w2} =_{add} \\text{x1w1x2w2.grad} = 0.5$\n",
    "* x1.grad = $\\frac{do}{dx1} =_{mul} \\text{x1w1.grad} * \\text{w1.data} = 0.5 * -3 = -1.5$\n",
    "* w1.grad = $\\frac{do}{dw1} =_{mul} \\text{x1w1.grad} * \\text{x1.data} = 0.5 * 2 = 1$\n",
    "* x2.grad = $\\frac{do}{dx2} =_{mul} \\text{x2w2.grad} * \\text{w2.data} = 0.5 * 1 = 0.5$\n",
    "* w2.grad = $\\frac{do}{dw2} =_{mul} \\text{x2w2.grad} * \\text{x2.data} = 0.5 * 0 = 0$"
   ]
  },
  {
   "cell_type": "code",
   "execution_count": 19,
   "metadata": {},
   "outputs": [],
   "source": [
    "# manual backward pass:\n",
    "o.grad = 1\n",
    "n.grad = 0.5\n",
    "b.grad = 0.5; x1w1x2w2.grad = 0.5\n",
    "x1w1.grad = 0.5; x2w2.grad = 0.5\n",
    "x1.grad = -1.5; w1.grad = 1\n",
    "x2.grad = 0.5; w2.grad = 0\n"
   ]
  },
  {
   "cell_type": "code",
   "execution_count": 38,
   "metadata": {},
   "outputs": [],
   "source": [
    "# (manual) auto backward pass:\n",
    "o.grad = 1.0; o._backward()\n",
    "n._backward()\n",
    "x1w1x2w2._backward()\n",
    "x1w1._backward(); x2w2._backward()\n"
   ]
  },
  {
   "cell_type": "code",
   "execution_count": 53,
   "metadata": {},
   "outputs": [],
   "source": [
    "# auto backward pass:\n",
    "o.backward()"
   ]
  },
  {
   "attachments": {},
   "cell_type": "markdown",
   "metadata": {},
   "source": [
    "same graph as before but we will break down tanh into its definition: $tanh(x) = \\frac{e^{2x}-1}{e^{2x}+1}$"
   ]
  },
  {
   "cell_type": "code",
   "execution_count": 80,
   "metadata": {},
   "outputs": [
    {
     "data": {
      "image/svg+xml": [
       "<?xml version=\"1.0\" encoding=\"UTF-8\" standalone=\"no\"?>\n",
       "<!DOCTYPE svg PUBLIC \"-//W3C//DTD SVG 1.1//EN\"\n",
       " \"http://www.w3.org/Graphics/SVG/1.1/DTD/svg11.dtd\">\n",
       "<!-- Generated by graphviz version 9.0.0 (20230911.1827)\n",
       " -->\n",
       "<!-- Pages: 1 -->\n",
       "<svg width=\"2929pt\" height=\"239pt\"\n",
       " viewBox=\"0.00 0.00 2929.25 239.00\" xmlns=\"http://www.w3.org/2000/svg\" xmlns:xlink=\"http://www.w3.org/1999/xlink\">\n",
       "<g id=\"graph0\" class=\"graph\" transform=\"scale(1 1) rotate(0) translate(4 235)\">\n",
       "<polygon fill=\"white\" stroke=\"none\" points=\"-4,4 -4,-235 2925.25,-235 2925.25,4 -4,4\"/>\n",
       "<!-- 4601740832 -->\n",
       "<g id=\"node1\" class=\"node\">\n",
       "<title>4601740832</title>\n",
       "<polygon fill=\"none\" stroke=\"black\" points=\"0,-194.5 0,-230.5 198,-230.5 198,-194.5 0,-194.5\"/>\n",
       "<text text-anchor=\"middle\" x=\"16.25\" y=\"-207.7\" font-family=\"Times,serif\" font-size=\"14.00\">w1</text>\n",
       "<polyline fill=\"none\" stroke=\"black\" points=\"32.5,-195 32.5,-230.5\"/>\n",
       "<text text-anchor=\"middle\" x=\"74.62\" y=\"-207.7\" font-family=\"Times,serif\" font-size=\"14.00\">data &#45;3.0000</text>\n",
       "<polyline fill=\"none\" stroke=\"black\" points=\"116.75,-195 116.75,-230.5\"/>\n",
       "<text text-anchor=\"middle\" x=\"157.38\" y=\"-207.7\" font-family=\"Times,serif\" font-size=\"14.00\">grad 1.0000</text>\n",
       "</g>\n",
       "<!-- 4603005152* -->\n",
       "<g id=\"node20\" class=\"node\">\n",
       "<title>4603005152*</title>\n",
       "<ellipse fill=\"none\" stroke=\"black\" cx=\"261\" cy=\"-157.5\" rx=\"27\" ry=\"18\"/>\n",
       "<text text-anchor=\"middle\" x=\"261\" y=\"-152.45\" font-family=\"Times,serif\" font-size=\"14.00\">*</text>\n",
       "</g>\n",
       "<!-- 4601740832&#45;&gt;4603005152* -->\n",
       "<g id=\"edge12\" class=\"edge\">\n",
       "<title>4601740832&#45;&gt;4603005152*</title>\n",
       "<path fill=\"none\" stroke=\"black\" d=\"M172.12,-194.01C180.9,-191.35 189.7,-188.5 198,-185.5 208.09,-181.86 218.82,-177.27 228.47,-172.88\"/>\n",
       "<polygon fill=\"black\" stroke=\"black\" points=\"229.86,-176.09 237.45,-168.69 226.9,-169.75 229.86,-176.09\"/>\n",
       "</g>\n",
       "<!-- 4603006352 -->\n",
       "<g id=\"node2\" class=\"node\">\n",
       "<title>4603006352</title>\n",
       "<polygon fill=\"none\" stroke=\"black\" points=\"1065,-83.5 1065,-119.5 1248.75,-119.5 1248.75,-83.5 1065,-83.5\"/>\n",
       "<text text-anchor=\"middle\" x=\"1076.38\" y=\"-96.7\" font-family=\"Times,serif\" font-size=\"14.00\">n</text>\n",
       "<polyline fill=\"none\" stroke=\"black\" points=\"1087.75,-84 1087.75,-119.5\"/>\n",
       "<text text-anchor=\"middle\" x=\"1127.62\" y=\"-96.7\" font-family=\"Times,serif\" font-size=\"14.00\">data 0.8814</text>\n",
       "<polyline fill=\"none\" stroke=\"black\" points=\"1167.5,-84 1167.5,-119.5\"/>\n",
       "<text text-anchor=\"middle\" x=\"1208.12\" y=\"-96.7\" font-family=\"Times,serif\" font-size=\"14.00\">grad 0.5000</text>\n",
       "</g>\n",
       "<!-- 4603006688* -->\n",
       "<g id=\"node18\" class=\"node\">\n",
       "<title>4603006688*</title>\n",
       "<ellipse fill=\"none\" stroke=\"black\" cx=\"1311.75\" cy=\"-73.5\" rx=\"27\" ry=\"18\"/>\n",
       "<text text-anchor=\"middle\" x=\"1311.75\" y=\"-68.45\" font-family=\"Times,serif\" font-size=\"14.00\">*</text>\n",
       "</g>\n",
       "<!-- 4603006352&#45;&gt;4603006688* -->\n",
       "<g id=\"edge16\" class=\"edge\">\n",
       "<title>4603006352&#45;&gt;4603006688*</title>\n",
       "<path fill=\"none\" stroke=\"black\" d=\"M1249.01,-84.81C1257.84,-83.19 1266.4,-81.62 1274.19,-80.2\"/>\n",
       "<polygon fill=\"black\" stroke=\"black\" points=\"1274.67,-83.67 1283.88,-78.42 1273.41,-76.78 1274.67,-83.67\"/>\n",
       "</g>\n",
       "<!-- 4603006352+ -->\n",
       "<g id=\"node3\" class=\"node\">\n",
       "<title>4603006352+</title>\n",
       "<ellipse fill=\"none\" stroke=\"black\" cx=\"1002\" cy=\"-101.5\" rx=\"27\" ry=\"18\"/>\n",
       "<text text-anchor=\"middle\" x=\"1002\" y=\"-96.45\" font-family=\"Times,serif\" font-size=\"14.00\">+</text>\n",
       "</g>\n",
       "<!-- 4603006352+&#45;&gt;4603006352 -->\n",
       "<g id=\"edge1\" class=\"edge\">\n",
       "<title>4603006352+&#45;&gt;4603006352</title>\n",
       "<path fill=\"none\" stroke=\"black\" d=\"M1029.28,-101.5C1036.42,-101.5 1044.61,-101.5 1053.32,-101.5\"/>\n",
       "<polygon fill=\"black\" stroke=\"black\" points=\"1053.06,-105 1063.06,-101.5 1053.06,-98 1053.06,-105\"/>\n",
       "</g>\n",
       "<!-- 4603006544 -->\n",
       "<g id=\"node4\" class=\"node\">\n",
       "<title>4603006544</title>\n",
       "<polygon fill=\"none\" stroke=\"black\" points=\"1066.5,-28.5 1066.5,-64.5 1247.25,-64.5 1247.25,-28.5 1066.5,-28.5\"/>\n",
       "<text text-anchor=\"middle\" x=\"1076.38\" y=\"-41.7\" font-family=\"Times,serif\" font-size=\"14.00\"> </text>\n",
       "<polyline fill=\"none\" stroke=\"black\" points=\"1086.25,-29 1086.25,-64.5\"/>\n",
       "<text text-anchor=\"middle\" x=\"1126.12\" y=\"-41.7\" font-family=\"Times,serif\" font-size=\"14.00\">data 2.0000</text>\n",
       "<polyline fill=\"none\" stroke=\"black\" points=\"1166,-29 1166,-64.5\"/>\n",
       "<text text-anchor=\"middle\" x=\"1206.62\" y=\"-41.7\" font-family=\"Times,serif\" font-size=\"14.00\">grad 0.2203</text>\n",
       "</g>\n",
       "<!-- 4603006544&#45;&gt;4603006688* -->\n",
       "<g id=\"edge19\" class=\"edge\">\n",
       "<title>4603006544&#45;&gt;4603006688*</title>\n",
       "<path fill=\"none\" stroke=\"black\" d=\"M1247.69,-62.36C1256.94,-64 1265.93,-65.58 1274.08,-67.02\"/>\n",
       "<polygon fill=\"black\" stroke=\"black\" points=\"1273.41,-70.46 1283.87,-68.75 1274.63,-63.57 1273.41,-70.46\"/>\n",
       "</g>\n",
       "<!-- 4601739872 -->\n",
       "<g id=\"node5\" class=\"node\">\n",
       "<title>4601739872</title>\n",
       "<polygon fill=\"none\" stroke=\"black\" points=\"1.5,-139.5 1.5,-175.5 196.5,-175.5 196.5,-139.5 1.5,-139.5\"/>\n",
       "<text text-anchor=\"middle\" x=\"16.25\" y=\"-152.7\" font-family=\"Times,serif\" font-size=\"14.00\">x1</text>\n",
       "<polyline fill=\"none\" stroke=\"black\" points=\"31,-140 31,-175.5\"/>\n",
       "<text text-anchor=\"middle\" x=\"70.88\" y=\"-152.7\" font-family=\"Times,serif\" font-size=\"14.00\">data 2.0000</text>\n",
       "<polyline fill=\"none\" stroke=\"black\" points=\"110.75,-140 110.75,-175.5\"/>\n",
       "<text text-anchor=\"middle\" x=\"153.62\" y=\"-152.7\" font-family=\"Times,serif\" font-size=\"14.00\">grad &#45;1.5000</text>\n",
       "</g>\n",
       "<!-- 4601739872&#45;&gt;4603005152* -->\n",
       "<g id=\"edge18\" class=\"edge\">\n",
       "<title>4601739872&#45;&gt;4603005152*</title>\n",
       "<path fill=\"none\" stroke=\"black\" d=\"M196.76,-157.5C205.77,-157.5 214.47,-157.5 222.4,-157.5\"/>\n",
       "<polygon fill=\"black\" stroke=\"black\" points=\"222.25,-161 232.25,-157.5 222.25,-154 222.25,-161\"/>\n",
       "</g>\n",
       "<!-- 4601315920 -->\n",
       "<g id=\"node6\" class=\"node\">\n",
       "<title>4601315920</title>\n",
       "<polygon fill=\"none\" stroke=\"black\" points=\"1681.5,-0.5 1681.5,-36.5 1866.75,-36.5 1866.75,-0.5 1681.5,-0.5\"/>\n",
       "<text text-anchor=\"middle\" x=\"1691.38\" y=\"-13.7\" font-family=\"Times,serif\" font-size=\"14.00\"> </text>\n",
       "<polyline fill=\"none\" stroke=\"black\" points=\"1701.25,-1 1701.25,-36.5\"/>\n",
       "<text text-anchor=\"middle\" x=\"1743.38\" y=\"-13.7\" font-family=\"Times,serif\" font-size=\"14.00\">data &#45;1.0000</text>\n",
       "<polyline fill=\"none\" stroke=\"black\" points=\"1785.5,-1 1785.5,-36.5\"/>\n",
       "<text text-anchor=\"middle\" x=\"1826.12\" y=\"-13.7\" font-family=\"Times,serif\" font-size=\"14.00\">grad 0.1464</text>\n",
       "</g>\n",
       "<!-- 4601317264+ -->\n",
       "<g id=\"node26\" class=\"node\">\n",
       "<title>4601317264+</title>\n",
       "<ellipse fill=\"none\" stroke=\"black\" cx=\"1929.75\" cy=\"-45.5\" rx=\"27\" ry=\"18\"/>\n",
       "<text text-anchor=\"middle\" x=\"1929.75\" y=\"-40.45\" font-family=\"Times,serif\" font-size=\"14.00\">+</text>\n",
       "</g>\n",
       "<!-- 4601315920&#45;&gt;4601317264+ -->\n",
       "<g id=\"edge11\" class=\"edge\">\n",
       "<title>4601315920&#45;&gt;4601317264+</title>\n",
       "<path fill=\"none\" stroke=\"black\" d=\"M1867.15,-34.67C1875.89,-36.21 1884.36,-37.7 1892.08,-39.05\"/>\n",
       "<polygon fill=\"black\" stroke=\"black\" points=\"1891.2,-42.45 1901.66,-40.74 1892.41,-35.56 1891.2,-42.45\"/>\n",
       "</g>\n",
       "<!-- 4601319040 -->\n",
       "<g id=\"node7\" class=\"node\">\n",
       "<title>4601319040</title>\n",
       "<polygon fill=\"none\" stroke=\"black\" points=\"1682.62,-55.5 1682.62,-91.5 1865.62,-91.5 1865.62,-55.5 1682.62,-55.5\"/>\n",
       "<text text-anchor=\"middle\" x=\"1693.62\" y=\"-68.7\" font-family=\"Times,serif\" font-size=\"14.00\">e</text>\n",
       "<polyline fill=\"none\" stroke=\"black\" points=\"1704.62,-56 1704.62,-91.5\"/>\n",
       "<text text-anchor=\"middle\" x=\"1744.5\" y=\"-68.7\" font-family=\"Times,serif\" font-size=\"14.00\">data 5.8284</text>\n",
       "<polyline fill=\"none\" stroke=\"black\" points=\"1784.38,-56 1784.38,-91.5\"/>\n",
       "<text text-anchor=\"middle\" x=\"1825\" y=\"-68.7\" font-family=\"Times,serif\" font-size=\"14.00\">grad 0.0429</text>\n",
       "</g>\n",
       "<!-- 4601317984+ -->\n",
       "<g id=\"node14\" class=\"node\">\n",
       "<title>4601317984+</title>\n",
       "<ellipse fill=\"none\" stroke=\"black\" cx=\"1929.75\" cy=\"-100.5\" rx=\"27\" ry=\"18\"/>\n",
       "<text text-anchor=\"middle\" x=\"1929.75\" y=\"-95.45\" font-family=\"Times,serif\" font-size=\"14.00\">+</text>\n",
       "</g>\n",
       "<!-- 4601319040&#45;&gt;4601317984+ -->\n",
       "<g id=\"edge22\" class=\"edge\">\n",
       "<title>4601319040&#45;&gt;4601317984+</title>\n",
       "<path fill=\"none\" stroke=\"black\" d=\"M1865.82,-89.44C1874.99,-91.05 1883.88,-92.61 1891.95,-94.03\"/>\n",
       "<polygon fill=\"black\" stroke=\"black\" points=\"1891.19,-97.45 1901.64,-95.74 1892.4,-90.56 1891.19,-97.45\"/>\n",
       "</g>\n",
       "<!-- 4601319040&#45;&gt;4601317264+ -->\n",
       "<g id=\"edge21\" class=\"edge\">\n",
       "<title>4601319040&#45;&gt;4601317264+</title>\n",
       "<path fill=\"none\" stroke=\"black\" d=\"M1865.82,-56.97C1875.07,-55.28 1884.05,-53.65 1892.19,-52.16\"/>\n",
       "<polygon fill=\"black\" stroke=\"black\" points=\"1892.74,-55.62 1901.95,-50.38 1891.48,-48.73 1892.74,-55.62\"/>\n",
       "</g>\n",
       "<!-- 4601319040exp -->\n",
       "<g id=\"node8\" class=\"node\">\n",
       "<title>4601319040exp</title>\n",
       "<ellipse fill=\"none\" stroke=\"black\" cx=\"1618.5\" cy=\"-73.5\" rx=\"27\" ry=\"18\"/>\n",
       "<text text-anchor=\"middle\" x=\"1618.5\" y=\"-68.45\" font-family=\"Times,serif\" font-size=\"14.00\">exp</text>\n",
       "</g>\n",
       "<!-- 4601319040exp&#45;&gt;4601319040 -->\n",
       "<g id=\"edge2\" class=\"edge\">\n",
       "<title>4601319040exp&#45;&gt;4601319040</title>\n",
       "<path fill=\"none\" stroke=\"black\" d=\"M1645.91,-73.5C1653.35,-73.5 1661.92,-73.5 1671.02,-73.5\"/>\n",
       "<polygon fill=\"black\" stroke=\"black\" points=\"1670.84,-77 1680.84,-73.5 1670.84,-70 1670.84,-77\"/>\n",
       "</g>\n",
       "<!-- 4601316496 -->\n",
       "<g id=\"node9\" class=\"node\">\n",
       "<title>4601316496</title>\n",
       "<polygon fill=\"none\" stroke=\"black\" points=\"2737.5,-54.5 2737.5,-90.5 2921.25,-90.5 2921.25,-54.5 2737.5,-54.5\"/>\n",
       "<text text-anchor=\"middle\" x=\"2748.88\" y=\"-67.7\" font-family=\"Times,serif\" font-size=\"14.00\">o</text>\n",
       "<polyline fill=\"none\" stroke=\"black\" points=\"2760.25,-55 2760.25,-90.5\"/>\n",
       "<text text-anchor=\"middle\" x=\"2800.12\" y=\"-67.7\" font-family=\"Times,serif\" font-size=\"14.00\">data 0.7071</text>\n",
       "<polyline fill=\"none\" stroke=\"black\" points=\"2840,-55 2840,-90.5\"/>\n",
       "<text text-anchor=\"middle\" x=\"2880.62\" y=\"-67.7\" font-family=\"Times,serif\" font-size=\"14.00\">grad 1.0000</text>\n",
       "</g>\n",
       "<!-- 4601316496* -->\n",
       "<g id=\"node10\" class=\"node\">\n",
       "<title>4601316496*</title>\n",
       "<ellipse fill=\"none\" stroke=\"black\" cx=\"2674.5\" cy=\"-72.5\" rx=\"27\" ry=\"18\"/>\n",
       "<text text-anchor=\"middle\" x=\"2674.5\" y=\"-67.45\" font-family=\"Times,serif\" font-size=\"14.00\">*</text>\n",
       "</g>\n",
       "<!-- 4601316496*&#45;&gt;4601316496 -->\n",
       "<g id=\"edge3\" class=\"edge\">\n",
       "<title>4601316496*&#45;&gt;4601316496</title>\n",
       "<path fill=\"none\" stroke=\"black\" d=\"M2701.78,-72.5C2708.92,-72.5 2717.11,-72.5 2725.82,-72.5\"/>\n",
       "<polygon fill=\"black\" stroke=\"black\" points=\"2725.56,-76 2735.56,-72.5 2725.56,-69 2725.56,-76\"/>\n",
       "</g>\n",
       "<!-- 4600732304 -->\n",
       "<g id=\"node11\" class=\"node\">\n",
       "<title>4600732304</title>\n",
       "<polygon fill=\"none\" stroke=\"black\" points=\"711.75,-56.5 711.75,-92.5 895.5,-92.5 895.5,-56.5 711.75,-56.5\"/>\n",
       "<text text-anchor=\"middle\" x=\"723.12\" y=\"-69.7\" font-family=\"Times,serif\" font-size=\"14.00\">b</text>\n",
       "<polyline fill=\"none\" stroke=\"black\" points=\"734.5,-57 734.5,-92.5\"/>\n",
       "<text text-anchor=\"middle\" x=\"774.38\" y=\"-69.7\" font-family=\"Times,serif\" font-size=\"14.00\">data 6.8814</text>\n",
       "<polyline fill=\"none\" stroke=\"black\" points=\"814.25,-57 814.25,-92.5\"/>\n",
       "<text text-anchor=\"middle\" x=\"854.88\" y=\"-69.7\" font-family=\"Times,serif\" font-size=\"14.00\">grad 0.5000</text>\n",
       "</g>\n",
       "<!-- 4600732304&#45;&gt;4603006352+ -->\n",
       "<g id=\"edge24\" class=\"edge\">\n",
       "<title>4600732304&#45;&gt;4603006352+</title>\n",
       "<path fill=\"none\" stroke=\"black\" d=\"M895.91,-87.05C919.97,-90.36 944.58,-93.74 963.93,-96.4\"/>\n",
       "<polygon fill=\"black\" stroke=\"black\" points=\"963.36,-99.86 973.75,-97.75 964.32,-92.92 963.36,-99.86\"/>\n",
       "</g>\n",
       "<!-- 4599068800 -->\n",
       "<g id=\"node12\" class=\"node\">\n",
       "<title>4599068800</title>\n",
       "<polygon fill=\"none\" stroke=\"black\" points=\"3.75,-84.5 3.75,-120.5 194.25,-120.5 194.25,-84.5 3.75,-84.5\"/>\n",
       "<text text-anchor=\"middle\" x=\"18.5\" y=\"-97.7\" font-family=\"Times,serif\" font-size=\"14.00\">x2</text>\n",
       "<polyline fill=\"none\" stroke=\"black\" points=\"33.25,-85 33.25,-120.5\"/>\n",
       "<text text-anchor=\"middle\" x=\"73.12\" y=\"-97.7\" font-family=\"Times,serif\" font-size=\"14.00\">data 0.0000</text>\n",
       "<polyline fill=\"none\" stroke=\"black\" points=\"113,-85 113,-120.5\"/>\n",
       "<text text-anchor=\"middle\" x=\"153.62\" y=\"-97.7\" font-family=\"Times,serif\" font-size=\"14.00\">grad 0.5000</text>\n",
       "</g>\n",
       "<!-- 4603006256* -->\n",
       "<g id=\"node24\" class=\"node\">\n",
       "<title>4603006256*</title>\n",
       "<ellipse fill=\"none\" stroke=\"black\" cx=\"261\" cy=\"-102.5\" rx=\"27\" ry=\"18\"/>\n",
       "<text text-anchor=\"middle\" x=\"261\" y=\"-97.45\" font-family=\"Times,serif\" font-size=\"14.00\">*</text>\n",
       "</g>\n",
       "<!-- 4599068800&#45;&gt;4603006256* -->\n",
       "<g id=\"edge20\" class=\"edge\">\n",
       "<title>4599068800&#45;&gt;4603006256*</title>\n",
       "<path fill=\"none\" stroke=\"black\" d=\"M194.46,-102.5C204.21,-102.5 213.66,-102.5 222.21,-102.5\"/>\n",
       "<polygon fill=\"black\" stroke=\"black\" points=\"222.12,-106 232.12,-102.5 222.12,-99 222.12,-106\"/>\n",
       "</g>\n",
       "<!-- 4601317984 -->\n",
       "<g id=\"node13\" class=\"node\">\n",
       "<title>4601317984</title>\n",
       "<polygon fill=\"none\" stroke=\"black\" points=\"1992.75,-82.5 1992.75,-118.5 2178,-118.5 2178,-82.5 1992.75,-82.5\"/>\n",
       "<text text-anchor=\"middle\" x=\"2002.62\" y=\"-95.7\" font-family=\"Times,serif\" font-size=\"14.00\"> </text>\n",
       "<polyline fill=\"none\" stroke=\"black\" points=\"2012.5,-83 2012.5,-118.5\"/>\n",
       "<text text-anchor=\"middle\" x=\"2052.38\" y=\"-95.7\" font-family=\"Times,serif\" font-size=\"14.00\">data 6.8284</text>\n",
       "<polyline fill=\"none\" stroke=\"black\" points=\"2092.25,-83 2092.25,-118.5\"/>\n",
       "<text text-anchor=\"middle\" x=\"2135.12\" y=\"-95.7\" font-family=\"Times,serif\" font-size=\"14.00\">grad &#45;0.1036</text>\n",
       "</g>\n",
       "<!-- 4601317072**&#45;1 -->\n",
       "<g id=\"node16\" class=\"node\">\n",
       "<title>4601317072**&#45;1</title>\n",
       "<ellipse fill=\"none\" stroke=\"black\" cx=\"2304.38\" cy=\"-100.5\" rx=\"27.81\" ry=\"18\"/>\n",
       "<text text-anchor=\"middle\" x=\"2304.38\" y=\"-95.45\" font-family=\"Times,serif\" font-size=\"14.00\">**&#45;1</text>\n",
       "</g>\n",
       "<!-- 4601317984&#45;&gt;4601317072**&#45;1 -->\n",
       "<g id=\"edge23\" class=\"edge\">\n",
       "<title>4601317984&#45;&gt;4601317072**&#45;1</title>\n",
       "<path fill=\"none\" stroke=\"black\" d=\"M2178.4,-100.5C2208.64,-100.5 2240.63,-100.5 2264.67,-100.5\"/>\n",
       "<polygon fill=\"black\" stroke=\"black\" points=\"2264.62,-104 2274.62,-100.5 2264.62,-97 2264.62,-104\"/>\n",
       "</g>\n",
       "<!-- 4601317984+&#45;&gt;4601317984 -->\n",
       "<g id=\"edge4\" class=\"edge\">\n",
       "<title>4601317984+&#45;&gt;4601317984</title>\n",
       "<path fill=\"none\" stroke=\"black\" d=\"M1957.16,-100.5C1964.2,-100.5 1972.25,-100.5 1980.8,-100.5\"/>\n",
       "<polygon fill=\"black\" stroke=\"black\" points=\"1980.79,-104 1990.79,-100.5 1980.79,-97 1980.79,-104\"/>\n",
       "</g>\n",
       "<!-- 4601317072 -->\n",
       "<g id=\"node15\" class=\"node\">\n",
       "<title>4601317072</title>\n",
       "<polygon fill=\"none\" stroke=\"black\" points=\"2430.75,-80.5 2430.75,-116.5 2611.5,-116.5 2611.5,-80.5 2430.75,-80.5\"/>\n",
       "<text text-anchor=\"middle\" x=\"2440.62\" y=\"-93.7\" font-family=\"Times,serif\" font-size=\"14.00\"> </text>\n",
       "<polyline fill=\"none\" stroke=\"black\" points=\"2450.5,-81 2450.5,-116.5\"/>\n",
       "<text text-anchor=\"middle\" x=\"2490.38\" y=\"-93.7\" font-family=\"Times,serif\" font-size=\"14.00\">data 0.1464</text>\n",
       "<polyline fill=\"none\" stroke=\"black\" points=\"2530.25,-81 2530.25,-116.5\"/>\n",
       "<text text-anchor=\"middle\" x=\"2570.88\" y=\"-93.7\" font-family=\"Times,serif\" font-size=\"14.00\">grad 4.8284</text>\n",
       "</g>\n",
       "<!-- 4601317072&#45;&gt;4601316496* -->\n",
       "<g id=\"edge27\" class=\"edge\">\n",
       "<title>4601317072&#45;&gt;4601316496*</title>\n",
       "<path fill=\"none\" stroke=\"black\" d=\"M2611.93,-83.08C2620.54,-81.6 2628.89,-80.16 2636.53,-78.85\"/>\n",
       "<polygon fill=\"black\" stroke=\"black\" points=\"2637.11,-82.3 2646.37,-77.16 2635.92,-75.4 2637.11,-82.3\"/>\n",
       "</g>\n",
       "<!-- 4601317072**&#45;1&#45;&gt;4601317072 -->\n",
       "<g id=\"edge5\" class=\"edge\">\n",
       "<title>4601317072**&#45;1&#45;&gt;4601317072</title>\n",
       "<path fill=\"none\" stroke=\"black\" d=\"M2332.57,-100.25C2354.68,-100.04 2387.33,-99.74 2419.22,-99.44\"/>\n",
       "<polygon fill=\"black\" stroke=\"black\" points=\"2418.96,-102.94 2428.93,-99.35 2418.9,-95.94 2418.96,-102.94\"/>\n",
       "</g>\n",
       "<!-- 4603006688 -->\n",
       "<g id=\"node17\" class=\"node\">\n",
       "<title>4603006688</title>\n",
       "<polygon fill=\"none\" stroke=\"black\" points=\"1374.75,-55.5 1374.75,-91.5 1555.5,-91.5 1555.5,-55.5 1374.75,-55.5\"/>\n",
       "<text text-anchor=\"middle\" x=\"1384.62\" y=\"-68.7\" font-family=\"Times,serif\" font-size=\"14.00\"> </text>\n",
       "<polyline fill=\"none\" stroke=\"black\" points=\"1394.5,-56 1394.5,-91.5\"/>\n",
       "<text text-anchor=\"middle\" x=\"1434.38\" y=\"-68.7\" font-family=\"Times,serif\" font-size=\"14.00\">data 1.7627</text>\n",
       "<polyline fill=\"none\" stroke=\"black\" points=\"1474.25,-56 1474.25,-91.5\"/>\n",
       "<text text-anchor=\"middle\" x=\"1514.88\" y=\"-68.7\" font-family=\"Times,serif\" font-size=\"14.00\">grad 0.2500</text>\n",
       "</g>\n",
       "<!-- 4603006688&#45;&gt;4601319040exp -->\n",
       "<g id=\"edge14\" class=\"edge\">\n",
       "<title>4603006688&#45;&gt;4601319040exp</title>\n",
       "<path fill=\"none\" stroke=\"black\" d=\"M1555.93,-73.5C1564.27,-73.5 1572.37,-73.5 1579.81,-73.5\"/>\n",
       "<polygon fill=\"black\" stroke=\"black\" points=\"1579.75,-77 1589.75,-73.5 1579.75,-70 1579.75,-77\"/>\n",
       "</g>\n",
       "<!-- 4603006688*&#45;&gt;4603006688 -->\n",
       "<g id=\"edge6\" class=\"edge\">\n",
       "<title>4603006688*&#45;&gt;4603006688</title>\n",
       "<path fill=\"none\" stroke=\"black\" d=\"M1339.12,-73.5C1346.26,-73.5 1354.45,-73.5 1363.14,-73.5\"/>\n",
       "<polygon fill=\"black\" stroke=\"black\" points=\"1362.86,-77 1372.86,-73.5 1362.86,-70 1362.86,-77\"/>\n",
       "</g>\n",
       "<!-- 4603005152 -->\n",
       "<g id=\"node19\" class=\"node\">\n",
       "<title>4603005152</title>\n",
       "<polygon fill=\"none\" stroke=\"black\" points=\"324,-139.5 324,-175.5 542.25,-175.5 542.25,-139.5 324,-139.5\"/>\n",
       "<text text-anchor=\"middle\" x=\"350.38\" y=\"-152.7\" font-family=\"Times,serif\" font-size=\"14.00\">x1*w1</text>\n",
       "<polyline fill=\"none\" stroke=\"black\" points=\"376.75,-140 376.75,-175.5\"/>\n",
       "<text text-anchor=\"middle\" x=\"418.88\" y=\"-152.7\" font-family=\"Times,serif\" font-size=\"14.00\">data &#45;6.0000</text>\n",
       "<polyline fill=\"none\" stroke=\"black\" points=\"461,-140 461,-175.5\"/>\n",
       "<text text-anchor=\"middle\" x=\"501.62\" y=\"-152.7\" font-family=\"Times,serif\" font-size=\"14.00\">grad 0.5000</text>\n",
       "</g>\n",
       "<!-- 4603006928+ -->\n",
       "<g id=\"node28\" class=\"node\">\n",
       "<title>4603006928+</title>\n",
       "<ellipse fill=\"none\" stroke=\"black\" cx=\"605.25\" cy=\"-129.5\" rx=\"27\" ry=\"18\"/>\n",
       "<text text-anchor=\"middle\" x=\"605.25\" y=\"-124.45\" font-family=\"Times,serif\" font-size=\"14.00\">+</text>\n",
       "</g>\n",
       "<!-- 4603005152&#45;&gt;4603006928+ -->\n",
       "<g id=\"edge25\" class=\"edge\">\n",
       "<title>4603005152&#45;&gt;4603006928+</title>\n",
       "<path fill=\"none\" stroke=\"black\" d=\"M542.35,-139.69C551.12,-138.24 559.54,-136.86 567.19,-135.6\"/>\n",
       "<polygon fill=\"black\" stroke=\"black\" points=\"567.72,-139.06 577.02,-133.98 566.58,-132.15 567.72,-139.06\"/>\n",
       "</g>\n",
       "<!-- 4603005152*&#45;&gt;4603005152 -->\n",
       "<g id=\"edge7\" class=\"edge\">\n",
       "<title>4603005152*&#45;&gt;4603005152</title>\n",
       "<path fill=\"none\" stroke=\"black\" d=\"M288.21,-157.5C295.29,-157.5 303.43,-157.5 312.17,-157.5\"/>\n",
       "<polygon fill=\"black\" stroke=\"black\" points=\"312.01,-161 322.01,-157.5 312.01,-154 312.01,-161\"/>\n",
       "</g>\n",
       "<!-- 4601317552 -->\n",
       "<g id=\"node21\" class=\"node\">\n",
       "<title>4601317552</title>\n",
       "<polygon fill=\"none\" stroke=\"black\" points=\"1681.5,-110.5 1681.5,-146.5 1866.75,-146.5 1866.75,-110.5 1681.5,-110.5\"/>\n",
       "<text text-anchor=\"middle\" x=\"1691.38\" y=\"-123.7\" font-family=\"Times,serif\" font-size=\"14.00\"> </text>\n",
       "<polyline fill=\"none\" stroke=\"black\" points=\"1701.25,-111 1701.25,-146.5\"/>\n",
       "<text text-anchor=\"middle\" x=\"1741.12\" y=\"-123.7\" font-family=\"Times,serif\" font-size=\"14.00\">data 1.0000</text>\n",
       "<polyline fill=\"none\" stroke=\"black\" points=\"1781,-111 1781,-146.5\"/>\n",
       "<text text-anchor=\"middle\" x=\"1823.88\" y=\"-123.7\" font-family=\"Times,serif\" font-size=\"14.00\">grad &#45;0.1036</text>\n",
       "</g>\n",
       "<!-- 4601317552&#45;&gt;4601317984+ -->\n",
       "<g id=\"edge28\" class=\"edge\">\n",
       "<title>4601317552&#45;&gt;4601317984+</title>\n",
       "<path fill=\"none\" stroke=\"black\" d=\"M1867.15,-111.73C1875.89,-110.13 1884.36,-108.59 1892.08,-107.18\"/>\n",
       "<polygon fill=\"black\" stroke=\"black\" points=\"1892.45,-110.67 1901.66,-105.44 1891.19,-103.79 1892.45,-110.67\"/>\n",
       "</g>\n",
       "<!-- 4599069472 -->\n",
       "<g id=\"node22\" class=\"node\">\n",
       "<title>4599069472</title>\n",
       "<polygon fill=\"none\" stroke=\"black\" points=\"2.25,-29.5 2.25,-65.5 195.75,-65.5 195.75,-29.5 2.25,-29.5\"/>\n",
       "<text text-anchor=\"middle\" x=\"18.5\" y=\"-42.7\" font-family=\"Times,serif\" font-size=\"14.00\">w2</text>\n",
       "<polyline fill=\"none\" stroke=\"black\" points=\"34.75,-30 34.75,-65.5\"/>\n",
       "<text text-anchor=\"middle\" x=\"74.62\" y=\"-42.7\" font-family=\"Times,serif\" font-size=\"14.00\">data 1.0000</text>\n",
       "<polyline fill=\"none\" stroke=\"black\" points=\"114.5,-30 114.5,-65.5\"/>\n",
       "<text text-anchor=\"middle\" x=\"155.12\" y=\"-42.7\" font-family=\"Times,serif\" font-size=\"14.00\">grad 0.0000</text>\n",
       "</g>\n",
       "<!-- 4599069472&#45;&gt;4603006256* -->\n",
       "<g id=\"edge17\" class=\"edge\">\n",
       "<title>4599069472&#45;&gt;4603006256*</title>\n",
       "<path fill=\"none\" stroke=\"black\" d=\"M168.91,-65.94C178.74,-68.93 188.67,-72.15 198,-75.5 207.96,-79.07 218.58,-83.47 228.18,-87.68\"/>\n",
       "<polygon fill=\"black\" stroke=\"black\" points=\"226.54,-90.78 237.1,-91.67 229.4,-84.39 226.54,-90.78\"/>\n",
       "</g>\n",
       "<!-- 4603006256 -->\n",
       "<g id=\"node23\" class=\"node\">\n",
       "<title>4603006256</title>\n",
       "<polygon fill=\"none\" stroke=\"black\" points=\"326.25,-84.5 326.25,-120.5 540,-120.5 540,-84.5 326.25,-84.5\"/>\n",
       "<text text-anchor=\"middle\" x=\"352.62\" y=\"-97.7\" font-family=\"Times,serif\" font-size=\"14.00\">x2*w2</text>\n",
       "<polyline fill=\"none\" stroke=\"black\" points=\"379,-85 379,-120.5\"/>\n",
       "<text text-anchor=\"middle\" x=\"418.88\" y=\"-97.7\" font-family=\"Times,serif\" font-size=\"14.00\">data 0.0000</text>\n",
       "<polyline fill=\"none\" stroke=\"black\" points=\"458.75,-85 458.75,-120.5\"/>\n",
       "<text text-anchor=\"middle\" x=\"499.38\" y=\"-97.7\" font-family=\"Times,serif\" font-size=\"14.00\">grad 0.5000</text>\n",
       "</g>\n",
       "<!-- 4603006256&#45;&gt;4603006928+ -->\n",
       "<g id=\"edge13\" class=\"edge\">\n",
       "<title>4603006256&#45;&gt;4603006928+</title>\n",
       "<path fill=\"none\" stroke=\"black\" d=\"M540.42,-119.37C549.89,-120.87 559,-122.32 567.21,-123.62\"/>\n",
       "<polygon fill=\"black\" stroke=\"black\" points=\"566.63,-127.07 577.05,-125.18 567.72,-120.16 566.63,-127.07\"/>\n",
       "</g>\n",
       "<!-- 4603006256*&#45;&gt;4603006256 -->\n",
       "<g id=\"edge8\" class=\"edge\">\n",
       "<title>4603006256*&#45;&gt;4603006256</title>\n",
       "<path fill=\"none\" stroke=\"black\" d=\"M288.21,-102.5C296,-102.5 305.08,-102.5 314.82,-102.5\"/>\n",
       "<polygon fill=\"black\" stroke=\"black\" points=\"314.55,-106 324.55,-102.5 314.55,-99 314.55,-106\"/>\n",
       "</g>\n",
       "<!-- 4601317264 -->\n",
       "<g id=\"node25\" class=\"node\">\n",
       "<title>4601317264</title>\n",
       "<polygon fill=\"none\" stroke=\"black\" points=\"2214,-27.5 2214,-63.5 2394.75,-63.5 2394.75,-27.5 2214,-27.5\"/>\n",
       "<text text-anchor=\"middle\" x=\"2223.88\" y=\"-40.7\" font-family=\"Times,serif\" font-size=\"14.00\"> </text>\n",
       "<polyline fill=\"none\" stroke=\"black\" points=\"2233.75,-28 2233.75,-63.5\"/>\n",
       "<text text-anchor=\"middle\" x=\"2273.62\" y=\"-40.7\" font-family=\"Times,serif\" font-size=\"14.00\">data 4.8284</text>\n",
       "<polyline fill=\"none\" stroke=\"black\" points=\"2313.5,-28 2313.5,-63.5\"/>\n",
       "<text text-anchor=\"middle\" x=\"2354.12\" y=\"-40.7\" font-family=\"Times,serif\" font-size=\"14.00\">grad 0.1464</text>\n",
       "</g>\n",
       "<!-- 4601317264&#45;&gt;4601316496* -->\n",
       "<g id=\"edge26\" class=\"edge\">\n",
       "<title>4601317264&#45;&gt;4601316496*</title>\n",
       "<path fill=\"none\" stroke=\"black\" d=\"M2394.96,-52.07C2472.25,-57.74 2580.03,-65.64 2636.17,-69.76\"/>\n",
       "<polygon fill=\"black\" stroke=\"black\" points=\"2635.59,-73.23 2645.82,-70.47 2636.1,-66.25 2635.59,-73.23\"/>\n",
       "</g>\n",
       "<!-- 4601317264+&#45;&gt;4601317264 -->\n",
       "<g id=\"edge9\" class=\"edge\">\n",
       "<title>4601317264+&#45;&gt;4601317264</title>\n",
       "<path fill=\"none\" stroke=\"black\" d=\"M1957.25,-45.5C2007.51,-45.5 2119.07,-45.5 2202.03,-45.5\"/>\n",
       "<polygon fill=\"black\" stroke=\"black\" points=\"2202.02,-49 2212.02,-45.5 2202.02,-42 2202.02,-49\"/>\n",
       "</g>\n",
       "<!-- 4603006928 -->\n",
       "<g id=\"node27\" class=\"node\">\n",
       "<title>4603006928</title>\n",
       "<polygon fill=\"none\" stroke=\"black\" points=\"668.25,-111.5 668.25,-147.5 939,-147.5 939,-111.5 668.25,-111.5\"/>\n",
       "<text text-anchor=\"middle\" x=\"720.88\" y=\"-124.7\" font-family=\"Times,serif\" font-size=\"14.00\">x1*w1 + x2*w2</text>\n",
       "<polyline fill=\"none\" stroke=\"black\" points=\"773.5,-112 773.5,-147.5\"/>\n",
       "<text text-anchor=\"middle\" x=\"815.62\" y=\"-124.7\" font-family=\"Times,serif\" font-size=\"14.00\">data &#45;6.0000</text>\n",
       "<polyline fill=\"none\" stroke=\"black\" points=\"857.75,-112 857.75,-147.5\"/>\n",
       "<text text-anchor=\"middle\" x=\"898.38\" y=\"-124.7\" font-family=\"Times,serif\" font-size=\"14.00\">grad 0.5000</text>\n",
       "</g>\n",
       "<!-- 4603006928&#45;&gt;4603006352+ -->\n",
       "<g id=\"edge15\" class=\"edge\">\n",
       "<title>4603006928&#45;&gt;4603006352+</title>\n",
       "<path fill=\"none\" stroke=\"black\" d=\"M934.24,-111.02C944.99,-109.49 955.18,-108.03 964.21,-106.75\"/>\n",
       "<polygon fill=\"black\" stroke=\"black\" points=\"964.46,-110.25 973.86,-105.37 963.47,-103.32 964.46,-110.25\"/>\n",
       "</g>\n",
       "<!-- 4603006928+&#45;&gt;4603006928 -->\n",
       "<g id=\"edge10\" class=\"edge\">\n",
       "<title>4603006928+&#45;&gt;4603006928</title>\n",
       "<path fill=\"none\" stroke=\"black\" d=\"M632.73,-129.5C639.73,-129.5 647.79,-129.5 656.52,-129.5\"/>\n",
       "<polygon fill=\"black\" stroke=\"black\" points=\"656.39,-133 666.39,-129.5 656.39,-126 656.39,-133\"/>\n",
       "</g>\n",
       "</g>\n",
       "</svg>\n"
      ],
      "text/plain": [
       "<graphviz.graphs.Digraph at 0x1125370a0>"
      ]
     },
     "execution_count": 80,
     "metadata": {},
     "output_type": "execute_result"
    }
   ],
   "source": [
    "# inputs x1, x2\n",
    "x1 = Value(2.0, label='x1')\n",
    "x2 = Value(0.0, label='x2')\n",
    "# weights w1, w2\n",
    "w1 = Value(-3.0, label='w1')\n",
    "w2 = Value(1.0, label='w2')\n",
    "# bias of the neuron\n",
    "b = Value(6.881373587, label='b')\n",
    "# x1*w1 + x2*w2 + b -> n\n",
    "x1w1 = x1*w1; x1w1.label=\"x1*w1\"\n",
    "x2w2 = x2*w2; x2w2.label=\"x2*w2\"\n",
    "x1w1x2w2 = x1w1+x2w2; x1w1x2w2.label=\"x1*w1 + x2*w2\"\n",
    "n = x1w1x2w2+b; n.label = 'n'\n",
    "# ----\n",
    "e = (2*n).exp(); e.label = \"e\"\n",
    "o = (e-1) / (e+1); o.label = \"o\"\n",
    "# ----\n",
    "o.backward()\n",
    "draw_dot(o)\n"
   ]
  },
  {
   "attachments": {},
   "cell_type": "markdown",
   "metadata": {},
   "source": [
    "### example 3: pytorch"
   ]
  },
  {
   "cell_type": "code",
   "execution_count": 92,
   "metadata": {},
   "outputs": [
    {
     "name": "stdout",
     "output_type": "stream",
     "text": [
      "0.7071066904050358\n",
      "----\n",
      "x2.grad: 0.5000001283844369\n",
      "w2.grad: 0.0\n",
      "x1.grad: -1.5000003851533106\n",
      "w1.grad: 1.0000002567688737\n"
     ]
    }
   ],
   "source": [
    "import torch\n",
    "\n",
    "x1 = torch.Tensor([2.0]).double(); x1.requires_grad=True\n",
    "x2 = torch.Tensor([0.0]).double(); x2.requires_grad=True\n",
    "w1 = torch.Tensor([-3.0]).double(); w1.requires_grad=True\n",
    "w2 = torch.Tensor([1.0]).double(); w2.requires_grad=True\n",
    "b = torch.Tensor([6.881373587]).double(); b.requires_grad=True\n",
    "n = x1*w1 + x2*w2 + b\n",
    "o = torch.tanh(n)\n",
    "\n",
    "print(o.data.item())\n",
    "o.backward()\n",
    "\n",
    "print('----')\n",
    "print(f'x2.grad: {x2.grad.item()}')\n",
    "print(f'w2.grad: {w2.grad.item()}')\n",
    "print(f'x1.grad: {x1.grad.item()}')\n",
    "print(f'w1.grad: {w1.grad.item()}')\n"
   ]
  },
  {
   "attachments": {},
   "cell_type": "markdown",
   "metadata": {},
   "source": [
    "# Building and training a neural net "
   ]
  },
  {
   "attachments": {},
   "cell_type": "markdown",
   "metadata": {},
   "source": [
    "<img src=\"imgs/neuron_dia.png\" alt=\"Neuron Diagram\" width=\"300\"/>\n"
   ]
  },
  {
   "cell_type": "code",
   "execution_count": 3,
   "metadata": {},
   "outputs": [],
   "source": [
    "class Neuron:\n",
    "    def __init__(self, nin):\n",
    "        self.w = [Value(random.uniform(-1,1)) for _ in range(nin)]\n",
    "        self.b = Value(random.uniform(-1,1))\n",
    "\n",
    "    def __call__(self, x):\n",
    "        # w * x + b\n",
    "        act = sum((wi*xi for wi, xi in zip(self.w, x)), self.b)\n",
    "        return act.tanh()\n",
    "    \n",
    "    def parameters(self):\n",
    "        return self.w + [self.b]\n"
   ]
  },
  {
   "cell_type": "code",
   "execution_count": 66,
   "metadata": {},
   "outputs": [
    {
     "name": "stdout",
     "output_type": "stream",
     "text": [
      "[Value(data=-0.6481772864400683), Value(data=-0.037574153498890484), Value(data=-0.5683115805119945)]\n"
     ]
    },
    {
     "data": {
      "text/plain": [
       "Value(data=-0.9623947528943239)"
      ]
     },
     "execution_count": 66,
     "metadata": {},
     "output_type": "execute_result"
    }
   ],
   "source": [
    "# example\n",
    "x = [2.0, 3.0]\n",
    "n = Neuron(2)\n",
    "print(n.parameters())\n",
    "n(x)"
   ]
  },
  {
   "attachments": {},
   "cell_type": "markdown",
   "metadata": {},
   "source": [
    "MLP:\n",
    "\n",
    "<img src=\"imgs/layer_dia.png\" alt=\"Neuron Diagram\" width=\"300\"/>\n"
   ]
  },
  {
   "cell_type": "code",
   "execution_count": 4,
   "metadata": {},
   "outputs": [],
   "source": [
    "class Layer:\n",
    "    def __init__(self, nin, nout):\n",
    "        self.neurons = [Neuron(nin) for _ in range(nout)]\n",
    "\n",
    "    def __call__(self, x):\n",
    "        outs = [n(x) for n in self.neurons]\n",
    "        return outs[0] if len(outs) == 1 else outs\n",
    "    \n",
    "    def parameters(self):\n",
    "        return [p for neuron in self.neurons for p in neuron.parameters()]"
   ]
  },
  {
   "cell_type": "code",
   "execution_count": 72,
   "metadata": {},
   "outputs": [
    {
     "data": {
      "text/plain": [
       "[Value(data=0.7731788750231402),\n",
       " Value(data=0.4430152555869283),\n",
       " Value(data=-0.9867772415377251),\n",
       " Value(data=0.19705490118327776),\n",
       " Value(data=0.989742911486434)]"
      ]
     },
     "execution_count": 72,
     "metadata": {},
     "output_type": "execute_result"
    }
   ],
   "source": [
    "# example\n",
    "x = [1,2,3]\n",
    "n = Layer(3, 5)\n",
    "# print(n.parameters())\n",
    "n(x)"
   ]
  },
  {
   "cell_type": "code",
   "execution_count": 5,
   "metadata": {},
   "outputs": [],
   "source": [
    "class MLP:\n",
    "    def __init__(self, nin, nouts):\n",
    "        sizes = [nin] + nouts\n",
    "        self.layers = [Layer(sizes[i], sizes[i+1]) for i in range(len(nouts))]\n",
    "\n",
    "    def __call__(self, x):\n",
    "        for layer in self.layers:\n",
    "            x = layer(x)\n",
    "        return x\n",
    "    \n",
    "    def parameters(self):\n",
    "        return [p for layer in self.layers for p in layer.parameters()]"
   ]
  },
  {
   "cell_type": "code",
   "execution_count": 46,
   "metadata": {},
   "outputs": [
    {
     "name": "stdout",
     "output_type": "stream",
     "text": [
      "Value(data=0.8910526283307268)\n"
     ]
    }
   ],
   "source": [
    "x = [1,2,3]\n",
    "n = MLP(3, [4,4,1])\n",
    "print(n(x))\n",
    "# draw_dot(n(x))"
   ]
  },
  {
   "attachments": {},
   "cell_type": "markdown",
   "metadata": {},
   "source": [
    "## simple example training an mlp"
   ]
  },
  {
   "cell_type": "code",
   "execution_count": 47,
   "metadata": {},
   "outputs": [],
   "source": [
    "# dataset, each example in xs is a row with a dim of 3.\n",
    "xs = [\n",
    "    [2.0, 3.0, -1.0],\n",
    "    [3.0, -1.0, 0.5],\n",
    "    [0.5, 1.0, 1.0],\n",
    "    [1.0, 1.0, -1.0]\n",
    "]\n",
    "ys = [1.0, -1.0, -1.0, 1.0]"
   ]
  },
  {
   "cell_type": "code",
   "execution_count": 75,
   "metadata": {},
   "outputs": [
    {
     "data": {
      "text/plain": [
       "[Value(data=0.05837824234384646),\n",
       " Value(data=-0.7857370386602898),\n",
       " Value(data=0.5092998949646135),\n",
       " Value(data=-0.8722495700333605)]"
      ]
     },
     "execution_count": 75,
     "metadata": {},
     "output_type": "execute_result"
    }
   ],
   "source": [
    "mlp = MLP(3, [4,4,1])\n",
    "ypred = [mlp(x) for x in xs]\n",
    "ypred"
   ]
  },
  {
   "cell_type": "code",
   "execution_count": 77,
   "metadata": {},
   "outputs": [
    {
     "data": {
      "text/plain": [
       "41"
      ]
     },
     "execution_count": 77,
     "metadata": {},
     "output_type": "execute_result"
    }
   ],
   "source": [
    "len(mlp.parameters())"
   ]
  },
  {
   "cell_type": "code",
   "execution_count": 76,
   "metadata": {},
   "outputs": [
    {
     "data": {
      "text/plain": [
       "Value(data=6.715864776523823)"
      ]
     },
     "execution_count": 76,
     "metadata": {},
     "output_type": "execute_result"
    }
   ],
   "source": [
    "# loss - MSE\n",
    "loss = sum((yout - ygt)**2 for ygt, yout in zip(ys, ypred))\n",
    "loss"
   ]
  },
  {
   "cell_type": "code",
   "execution_count": 78,
   "metadata": {},
   "outputs": [],
   "source": [
    "# want to minimize the loss\n",
    "loss.backward()"
   ]
  },
  {
   "cell_type": "code",
   "execution_count": 79,
   "metadata": {},
   "outputs": [
    {
     "data": {
      "text/plain": [
       "-2.7653774399297193"
      ]
     },
     "execution_count": 79,
     "metadata": {},
     "output_type": "execute_result"
    }
   ],
   "source": [
    "mlp.layers[0].neurons[0].w[0].grad"
   ]
  },
  {
   "cell_type": "code",
   "execution_count": 80,
   "metadata": {},
   "outputs": [
    {
     "data": {
      "text/plain": [
       "0.37408635395199163"
      ]
     },
     "execution_count": 80,
     "metadata": {},
     "output_type": "execute_result"
    }
   ],
   "source": [
    "mlp.layers[0].neurons[0].w[0].data"
   ]
  },
  {
   "cell_type": "code",
   "execution_count": 61,
   "metadata": {},
   "outputs": [],
   "source": [
    "# draw_dot(loss)"
   ]
  },
  {
   "cell_type": "code",
   "execution_count": 97,
   "metadata": {},
   "outputs": [],
   "source": [
    "# gradient descent manually over the mlp params\n",
    "for p in mlp.parameters():\n",
    "    p.data += -0.1 * p.grad # against the dir of the gradient "
   ]
  },
  {
   "cell_type": "code",
   "execution_count": 100,
   "metadata": {},
   "outputs": [
    {
     "data": {
      "text/plain": [
       "0.7612391955421522"
      ]
     },
     "execution_count": 100,
     "metadata": {},
     "output_type": "execute_result"
    }
   ],
   "source": [
    "mlp.layers[0].neurons[0].w[0].data"
   ]
  },
  {
   "cell_type": "code",
   "execution_count": 98,
   "metadata": {},
   "outputs": [
    {
     "data": {
      "text/plain": [
       "Value(data=1.856017413375893)"
      ]
     },
     "execution_count": 98,
     "metadata": {},
     "output_type": "execute_result"
    }
   ],
   "source": [
    "# did the loss end up going down after a gd step? yes\n",
    "ypred = [mlp(x) for x in xs] # forward pass\n",
    "loss = sum((yout - ygt)**2 for ygt, yout in zip(ys, ypred))\n",
    "loss"
   ]
  },
  {
   "cell_type": "code",
   "execution_count": 99,
   "metadata": {},
   "outputs": [
    {
     "data": {
      "text/plain": [
       "[Value(data=0.9588695293062547),\n",
       " Value(data=-0.12471390247569725),\n",
       " Value(data=0.04013515327400468),\n",
       " Value(data=0.9205090686886619)]"
      ]
     },
     "execution_count": 99,
     "metadata": {},
     "output_type": "execute_result"
    }
   ],
   "source": [
    "ypred"
   ]
  },
  {
   "cell_type": "code",
   "execution_count": 106,
   "metadata": {},
   "outputs": [
    {
     "name": "stdout",
     "output_type": "stream",
     "text": [
      "step: 0, loss: Value(data=4.350902744209016)\n",
      "step: 1, loss: Value(data=3.5266316541213225)\n",
      "step: 2, loss: Value(data=3.1626345391760884)\n",
      "step: 3, loss: Value(data=3.1735157598152797)\n",
      "step: 4, loss: Value(data=2.621252049215856)\n",
      "step: 5, loss: Value(data=3.4983233267592513)\n",
      "step: 6, loss: Value(data=0.6444850469926184)\n",
      "step: 7, loss: Value(data=0.35580843228410375)\n",
      "step: 8, loss: Value(data=0.20673523734952864)\n",
      "step: 9, loss: Value(data=0.15920928982957577)\n",
      "step: 10, loss: Value(data=0.1299029248174464)\n",
      "step: 11, loss: Value(data=0.10939411905149964)\n",
      "step: 12, loss: Value(data=0.09426315450266955)\n",
      "step: 13, loss: Value(data=0.08265932466505595)\n",
      "step: 14, loss: Value(data=0.07349083845153981)\n",
      "step: 15, loss: Value(data=0.0660724892015137)\n",
      "step: 16, loss: Value(data=0.05995288985345816)\n",
      "step: 17, loss: Value(data=0.05482280779768424)\n",
      "step: 18, loss: Value(data=0.05046343066669402)\n",
      "step: 19, loss: Value(data=0.04671565935053446)\n"
     ]
    }
   ],
   "source": [
    "# init the neural net\n",
    "mlp = MLP(3, [4,4,1])\n",
    "# automatic gd:\n",
    "for k in range(20):\n",
    "    # forward pass\n",
    "    ypred = [mlp(x) for x in xs]\n",
    "\n",
    "    # evaluate the loss\n",
    "    loss = sum((yout - ygt)**2 for ygt, yout in zip(ys, ypred))\n",
    "    print(f'step: {k}, loss: {loss}')\n",
    "\n",
    "    # backward pass\n",
    "    for p in mlp.parameters():\n",
    "        p.grad = 0.0\n",
    "    loss.backward()\n",
    "\n",
    "    # update\n",
    "    for p in mlp.parameters():\n",
    "        p.data += -0.1 * p.grad \n"
   ]
  },
  {
   "cell_type": "code",
   "execution_count": 107,
   "metadata": {},
   "outputs": [
    {
     "data": {
      "text/plain": [
       "[Value(data=0.9116954677252946),\n",
       " Value(data=-0.9282730080057586),\n",
       " Value(data=-0.8608814727757773),\n",
       " Value(data=0.87991984788192)]"
      ]
     },
     "execution_count": 107,
     "metadata": {},
     "output_type": "execute_result"
    }
   ],
   "source": [
    "ypred # at the end of training"
   ]
  },
  {
   "attachments": {},
   "cell_type": "markdown",
   "metadata": {},
   "source": [
    "## complex example of training an mlp"
   ]
  },
  {
   "cell_type": "code",
   "execution_count": 6,
   "metadata": {},
   "outputs": [],
   "source": [
    "from sklearn.datasets import make_moons, make_blobs\n",
    "np.random.seed(1337)\n",
    "random.seed(1337)"
   ]
  },
  {
   "cell_type": "code",
   "execution_count": 24,
   "metadata": {},
   "outputs": [
    {
     "name": "stdout",
     "output_type": "stream",
     "text": [
      "num of training examples: 100\n"
     ]
    },
    {
     "data": {
      "image/png": "[encoded data removed]",
      "text/plain": [
       "<Figure size 500x500 with 1 Axes>"
      ]
     },
     "metadata": {},
     "output_type": "display_data"
    }
   ],
   "source": [
    "# dataset creation\n",
    "X, y = make_moons(n_samples=100, noise=0.1)\n",
    "# y has 0s and 1s, we want -1s and 1s\n",
    "y = y*2 - 1\n",
    "# plot:\n",
    "plt.figure(figsize=(5,5))\n",
    "_ = plt.scatter(X[:, 0], X[:, 1], c=y, s=20, cmap='jet')\n",
    "print(f'num of training examples: {X.shape[0]}')"
   ]
  },
  {
   "cell_type": "code",
   "execution_count": 66,
   "metadata": {},
   "outputs": [
    {
     "name": "stdout",
     "output_type": "stream",
     "text": [
      "num of params in model: 337\n"
     ]
    }
   ],
   "source": [
    "# model init\n",
    "model = MLP(2, [16,16,1]) # 2 layer mlp\n",
    "print(f'num of params in model: {len(model.parameters())}')"
   ]
  },
  {
   "cell_type": "code",
   "execution_count": 67,
   "metadata": {},
   "outputs": [
    {
     "data": {
      "image/png": "[encoded data removed]",
      "text/plain": [
       "<Figure size 640x480 with 1 Axes>"
      ]
     },
     "metadata": {},
     "output_type": "display_data"
    }
   ],
   "source": [
    "# visualize decision boundary\n",
    "\n",
    "h = 0.25\n",
    "x_min, x_max = X[:, 0].min() - 1, X[:, 0].max() + 1\n",
    "y_min, y_max = X[:, 1].min() - 1, X[:, 1].max() + 1\n",
    "xx, yy = np.meshgrid(np.arange(x_min, x_max, h),\n",
    "                     np.arange(y_min, y_max, h))\n",
    "Xmesh = np.c_[xx.ravel(), yy.ravel()]\n",
    "inputs = [list(map(Value, xrow)) for xrow in Xmesh]\n",
    "scores = list(map(model, inputs))\n",
    "Z = np.array([s.data > 0 for s in scores])\n",
    "Z = Z.reshape(xx.shape)\n",
    "\n",
    "fig = plt.figure()\n",
    "plt.contourf(xx, yy, Z, cmap=plt.cm.Spectral, alpha=0.8)\n",
    "plt.scatter(X[:, 0], X[:, 1], c=y, s=40, cmap=plt.cm.Spectral)\n",
    "plt.xlim(xx.min(), xx.max())\n",
    "plt.ylim(yy.min(), yy.max())\n",
    "_ = plt.title(\"Decision boundary of untrained model\")"
   ]
  },
  {
   "cell_type": "code",
   "execution_count": 46,
   "metadata": {},
   "outputs": [],
   "source": [
    "# loss function\n",
    "def loss(batch_size=None):\n",
    "    if batch_size == None:\n",
    "        Xb, yb = X, y #take the whole dataset as the batch\n",
    "    else:\n",
    "        ri = np.random.permutation(X.shape[0])[:batch_size] # array of indexes for the batch\n",
    "        Xb, yb = X[ri], y[ri]\n",
    "    inputs = [list(map(Value, xrow)) for xrow in Xb] # make the batch into Values\n",
    "\n",
    "    # forward the model to get scores\n",
    "    scores = list(map(model, inputs)) #model(input) for input in inputs\n",
    "\n",
    "    # svm max-margin loss\n",
    "    losses = [(1+ -yi*scorei).relu() for yi, scorei in zip(yb, scores)]\n",
    "    data_loss = sum(losses) * (1.0 / len(losses))\n",
    "\n",
    "    # L2 reg.\n",
    "    alpha = 1e-4\n",
    "    reg_loss = alpha * sum(p*p for p in model.parameters())\n",
    "    total_loss = data_loss + reg_loss\n",
    "\n",
    "    # accuracy\n",
    "    accuracy = [(yi > 0) == (scorei.data > 0) for yi, scorei in zip(yb, scores)]\n",
    "    \n",
    "    return total_loss, sum(accuracy) / len(accuracy)\n",
    "\n",
    "        "
   ]
  },
  {
   "cell_type": "code",
   "execution_count": 68,
   "metadata": {},
   "outputs": [
    {
     "name": "stdout",
     "output_type": "stream",
     "text": [
      "step 1 with lr 1.000, loss: 0.823, accuracy: 76\n",
      "step 2 with lr 0.991, loss: 0.284, accuracy: 88\n",
      "step 3 with lr 0.982, loss: 0.249, accuracy: 88\n",
      "step 4 with lr 0.973, loss: 0.349, accuracy: 82\n",
      "step 5 with lr 0.964, loss: 0.301, accuracy: 84\n",
      "step 6 with lr 0.955, loss: 0.261, accuracy: 92\n",
      "step 7 with lr 0.946, loss: 0.232, accuracy: 92\n",
      "step 8 with lr 0.937, loss: 0.161, accuracy: 94\n",
      "step 9 with lr 0.928, loss: 0.271, accuracy: 86\n",
      "step 10 with lr 0.919, loss: 0.234, accuracy: 90\n",
      "step 11 with lr 0.910, loss: 0.230, accuracy: 92\n",
      "step 12 with lr 0.901, loss: 0.217, accuracy: 90\n",
      "step 13 with lr 0.892, loss: 0.211, accuracy: 88\n",
      "step 14 with lr 0.883, loss: 0.109, accuracy: 98\n",
      "step 15 with lr 0.874, loss: 0.246, accuracy: 92\n",
      "step 16 with lr 0.865, loss: 0.324, accuracy: 84\n",
      "step 17 with lr 0.856, loss: 0.250, accuracy: 90\n",
      "step 18 with lr 0.847, loss: 0.155, accuracy: 98\n",
      "step 19 with lr 0.838, loss: 0.230, accuracy: 92\n",
      "step 20 with lr 0.829, loss: 0.124, accuracy: 94\n",
      "step 21 with lr 0.820, loss: 0.130, accuracy: 98\n",
      "step 22 with lr 0.811, loss: 0.141, accuracy: 96\n",
      "step 23 with lr 0.802, loss: 0.129, accuracy: 94\n",
      "step 24 with lr 0.793, loss: 0.183, accuracy: 96\n",
      "step 25 with lr 0.784, loss: 0.053, accuracy: 100\n",
      "step 26 with lr 0.775, loss: 0.139, accuracy: 94\n",
      "step 27 with lr 0.766, loss: 0.103, accuracy: 98\n",
      "step 28 with lr 0.757, loss: 0.165, accuracy: 94\n",
      "step 29 with lr 0.748, loss: 0.126, accuracy: 98\n",
      "step 30 with lr 0.739, loss: 0.055, accuracy: 100\n",
      "step 31 with lr 0.730, loss: 0.092, accuracy: 96\n",
      "step 32 with lr 0.721, loss: 0.074, accuracy: 98\n",
      "step 33 with lr 0.712, loss: 0.044, accuracy: 100\n",
      "step 34 with lr 0.703, loss: 0.133, accuracy: 96\n",
      "step 35 with lr 0.694, loss: 0.089, accuracy: 100\n",
      "step 36 with lr 0.685, loss: 0.093, accuracy: 98\n",
      "step 37 with lr 0.676, loss: 0.085, accuracy: 100\n",
      "step 38 with lr 0.667, loss: 0.093, accuracy: 96\n",
      "step 39 with lr 0.658, loss: 0.073, accuracy: 100\n",
      "step 40 with lr 0.649, loss: 0.065, accuracy: 100\n",
      "step 41 with lr 0.640, loss: 0.062, accuracy: 100\n",
      "step 42 with lr 0.631, loss: 0.111, accuracy: 98\n",
      "step 43 with lr 0.622, loss: 0.062, accuracy: 100\n",
      "step 44 with lr 0.613, loss: 0.076, accuracy: 98\n",
      "step 45 with lr 0.604, loss: 0.057, accuracy: 100\n",
      "step 46 with lr 0.595, loss: 0.038, accuracy: 100\n",
      "step 47 with lr 0.586, loss: 0.044, accuracy: 100\n",
      "step 48 with lr 0.577, loss: 0.056, accuracy: 100\n",
      "step 49 with lr 0.568, loss: 0.042, accuracy: 100\n",
      "step 50 with lr 0.559, loss: 0.067, accuracy: 98\n",
      "step 51 with lr 0.550, loss: 0.039, accuracy: 100\n",
      "step 52 with lr 0.541, loss: 0.087, accuracy: 96\n",
      "step 53 with lr 0.532, loss: 0.041, accuracy: 100\n",
      "step 54 with lr 0.523, loss: 0.077, accuracy: 100\n",
      "step 55 with lr 0.514, loss: 0.049, accuracy: 100\n",
      "step 56 with lr 0.505, loss: 0.053, accuracy: 100\n",
      "step 57 with lr 0.496, loss: 0.066, accuracy: 98\n",
      "step 58 with lr 0.487, loss: 0.068, accuracy: 100\n",
      "step 59 with lr 0.478, loss: 0.051, accuracy: 100\n",
      "step 60 with lr 0.469, loss: 0.046, accuracy: 100\n",
      "step 61 with lr 0.460, loss: 0.053, accuracy: 100\n",
      "step 62 with lr 0.451, loss: 0.039, accuracy: 100\n",
      "step 63 with lr 0.442, loss: 0.038, accuracy: 100\n",
      "step 64 with lr 0.433, loss: 0.042, accuracy: 100\n",
      "step 65 with lr 0.424, loss: 0.062, accuracy: 100\n",
      "step 66 with lr 0.415, loss: 0.038, accuracy: 100\n",
      "step 67 with lr 0.406, loss: 0.064, accuracy: 100\n",
      "step 68 with lr 0.397, loss: 0.072, accuracy: 98\n",
      "step 69 with lr 0.388, loss: 0.045, accuracy: 100\n",
      "step 70 with lr 0.379, loss: 0.044, accuracy: 100\n",
      "step 71 with lr 0.370, loss: 0.041, accuracy: 100\n",
      "step 72 with lr 0.361, loss: 0.035, accuracy: 100\n",
      "step 73 with lr 0.352, loss: 0.041, accuracy: 100\n",
      "step 74 with lr 0.343, loss: 0.053, accuracy: 100\n",
      "step 75 with lr 0.334, loss: 0.046, accuracy: 100\n",
      "step 76 with lr 0.325, loss: 0.053, accuracy: 100\n",
      "step 77 with lr 0.316, loss: 0.038, accuracy: 100\n",
      "step 78 with lr 0.307, loss: 0.049, accuracy: 100\n",
      "step 79 with lr 0.298, loss: 0.048, accuracy: 100\n",
      "step 80 with lr 0.289, loss: 0.034, accuracy: 100\n",
      "step 81 with lr 0.280, loss: 0.054, accuracy: 100\n",
      "step 82 with lr 0.271, loss: 0.047, accuracy: 100\n",
      "step 83 with lr 0.262, loss: 0.038, accuracy: 100\n",
      "step 84 with lr 0.253, loss: 0.039, accuracy: 100\n",
      "step 85 with lr 0.244, loss: 0.052, accuracy: 100\n",
      "step 86 with lr 0.235, loss: 0.040, accuracy: 100\n",
      "step 87 with lr 0.226, loss: 0.047, accuracy: 100\n",
      "step 88 with lr 0.217, loss: 0.042, accuracy: 100\n",
      "step 89 with lr 0.208, loss: 0.034, accuracy: 100\n",
      "step 90 with lr 0.199, loss: 0.055, accuracy: 100\n",
      "step 91 with lr 0.190, loss: 0.054, accuracy: 100\n",
      "step 92 with lr 0.181, loss: 0.048, accuracy: 100\n",
      "step 93 with lr 0.172, loss: 0.038, accuracy: 100\n",
      "step 94 with lr 0.163, loss: 0.033, accuracy: 100\n",
      "step 95 with lr 0.154, loss: 0.048, accuracy: 100\n",
      "step 96 with lr 0.145, loss: 0.035, accuracy: 100\n",
      "step 97 with lr 0.136, loss: 0.032, accuracy: 100\n",
      "step 98 with lr 0.127, loss: 0.049, accuracy: 100\n",
      "step 99 with lr 0.118, loss: 0.037, accuracy: 100\n",
      "step 100 with lr 0.109, loss: 0.029, accuracy: 100\n"
     ]
    }
   ],
   "source": [
    "# train loop:\n",
    "for k in range(100):\n",
    "    # forward pass\n",
    "    total_loss, acc = loss(batch_size=50)\n",
    "\n",
    "    # backward pass\n",
    "    for p in model.parameters():\n",
    "        p.grad = 0.0\n",
    "    total_loss.backward()\n",
    "\n",
    "    # update\n",
    "    lr = 1.0 - 0.9* k/100\n",
    "    for p in model.parameters():\n",
    "        p.data -= lr * p.grad\n",
    "\n",
    "    if k%1 == 0:\n",
    "        print(f'step {k+1} with lr {lr:.3f}, loss: {total_loss.data:.3f}, accuracy: {int(acc*100)}')"
   ]
  },
  {
   "cell_type": "code",
   "execution_count": 69,
   "metadata": {},
   "outputs": [
    {
     "data": {
      "image/png": "[encoded data removed]",
      "text/plain": [
       "<Figure size 640x480 with 1 Axes>"
      ]
     },
     "metadata": {},
     "output_type": "display_data"
    }
   ],
   "source": [
    "# visualize decision boundary\n",
    "\n",
    "h = 0.25\n",
    "x_min, x_max = X[:, 0].min() - 1, X[:, 0].max() + 1\n",
    "y_min, y_max = X[:, 1].min() - 1, X[:, 1].max() + 1\n",
    "xx, yy = np.meshgrid(np.arange(x_min, x_max, h),\n",
    "                     np.arange(y_min, y_max, h))\n",
    "Xmesh = np.c_[xx.ravel(), yy.ravel()]\n",
    "inputs = [list(map(Value, xrow)) for xrow in Xmesh]\n",
    "scores = list(map(model, inputs))\n",
    "Z = np.array([s.data > 0 for s in scores])\n",
    "Z = Z.reshape(xx.shape)\n",
    "\n",
    "fig = plt.figure()\n",
    "plt.contourf(xx, yy, Z, cmap=plt.cm.Spectral, alpha=0.8)\n",
    "plt.scatter(X[:, 0], X[:, 1], c=y, s=40, cmap=plt.cm.Spectral)\n",
    "plt.xlim(xx.min(), xx.max())\n",
    "plt.ylim(yy.min(), yy.max())\n",
    "_ = plt.title(\"Decision boundary of trained model\")"
   ]
  },
  {
   "cell_type": "code",
   "execution_count": null,
   "metadata": {},
   "outputs": [],
   "source": []
  }
 ],
 "metadata": {
  "kernelspec": {
   "display_name": "Python 3",
   "language": "python",
   "name": "python3"
  },
  "language_info": {
   "codemirror_mode": {
    "name": "ipython",
    "version": 3
   },
   "file_extension": ".py",
   "mimetype": "text/x-python",
   "name": "python",
   "nbconvert_exporter": "python",
   "pygments_lexer": "ipython3",
   "version": "3.9.6"
  },
  "orig_nbformat": 4
 },
 "nbformat": 4,
 "nbformat_minor": 2
}
